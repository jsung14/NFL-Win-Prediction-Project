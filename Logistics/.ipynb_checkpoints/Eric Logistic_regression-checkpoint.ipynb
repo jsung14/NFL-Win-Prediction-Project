{
 "cells": [
  {
   "cell_type": "code",
   "execution_count": null,
   "metadata": {
    "colab": {
     "base_uri": "https://localhost:8080/"
    },
    "executionInfo": {
     "elapsed": 20540,
     "status": "ok",
     "timestamp": 1701671564968,
     "user": {
      "displayName": "ERIC CHU",
      "userId": "03565077157150936057"
     },
     "user_tz": 480
    },
    "id": "0itCd-g8IRth",
    "outputId": "79ab322f-9832-4eef-e58c-75b3b8fd162c"
   },
   "outputs": [
    {
     "name": "stdout",
     "output_type": "stream",
     "text": [
      "Mounted at /content/drive\n"
     ]
    }
   ],
   "source": [
    "import pandas as pd\n",
    "import numpy as np\n",
    "import seaborn as sns\n",
    "import matplotlib.pyplot as plt\n",
    "from sklearn.model_selection import train_test_split\n",
    "from sklearn.linear_model import LogisticRegressionCV\n",
    "from sklearn.preprocessing import LabelEncoder\n",
    "from sklearn.metrics import accuracy_score, confusion_matrix, classification_report\n",
    "from google.colab import drive\n",
    "drive.mount('/content/drive')"
   ]
  },
  {
   "cell_type": "code",
   "execution_count": null,
   "metadata": {
    "id": "sy11VPbIQmT9"
   },
   "outputs": [],
   "source": [
    "# Constants\n",
    "\n",
    "teams = [\n",
    "    'Arizona Cardinals',\n",
    "    'Atlanta Falcons',\n",
    "    'Baltimore Ravens',\n",
    "    'Buffalo Bills',\n",
    "    'Carolina Panthers',\n",
    "    'Chicago Bears',\n",
    "    'Cincinnati Bengals',\n",
    "    'Cleveland Browns',\n",
    "    'Dallas Cowboys',\n",
    "    'Denver Broncos',\n",
    "    'Detroit Lions',\n",
    "    'Green Bay Packers',\n",
    "    'Houston Texans',\n",
    "    'Indianapolis Colts',\n",
    "    'Jacksonville Jaguars',\n",
    "    'Kansas City Chiefs',\n",
    "    'Las Vegas Raiders',\n",
    "    'Los Angeles Chargers',\n",
    "    'Los Angeles Rams',\n",
    "    'Miami Dolphins',\n",
    "    'Minnesota Vikings',\n",
    "    'New England Patriots',\n",
    "    'New Orleans Saints',\n",
    "    'New York Giants',\n",
    "    'New York Jets',\n",
    "    'Philadelphia Eagles',\n",
    "    'Pittsburgh Steelers',\n",
    "    'San Francisco 49ers',\n",
    "    'Seattle Seahawks',\n",
    "    'Tampa Bay Buccaneers',\n",
    "    'Tennessee Titans',\n",
    "    'Washington Commanders'\n",
    "]\n",
    "\n",
    "train_years = [2015, 2016, 2017, 2018, 2019, 2020]\n",
    "test_years = [2021, 2022]\n",
    "\n"
   ]
  },
  {
   "cell_type": "code",
   "execution_count": null,
   "metadata": {
    "colab": {
     "base_uri": "https://localhost:8080/"
    },
    "executionInfo": {
     "elapsed": 24313,
     "status": "ok",
     "timestamp": 1701648494165,
     "user": {
      "displayName": "Christian Castro",
      "userId": "13233439995211940764"
     },
     "user_tz": 480
    },
    "id": "_26aoscOJwiR",
    "outputId": "46488e1b-f3b2-4ba6-d113-040f9d920ec4"
   },
   "outputs": [
    {
     "name": "stdout",
     "output_type": "stream",
     "text": [
      "Collecting pro-football-reference-web-scraper\n",
      "  Downloading pro-football_reference_web_scraper-0.2.1.tar.gz (36 kB)\n",
      "  Installing build dependencies ... \u001b[?25l\u001b[?25hdone\n",
      "  Getting requirements to build wheel ... \u001b[?25l\u001b[?25hdone\n",
      "  Preparing metadata (pyproject.toml) ... \u001b[?25l\u001b[?25hdone\n",
      "Requirement already satisfied: beautifulsoup4>=4.9.0 in /usr/local/lib/python3.10/dist-packages (from pro-football-reference-web-scraper) (4.11.2)\n",
      "Requirement already satisfied: requests>=2.28.2 in /usr/local/lib/python3.10/dist-packages (from pro-football-reference-web-scraper) (2.31.0)\n",
      "Requirement already satisfied: pandas>=1.5.3 in /usr/local/lib/python3.10/dist-packages (from pro-football-reference-web-scraper) (1.5.3)\n",
      "Collecting haversine>=2.4.0 (from pro-football-reference-web-scraper)\n",
      "  Downloading haversine-2.8.0-py2.py3-none-any.whl (7.7 kB)\n",
      "Requirement already satisfied: soupsieve>1.2 in /usr/local/lib/python3.10/dist-packages (from beautifulsoup4>=4.9.0->pro-football-reference-web-scraper) (2.5)\n",
      "Requirement already satisfied: python-dateutil>=2.8.1 in /usr/local/lib/python3.10/dist-packages (from pandas>=1.5.3->pro-football-reference-web-scraper) (2.8.2)\n",
      "Requirement already satisfied: pytz>=2020.1 in /usr/local/lib/python3.10/dist-packages (from pandas>=1.5.3->pro-football-reference-web-scraper) (2023.3.post1)\n",
      "Requirement already satisfied: numpy>=1.21.0 in /usr/local/lib/python3.10/dist-packages (from pandas>=1.5.3->pro-football-reference-web-scraper) (1.23.5)\n",
      "Requirement already satisfied: charset-normalizer<4,>=2 in /usr/local/lib/python3.10/dist-packages (from requests>=2.28.2->pro-football-reference-web-scraper) (3.3.2)\n",
      "Requirement already satisfied: idna<4,>=2.5 in /usr/local/lib/python3.10/dist-packages (from requests>=2.28.2->pro-football-reference-web-scraper) (3.6)\n",
      "Requirement already satisfied: urllib3<3,>=1.21.1 in /usr/local/lib/python3.10/dist-packages (from requests>=2.28.2->pro-football-reference-web-scraper) (2.0.7)\n",
      "Requirement already satisfied: certifi>=2017.4.17 in /usr/local/lib/python3.10/dist-packages (from requests>=2.28.2->pro-football-reference-web-scraper) (2023.11.17)\n",
      "Requirement already satisfied: six>=1.5 in /usr/local/lib/python3.10/dist-packages (from python-dateutil>=2.8.1->pandas>=1.5.3->pro-football-reference-web-scraper) (1.16.0)\n",
      "Building wheels for collected packages: pro-football-reference-web-scraper\n",
      "  Building wheel for pro-football-reference-web-scraper (pyproject.toml) ... \u001b[?25l\u001b[?25hdone\n",
      "  Created wheel for pro-football-reference-web-scraper: filename=pro_football_reference_web_scraper-0.2.1-py3-none-any.whl size=19389 sha256=1f9359b9357634eaac11fbda6b65622fc69c6136340303f4c8f7ca025799b706\n",
      "  Stored in directory: /root/.cache/pip/wheels/65/38/6d/d8f09f175601dfca3078b7c62be2588f033b90c0d322c38b8e\n",
      "Successfully built pro-football-reference-web-scraper\n",
      "Installing collected packages: haversine, pro-football-reference-web-scraper\n",
      "Successfully installed haversine-2.8.0 pro-football-reference-web-scraper-0.2.1\n"
     ]
    }
   ],
   "source": [
    "!pip install pro-football-reference-web-scraper"
   ]
  },
  {
   "cell_type": "code",
   "execution_count": 268,
   "metadata": {
    "colab": {
     "base_uri": "https://localhost:8080/",
     "height": 214
    },
    "executionInfo": {
     "elapsed": 230,
     "status": "ok",
     "timestamp": 1701691813316,
     "user": {
      "displayName": "ERIC CHU",
      "userId": "03565077157150936057"
     },
     "user_tz": 480
    },
    "id": "mBG5oLRkey5a",
    "outputId": "23f807df-d917-4606-8f0e-313882ad0b5f"
   },
   "outputs": [
    {
     "data": {
      "application/vnd.google.colaboratory.intrinsic+json": {
       "type": "string"
      },
      "text/plain": [
       "\"\\n# Predicting Super Bowl Winners\\n\\nSuperBowl_train = []\\nX_train = pd.read_csv('/content/drive/Shared drives/M148Project/CSVs/new_train_data_with_avgs.csv')\\nX_train = X_train[X_train['Playoff'] != 'None']\\nX_train = X_train[X_train['Playoff'] != 'WildCard']\\nX_train = X_train[X_train['Playoff'] != 'Division']\\nX_train = X_train[X_train['Playoff'] != 'ConfChamp']\\nSuperBowl_train = X_train['Playoff'].apply(lambda x: 'Won' if x == 'SuperBowlW' else 'Lost')\\ny_train = SuperBowl_train\\n\\n\\nSuperBowl_test = []\\nX_test = pd.read_csv('/content/drive/Shared drives/M148Project/CSVs/new_test_data_with_avgs.csv')\\nX_test = X_test[X_test['Playoff'] != 'None']\\nX_test = X_test[X_test['Playoff'] != 'WildCard']\\nX_test = X_test[X_test['Playoff'] != 'Division']\\nX_test = X_test[X_test['Playoff'] != 'ConfChamp']\\nSuperBowl_test = X_test['Playoff'].apply(lambda x: 'Won' if x == 'SuperBowlW' else 'Lost')\\ny_test = SuperBowl_test\\n\""
      ]
     },
     "execution_count": 268,
     "metadata": {},
     "output_type": "execute_result"
    }
   ],
   "source": [
    "'''\n",
    "# Predict Qualified\n",
    "X_train = pd.read_csv('/content/drive/Shared drives/M148Project/CSVs/new_train_data_with_avgs.csv')\n",
    "qualify_train = X_train['Playoff'].apply(lambda x: 'Qualified' if x != 'None' else 'None')\n",
    "y_train = qualify_train\n",
    "\n",
    "X_test = pd.read_csv('/content/drive/Shared drives/M148Project/CSVs/new_test_data_with_avgs.csv')\n",
    "qualify_test = X_test['Playoff'].apply(lambda x: 'Qualified' if x != 'None' else 'None')\n",
    "y_test = qualify_test\n",
    "'''\n",
    "\n",
    "# Predicting Wild Card Winners\n",
    "\n",
    "wildcard_train = []\n",
    "X_train = pd.read_csv('/content/drive/Shared drives/M148Project/CSVs/new_train_data_with_avgs.csv')\n",
    "X_train = X_train[X_train['Playoff'] != 'None']\n",
    "wildcard_train = X_train['Playoff'].apply(lambda x: 'Won' if x != 'WildCard' else 'Lost')\n",
    "y_train = wildcard_train\n",
    "\n",
    "wildcard_test = []\n",
    "X_test = pd.read_csv('/content/drive/Shared drives/M148Project/CSVs/new_test_data_with_avgs.csv')\n",
    "X_test = X_test[X_test['Playoff'] != 'None']\n",
    "wildcard_test = X_test['Playoff'].apply(lambda x: 'Won' if x != 'WildCard' else 'Lost')\n",
    "y_test = wildcard_test\n",
    "\n",
    "\n",
    "'''\n",
    "# Predicting Division Winners\n",
    "\n",
    "division_train = []\n",
    "X_train = pd.read_csv('/content/drive/Shared drives/M148Project/CSVs/new_train_data_with_avgs.csv')\n",
    "X_train = X_train[X_train['Playoff'] != 'None']\n",
    "X_train = X_train[X_train['Playoff'] != 'WildCard']\n",
    "division_train = X_train['Playoff'].apply(lambda x: 'Won' if x != 'Division' else 'Lost')\n",
    "y_train = division_train\n",
    "\n",
    "division_test = []\n",
    "X_test = pd.read_csv('/content/drive/Shared drives/M148Project/CSVs/new_test_data_with_avgs.csv')\n",
    "X_test = X_test[X_test['Playoff'] != 'None']\n",
    "X_test = X_test[X_test['Playoff'] != 'WildCard']\n",
    "division_test = X_test['Playoff'].apply(lambda x: 'Won' if x != 'Division' else 'Lost')\n",
    "y_test = division_test\n",
    "'''\n",
    "\n",
    "'''\n",
    "# Predicting Conference Champ Winners\n",
    "\n",
    "confChamp_train = []\n",
    "X_train = pd.read_csv('/content/drive/Shared drives/M148Project/CSVs/new_train_data_with_avgs.csv')\n",
    "X_train = X_train[X_train['Playoff'] != 'None']\n",
    "X_train = X_train[X_train['Playoff'] != 'WildCard']\n",
    "X_train = X_train[X_train['Playoff'] != 'Division']\n",
    "confChamp_train = X_train['Playoff'].apply(lambda x: 'Won' if x != 'ConfChamp' else 'Lost')\n",
    "y_train = confChamp_train\n",
    "\n",
    "confChamp_test = []\n",
    "X_test = pd.read_csv('/content/drive/Shared drives/M148Project/CSVs/new_test_data_with_avgs.csv')\n",
    "X_test = X_test[X_test['Playoff'] != 'None']\n",
    "X_test = X_test[X_test['Playoff'] != 'WildCard']\n",
    "X_test = X_test[X_test['Playoff'] != 'Division']\n",
    "confChamp_test = X_test['Playoff'].apply(lambda x: 'Won' if x != 'ConfChamp' else 'Lost')\n",
    "y_test = confChamp_test\n",
    "'''\n",
    "\n",
    "'''\n",
    "# Predicting Super Bowl Winners\n",
    "\n",
    "SuperBowl_train = []\n",
    "X_train = pd.read_csv('/content/drive/Shared drives/M148Project/CSVs/new_train_data_with_avgs.csv')\n",
    "X_train = X_train[X_train['Playoff'] != 'None']\n",
    "X_train = X_train[X_train['Playoff'] != 'WildCard']\n",
    "X_train = X_train[X_train['Playoff'] != 'Division']\n",
    "X_train = X_train[X_train['Playoff'] != 'ConfChamp']\n",
    "SuperBowl_train = X_train['Playoff'].apply(lambda x: 'Won' if x == 'SuperBowlW' else 'Lost')\n",
    "y_train = SuperBowl_train\n",
    "\n",
    "\n",
    "SuperBowl_test = []\n",
    "X_test = pd.read_csv('/content/drive/Shared drives/M148Project/CSVs/new_test_data_with_avgs.csv')\n",
    "X_test = X_test[X_test['Playoff'] != 'None']\n",
    "X_test = X_test[X_test['Playoff'] != 'WildCard']\n",
    "X_test = X_test[X_test['Playoff'] != 'Division']\n",
    "X_test = X_test[X_test['Playoff'] != 'ConfChamp']\n",
    "SuperBowl_test = X_test['Playoff'].apply(lambda x: 'Won' if x == 'SuperBowlW' else 'Lost')\n",
    "y_test = SuperBowl_test\n",
    "'''"
   ]
  },
  {
   "cell_type": "code",
   "execution_count": null,
   "metadata": {
    "id": "JdkVq92D0vp_"
   },
   "outputs": [],
   "source": [
    "# Predict Super Bowl Winners from all teams in a given season\n",
    "X_train = pd.read_csv('/content/drive/Shared drives/M148Project/CSVs/new_train_data_with_avgs.csv')\n",
    "SuperBowlW_train = X_train['Playoff'].apply(lambda x: 'Super Bowl Winners' if x == 'SuperBowlW' else 'Lost or DNQ')\n",
    "y_train = SuperBowlW_train\n",
    "\n",
    "X_test = pd.read_csv('/content/drive/Shared drives/M148Project/CSVs/new_test_data_with_avgs.csv')\n",
    "SuperBowlW_test = X_test['Playoff'].apply(lambda x: 'Super Bowl Winners' if x == 'SuperBowlW' else 'Lost or DNQ')\n",
    "y_test = SuperBowlW_test\n",
    "\n"
   ]
  },
  {
   "cell_type": "code",
   "execution_count": 320,
   "metadata": {
    "executionInfo": {
     "elapsed": 272,
     "status": "ok",
     "timestamp": 1701692550412,
     "user": {
      "displayName": "ERIC CHU",
      "userId": "03565077157150936057"
     },
     "user_tz": 480
    },
    "id": "PJY0sN979Nkp"
   },
   "outputs": [],
   "source": [
    "# Predict Data From Postseason teams only\n",
    "\n",
    "X_train = pd.read_csv('/content/drive/Shared drives/M148Project/CSVs/new_train_data_with_avgs.csv')\n",
    "#X_train = X_train[X_train['Playoff'] != 'None']\n",
    "y_train = X_train['Playoff']\n",
    "\n",
    "X_test = pd.read_csv('/content/drive/Shared drives/M148Project/CSVs/new_test_data_with_avgs.csv')\n",
    "#X_test =  X_test[X_test['Playoff'] != 'None']\n",
    "y_test = X_test['Playoff']"
   ]
  },
  {
   "cell_type": "code",
   "execution_count": 321,
   "metadata": {
    "executionInfo": {
     "elapsed": 200,
     "status": "ok",
     "timestamp": 1701692551350,
     "user": {
      "displayName": "ERIC CHU",
      "userId": "03565077157150936057"
     },
     "user_tz": 480
    },
    "id": "p1We2fziiHvP"
   },
   "outputs": [],
   "source": [
    "# Bootstrap Training\n",
    "# Number of bootstrap samples\n",
    "num_samples = 64\n",
    "\n",
    "# Generate bootstrap samples\n",
    "bootstrapped_samples = pd.DataFrame()\n",
    "for _ in range(num_samples):\n",
    "    # Randomly sample with replacement\n",
    "    bootstrap_sample = X_train.sample(n=len(X_train), replace=True)\n",
    "    bootstrapped_samples = pd.concat([bootstrapped_samples, bootstrap_sample])\n",
    "\n",
    "X_train = bootstrapped_samples\n",
    "X_train = X_train[X_train['Playoff'] != 'None']\n",
    "X_train = X_train[X_train['Playoff'] != 'WildCard']\n",
    "X_train = X_train[X_train['Playoff'] != 'Division']\n",
    "X_train = X_train[X_train['Playoff'] != 'ConfChamp']\n",
    "SuperBowl_train = X_train['Playoff'].apply(lambda x: 'Won' if x != 'SuperBowl' else 'Lost')\n",
    "y_train = SuperBowl_train"
   ]
  },
  {
   "cell_type": "code",
   "execution_count": 322,
   "metadata": {
    "executionInfo": {
     "elapsed": 212,
     "status": "ok",
     "timestamp": 1701692552745,
     "user": {
      "displayName": "ERIC CHU",
      "userId": "03565077157150936057"
     },
     "user_tz": 480
    },
    "id": "44I6E09OstZC"
   },
   "outputs": [],
   "source": [
    "# Bootstrap Test\n",
    "# Number of bootstrap samples\n",
    "num_samples = 64\n",
    "\n",
    "# Generate bootstrap samples\n",
    "bootstrapped_samples = pd.DataFrame()\n",
    "for _ in range(num_samples):\n",
    "    # Randomly sample with replacement\n",
    "    bootstrap_sample = X_test.sample(n=len(X_test), replace=True)\n",
    "    bootstrapped_samples = pd.concat([bootstrapped_samples, bootstrap_sample])\n",
    "\n",
    "X_test = bootstrapped_samples\n",
    "X_test = X_test[X_test['Playoff'] != 'None']\n",
    "X_test = X_test[X_test['Playoff'] != 'WildCard']\n",
    "X_test = X_test[X_test['Playoff'] != 'Division']\n",
    "X_test = X_test[X_test['Playoff'] != 'ConfChamp']\n",
    "SuperBowl_test = X_test['Playoff'].apply(lambda x: 'Won' if x != 'SuperBowl' else 'Lost')\n",
    "y_test = SuperBowl_test"
   ]
  },
  {
   "cell_type": "code",
   "execution_count": 323,
   "metadata": {
    "colab": {
     "base_uri": "https://localhost:8080/"
    },
    "executionInfo": {
     "elapsed": 1484,
     "status": "ok",
     "timestamp": 1701692555980,
     "user": {
      "displayName": "ERIC CHU",
      "userId": "03565077157150936057"
     },
     "user_tz": 480
    },
    "id": "cd007zC_IVcB",
    "outputId": "f4c6cc57-a29a-46d3-fa53-a4e13d1a9468"
   },
   "outputs": [
    {
     "name": "stdout",
     "output_type": "stream",
     "text": [
      "Accuracy: 0.77431906614786\n",
      "Confusion Matrix:\n",
      "[[133   0]\n",
      " [ 58  66]]\n",
      "Classification Report:\n",
      "              precision    recall  f1-score   support\n",
      "\n",
      "           0       0.70      1.00      0.82       133\n",
      "           1       1.00      0.53      0.69       124\n",
      "\n",
      "    accuracy                           0.77       257\n",
      "   macro avg       0.85      0.77      0.76       257\n",
      "weighted avg       0.84      0.77      0.76       257\n",
      "\n"
     ]
    }
   ],
   "source": [
    "# Preprocess the data\n",
    "X_train = X_train.drop([\"Playoff\", 'Team', 'Year', 'Win_Percentage', 'Total_Rest_Days'], axis = 1)\n",
    "X_test = X_test.drop([\"Playoff\", 'Team', 'Year', 'Win_Percentage', 'Total_Rest_Days'], axis = 1)\n",
    "\n",
    "# Use LabelEncoder to convert categorical labels into numerical values\n",
    "label_encoder = LabelEncoder()\n",
    "y_train = label_encoder.fit_transform(y_train)\n",
    "y_test = label_encoder.fit_transform(y_test)\n",
    "\n",
    "# Step 3: Train the logistic regression model\n",
    "model = LogisticRegressionCV(max_iter=1000)\n",
    "model.fit(X_train, y_train)\n",
    "\n",
    "# Step 4: Make predictions on the test set\n",
    "y_pred = model.predict(X_test)\n",
    "\n",
    "# Step 5: Evaluate the model\n",
    "accuracy = accuracy_score(y_test, y_pred)\n",
    "conf_matrix = confusion_matrix(y_test, y_pred)\n",
    "class_report = classification_report(y_test, y_pred)\n",
    "\n",
    "print(f'Accuracy: {accuracy}')\n",
    "print(f'Confusion Matrix:\\n{conf_matrix}')\n",
    "print(f'Classification Report:\\n{class_report}')\n",
    "\n",
    "\n",
    "# Step 6: Convert predictions back to original strings\n",
    "y_test_original = label_encoder.inverse_transform(y_test)\n",
    "y_pred_original = label_encoder.inverse_transform(y_pred)\n",
    "\n",
    "\n"
   ]
  },
  {
   "cell_type": "code",
   "execution_count": null,
   "metadata": {
    "colab": {
     "base_uri": "https://localhost:8080/",
     "height": 966
    },
    "executionInfo": {
     "elapsed": 10556,
     "status": "ok",
     "timestamp": 1701681182267,
     "user": {
      "displayName": "ERIC CHU",
      "userId": "03565077157150936057"
     },
     "user_tz": 480
    },
    "id": "W4hib3PkABiq",
    "outputId": "da03ff3d-6c51-4d7b-8953-4b9b682756a2"
   },
   "outputs": [
    {
     "name": "stderr",
     "output_type": "stream",
     "text": [
      "/usr/local/lib/python3.10/dist-packages/sklearn/linear_model/_logistic.py:458: ConvergenceWarning: lbfgs failed to converge (status=1):\n",
      "STOP: TOTAL NO. of ITERATIONS REACHED LIMIT.\n",
      "\n",
      "Increase the number of iterations (max_iter) or scale the data as shown in:\n",
      "    https://scikit-learn.org/stable/modules/preprocessing.html\n",
      "Please also refer to the documentation for alternative solver options:\n",
      "    https://scikit-learn.org/stable/modules/linear_model.html#logistic-regression\n",
      "  n_iter_i = _check_optimize_result(\n",
      "/usr/local/lib/python3.10/dist-packages/sklearn/linear_model/_logistic.py:458: ConvergenceWarning: lbfgs failed to converge (status=1):\n",
      "STOP: TOTAL NO. of ITERATIONS REACHED LIMIT.\n",
      "\n",
      "Increase the number of iterations (max_iter) or scale the data as shown in:\n",
      "    https://scikit-learn.org/stable/modules/preprocessing.html\n",
      "Please also refer to the documentation for alternative solver options:\n",
      "    https://scikit-learn.org/stable/modules/linear_model.html#logistic-regression\n",
      "  n_iter_i = _check_optimize_result(\n",
      "/usr/local/lib/python3.10/dist-packages/sklearn/linear_model/_logistic.py:458: ConvergenceWarning: lbfgs failed to converge (status=1):\n",
      "STOP: TOTAL NO. of ITERATIONS REACHED LIMIT.\n",
      "\n",
      "Increase the number of iterations (max_iter) or scale the data as shown in:\n",
      "    https://scikit-learn.org/stable/modules/preprocessing.html\n",
      "Please also refer to the documentation for alternative solver options:\n",
      "    https://scikit-learn.org/stable/modules/linear_model.html#logistic-regression\n",
      "  n_iter_i = _check_optimize_result(\n",
      "/usr/local/lib/python3.10/dist-packages/sklearn/linear_model/_logistic.py:458: ConvergenceWarning: lbfgs failed to converge (status=1):\n",
      "STOP: TOTAL NO. of ITERATIONS REACHED LIMIT.\n",
      "\n",
      "Increase the number of iterations (max_iter) or scale the data as shown in:\n",
      "    https://scikit-learn.org/stable/modules/preprocessing.html\n",
      "Please also refer to the documentation for alternative solver options:\n",
      "    https://scikit-learn.org/stable/modules/linear_model.html#logistic-regression\n",
      "  n_iter_i = _check_optimize_result(\n",
      "/usr/local/lib/python3.10/dist-packages/sklearn/linear_model/_logistic.py:458: ConvergenceWarning: lbfgs failed to converge (status=1):\n",
      "STOP: TOTAL NO. of ITERATIONS REACHED LIMIT.\n",
      "\n",
      "Increase the number of iterations (max_iter) or scale the data as shown in:\n",
      "    https://scikit-learn.org/stable/modules/preprocessing.html\n",
      "Please also refer to the documentation for alternative solver options:\n",
      "    https://scikit-learn.org/stable/modules/linear_model.html#logistic-regression\n",
      "  n_iter_i = _check_optimize_result(\n",
      "/usr/local/lib/python3.10/dist-packages/sklearn/linear_model/_logistic.py:458: ConvergenceWarning: lbfgs failed to converge (status=1):\n",
      "STOP: TOTAL NO. of ITERATIONS REACHED LIMIT.\n",
      "\n",
      "Increase the number of iterations (max_iter) or scale the data as shown in:\n",
      "    https://scikit-learn.org/stable/modules/preprocessing.html\n",
      "Please also refer to the documentation for alternative solver options:\n",
      "    https://scikit-learn.org/stable/modules/linear_model.html#logistic-regression\n",
      "  n_iter_i = _check_optimize_result(\n"
     ]
    },
    {
     "data": {
      "application/vnd.google.colaboratory.intrinsic+json": {
       "type": "string"
      },
      "text/plain": [
       "'\\n# Predict the probability for new numerical features\\nnew_data = np.array([[3, 5]])  # Replace this with your own feature values\\nnew_probability = model.predict_proba(new_data)\\n\\n#Display the probability estimates for the new data\\nfor i, class_name in enumerate(model.classes_):\\n    print(f\"Probability of category {class_name} for new data: {new_probability[0, i]}\")\\n    '"
      ]
     },
     "execution_count": 204,
     "metadata": {},
     "output_type": "execute_result"
    }
   ],
   "source": [
    "# Get Probabilites of Each Projected Standing\n",
    "\n",
    "# Preprocess the data\n",
    "X_train = X_train.drop([\"Playoff\", 'Team', 'Year', 'Win_Percentage', 'Total_Rest_Days'], axis = 1)\n",
    "X_test = X_test.drop([\"Playoff\", 'Team', 'Year', 'Win_Percentage', 'Total_Rest_Days'], axis = 1)\n",
    "\n",
    "# Use LabelEncoder to convert categorical labels into numerical values\n",
    "label_encoder = LabelEncoder()\n",
    "y_train = label_encoder.fit_transform(y_train)\n",
    "y_test = label_encoder.fit_transform(y_test)\n",
    "\n",
    "# Step 3: Train the logistic regression model\n",
    "model = LogisticRegressionCV(max_iter=1000)\n",
    "model.fit(X_train, y_train)\n",
    "\n",
    "# Predict the probability estimates for each class on the test set\n",
    "probability_estimates = model.predict_proba(X_test)\n",
    "\n",
    "'''\n",
    "# Predict the probability for new numerical features\n",
    "new_data = np.array([[3, 5]])  # Replace this with your own feature values\n",
    "new_probability = model.predict_proba(new_data)\n",
    "\n",
    "#Display the probability estimates for the new data\n",
    "for i, class_name in enumerate(model.classes_):\n",
    "    print(f\"Probability of category {class_name} for new data: {new_probability[0, i]}\")\n",
    "    '''"
   ]
  },
  {
   "cell_type": "code",
   "execution_count": null,
   "metadata": {
    "id": "HlEb176bGECH"
   },
   "outputs": [],
   "source": [
    "for i, probs in enumerate(probability_estimates):\n",
    "    print(f\"Row {i + 1}: Probability estimates for each class - {probs}\")\n"
   ]
  },
  {
   "cell_type": "code",
   "execution_count": null,
   "metadata": {
    "id": "Z41QnLI2Dyfq"
   },
   "outputs": [],
   "source": [
    "# Turn Estimates into a CSV\n",
    "\n",
    "prob_est = pd.DataFrame(data=probability_estimates, columns=model.classes_)\n",
    "prob_est.to_csv('probability_estimates.csv', index=False)\n",
    "!cp probability_estimates.csv \"/content/drive/Shared drives/M148Project/Logistics/probability_estimates.csv\""
   ]
  },
  {
   "cell_type": "code",
   "execution_count": null,
   "metadata": {
    "colab": {
     "base_uri": "https://localhost:8080/",
     "height": 232
    },
    "executionInfo": {
     "elapsed": 5,
     "status": "error",
     "timestamp": 1701678846631,
     "user": {
      "displayName": "ERIC CHU",
      "userId": "03565077157150936057"
     },
     "user_tz": 480
    },
    "id": "w82uBLyPhGSH",
    "outputId": "f3ada36e-ffdc-481c-cf9a-74e662810206"
   },
   "outputs": [
    {
     "ename": "TypeError",
     "evalue": "ignored",
     "output_type": "error",
     "traceback": [
      "\u001b[0;31m---------------------------------------------------------------------------\u001b[0m",
      "\u001b[0;31mTypeError\u001b[0m                                 Traceback (most recent call last)",
      "\u001b[0;32m<ipython-input-167-7e01bf04dba0>\u001b[0m in \u001b[0;36m<cell line: 2>\u001b[0;34m()\u001b[0m\n\u001b[1;32m      1\u001b[0m \u001b[0;31m# Print the mapping between labels and integers\u001b[0m\u001b[0;34m\u001b[0m\u001b[0;34m\u001b[0m\u001b[0m\n\u001b[0;32m----> 2\u001b[0;31m \u001b[0mlabel_mapping\u001b[0m \u001b[0;34m=\u001b[0m \u001b[0mdict\u001b[0m\u001b[0;34m(\u001b[0m\u001b[0mzip\u001b[0m\u001b[0;34m(\u001b[0m\u001b[0mlabel_encoder\u001b[0m\u001b[0;34m.\u001b[0m\u001b[0mclasses_\u001b[0m\u001b[0;34m,\u001b[0m \u001b[0mlabel_encoder\u001b[0m\u001b[0;34m.\u001b[0m\u001b[0mtransform\u001b[0m\u001b[0;34m(\u001b[0m\u001b[0mlabel_encoder\u001b[0m\u001b[0;34m.\u001b[0m\u001b[0mclasses_\u001b[0m\u001b[0;34m)\u001b[0m\u001b[0;34m)\u001b[0m\u001b[0;34m)\u001b[0m\u001b[0;34m\u001b[0m\u001b[0;34m\u001b[0m\u001b[0m\n\u001b[0m\u001b[1;32m      3\u001b[0m \u001b[0mprint\u001b[0m\u001b[0;34m(\u001b[0m\u001b[0;34m\"Label Mapping:\"\u001b[0m\u001b[0;34m)\u001b[0m\u001b[0;34m\u001b[0m\u001b[0;34m\u001b[0m\u001b[0m\n\u001b[1;32m      4\u001b[0m \u001b[0mprint\u001b[0m\u001b[0;34m(\u001b[0m\u001b[0mlabel_mapping\u001b[0m\u001b[0;34m)\u001b[0m\u001b[0;34m\u001b[0m\u001b[0;34m\u001b[0m\u001b[0m\n",
      "\u001b[0;31mTypeError\u001b[0m: 'dict' object is not callable"
     ]
    }
   ],
   "source": [
    "# Print the mapping between labels and integers\n",
    "label_mapping = dict(zip(label_encoder.classes_, label_encoder.transform(label_encoder.classes_)))\n",
    "print(\"Label Mapping:\")\n",
    "print(label_mapping)"
   ]
  },
  {
   "cell_type": "code",
   "execution_count": 243,
   "metadata": {
    "colab": {
     "base_uri": "https://localhost:8080/"
    },
    "executionInfo": {
     "elapsed": 358,
     "status": "ok",
     "timestamp": 1701691561607,
     "user": {
      "displayName": "ERIC CHU",
      "userId": "03565077157150936057"
     },
     "user_tz": 480
    },
    "id": "WEwiZ7a4Nm_o",
    "outputId": "4de21887-052c-4679-d853-f2cd05fb4d17"
   },
   "outputs": [
    {
     "name": "stdout",
     "output_type": "stream",
     "text": [
      "Test Set Accuracy: 0.24375\n",
      "Confusion Matrix (with string labels):\n",
      "[[ 32  70   0   0  32]\n",
      " [  0  80  49  41 148]\n",
      " [ 45  41   0   0   0]\n",
      " [ 26   0   0   0  49]\n",
      " [ 45 269  32   0 161]]\n"
     ]
    }
   ],
   "source": [
    "# Step 7: Evalueate Model\n",
    "accuracy = accuracy_score(y_test, y_pred)\n",
    "conf_matrix = confusion_matrix(y_test_original, y_pred_original)\n",
    "\n",
    "# Step 8: Print Results\n",
    "print(f'Test Set Accuracy: {accuracy}')\n",
    "print(f'Confusion Matrix (with string labels):\\n{conf_matrix}')\n"
   ]
  },
  {
   "cell_type": "code",
   "execution_count": null,
   "metadata": {
    "id": "PhIdmHU2zil6"
   },
   "outputs": [],
   "source": [
    "print(X_test)"
   ]
  },
  {
   "cell_type": "code",
   "execution_count": null,
   "metadata": {
    "colab": {
     "base_uri": "https://localhost:8080/",
     "height": 399
    },
    "executionInfo": {
     "elapsed": 413,
     "status": "error",
     "timestamp": 1701678983943,
     "user": {
      "displayName": "ERIC CHU",
      "userId": "03565077157150936057"
     },
     "user_tz": 480
    },
    "id": "s1u9X66jpt0k",
    "outputId": "52cd3bc0-b6b0-4718-f54f-f7006444b42d"
   },
   "outputs": [
    {
     "ename": "ValueError",
     "evalue": "ignored",
     "output_type": "error",
     "traceback": [
      "\u001b[0;31m---------------------------------------------------------------------------\u001b[0m",
      "\u001b[0;31mValueError\u001b[0m                                Traceback (most recent call last)",
      "\u001b[0;32m<ipython-input-178-93068964fb42>\u001b[0m in \u001b[0;36m<cell line: 19>\u001b[0;34m()\u001b[0m\n\u001b[1;32m     17\u001b[0m '''\n\u001b[1;32m     18\u001b[0m \u001b[0;34m\u001b[0m\u001b[0m\n\u001b[0;32m---> 19\u001b[0;31m \u001b[0mdf_projections\u001b[0m \u001b[0;34m=\u001b[0m \u001b[0mpd\u001b[0m\u001b[0;34m.\u001b[0m\u001b[0mDataFrame\u001b[0m\u001b[0;34m(\u001b[0m\u001b[0mdict\u001b[0m\u001b[0;34m)\u001b[0m\u001b[0;34m\u001b[0m\u001b[0;34m\u001b[0m\u001b[0m\n\u001b[0m\u001b[1;32m     20\u001b[0m \u001b[0;34m\u001b[0m\u001b[0m\n\u001b[1;32m     21\u001b[0m \u001b[0mprint\u001b[0m\u001b[0;34m(\u001b[0m\u001b[0mdf_projections\u001b[0m\u001b[0;34m.\u001b[0m\u001b[0mhead\u001b[0m\u001b[0;34m(\u001b[0m\u001b[0;34m)\u001b[0m\u001b[0;34m)\u001b[0m\u001b[0;34m\u001b[0m\u001b[0;34m\u001b[0m\u001b[0m\n",
      "\u001b[0;32m/usr/local/lib/python3.10/dist-packages/pandas/core/frame.py\u001b[0m in \u001b[0;36m__init__\u001b[0;34m(self, data, index, columns, dtype, copy)\u001b[0m\n\u001b[1;32m    662\u001b[0m         \u001b[0;32melif\u001b[0m \u001b[0misinstance\u001b[0m\u001b[0;34m(\u001b[0m\u001b[0mdata\u001b[0m\u001b[0;34m,\u001b[0m \u001b[0mdict\u001b[0m\u001b[0;34m)\u001b[0m\u001b[0;34m:\u001b[0m\u001b[0;34m\u001b[0m\u001b[0;34m\u001b[0m\u001b[0m\n\u001b[1;32m    663\u001b[0m             \u001b[0;31m# GH#38939 de facto copy defaults to False only in non-dict cases\u001b[0m\u001b[0;34m\u001b[0m\u001b[0;34m\u001b[0m\u001b[0m\n\u001b[0;32m--> 664\u001b[0;31m             \u001b[0mmgr\u001b[0m \u001b[0;34m=\u001b[0m \u001b[0mdict_to_mgr\u001b[0m\u001b[0;34m(\u001b[0m\u001b[0mdata\u001b[0m\u001b[0;34m,\u001b[0m \u001b[0mindex\u001b[0m\u001b[0;34m,\u001b[0m \u001b[0mcolumns\u001b[0m\u001b[0;34m,\u001b[0m \u001b[0mdtype\u001b[0m\u001b[0;34m=\u001b[0m\u001b[0mdtype\u001b[0m\u001b[0;34m,\u001b[0m \u001b[0mcopy\u001b[0m\u001b[0;34m=\u001b[0m\u001b[0mcopy\u001b[0m\u001b[0;34m,\u001b[0m \u001b[0mtyp\u001b[0m\u001b[0;34m=\u001b[0m\u001b[0mmanager\u001b[0m\u001b[0;34m)\u001b[0m\u001b[0;34m\u001b[0m\u001b[0;34m\u001b[0m\u001b[0m\n\u001b[0m\u001b[1;32m    665\u001b[0m         \u001b[0;32melif\u001b[0m \u001b[0misinstance\u001b[0m\u001b[0;34m(\u001b[0m\u001b[0mdata\u001b[0m\u001b[0;34m,\u001b[0m \u001b[0mma\u001b[0m\u001b[0;34m.\u001b[0m\u001b[0mMaskedArray\u001b[0m\u001b[0;34m)\u001b[0m\u001b[0;34m:\u001b[0m\u001b[0;34m\u001b[0m\u001b[0;34m\u001b[0m\u001b[0m\n\u001b[1;32m    666\u001b[0m             \u001b[0;32mimport\u001b[0m \u001b[0mnumpy\u001b[0m\u001b[0;34m.\u001b[0m\u001b[0mma\u001b[0m\u001b[0;34m.\u001b[0m\u001b[0mmrecords\u001b[0m \u001b[0;32mas\u001b[0m \u001b[0mmrecords\u001b[0m\u001b[0;34m\u001b[0m\u001b[0;34m\u001b[0m\u001b[0m\n",
      "\u001b[0;32m/usr/local/lib/python3.10/dist-packages/pandas/core/internals/construction.py\u001b[0m in \u001b[0;36mdict_to_mgr\u001b[0;34m(data, index, columns, dtype, typ, copy)\u001b[0m\n\u001b[1;32m    491\u001b[0m             \u001b[0marrays\u001b[0m \u001b[0;34m=\u001b[0m \u001b[0;34m[\u001b[0m\u001b[0mx\u001b[0m\u001b[0;34m.\u001b[0m\u001b[0mcopy\u001b[0m\u001b[0;34m(\u001b[0m\u001b[0;34m)\u001b[0m \u001b[0;32mif\u001b[0m \u001b[0mhasattr\u001b[0m\u001b[0;34m(\u001b[0m\u001b[0mx\u001b[0m\u001b[0;34m,\u001b[0m \u001b[0;34m\"dtype\"\u001b[0m\u001b[0;34m)\u001b[0m \u001b[0;32melse\u001b[0m \u001b[0mx\u001b[0m \u001b[0;32mfor\u001b[0m \u001b[0mx\u001b[0m \u001b[0;32min\u001b[0m \u001b[0marrays\u001b[0m\u001b[0;34m]\u001b[0m\u001b[0;34m\u001b[0m\u001b[0;34m\u001b[0m\u001b[0m\n\u001b[1;32m    492\u001b[0m \u001b[0;34m\u001b[0m\u001b[0m\n\u001b[0;32m--> 493\u001b[0;31m     \u001b[0;32mreturn\u001b[0m \u001b[0marrays_to_mgr\u001b[0m\u001b[0;34m(\u001b[0m\u001b[0marrays\u001b[0m\u001b[0;34m,\u001b[0m \u001b[0mcolumns\u001b[0m\u001b[0;34m,\u001b[0m \u001b[0mindex\u001b[0m\u001b[0;34m,\u001b[0m \u001b[0mdtype\u001b[0m\u001b[0;34m=\u001b[0m\u001b[0mdtype\u001b[0m\u001b[0;34m,\u001b[0m \u001b[0mtyp\u001b[0m\u001b[0;34m=\u001b[0m\u001b[0mtyp\u001b[0m\u001b[0;34m,\u001b[0m \u001b[0mconsolidate\u001b[0m\u001b[0;34m=\u001b[0m\u001b[0mcopy\u001b[0m\u001b[0;34m)\u001b[0m\u001b[0;34m\u001b[0m\u001b[0;34m\u001b[0m\u001b[0m\n\u001b[0m\u001b[1;32m    494\u001b[0m \u001b[0;34m\u001b[0m\u001b[0m\n\u001b[1;32m    495\u001b[0m \u001b[0;34m\u001b[0m\u001b[0m\n",
      "\u001b[0;32m/usr/local/lib/python3.10/dist-packages/pandas/core/internals/construction.py\u001b[0m in \u001b[0;36marrays_to_mgr\u001b[0;34m(arrays, columns, index, dtype, verify_integrity, typ, consolidate)\u001b[0m\n\u001b[1;32m    116\u001b[0m         \u001b[0;31m# figure out the index, if necessary\u001b[0m\u001b[0;34m\u001b[0m\u001b[0;34m\u001b[0m\u001b[0m\n\u001b[1;32m    117\u001b[0m         \u001b[0;32mif\u001b[0m \u001b[0mindex\u001b[0m \u001b[0;32mis\u001b[0m \u001b[0;32mNone\u001b[0m\u001b[0;34m:\u001b[0m\u001b[0;34m\u001b[0m\u001b[0;34m\u001b[0m\u001b[0m\n\u001b[0;32m--> 118\u001b[0;31m             \u001b[0mindex\u001b[0m \u001b[0;34m=\u001b[0m \u001b[0m_extract_index\u001b[0m\u001b[0;34m(\u001b[0m\u001b[0marrays\u001b[0m\u001b[0;34m)\u001b[0m\u001b[0;34m\u001b[0m\u001b[0;34m\u001b[0m\u001b[0m\n\u001b[0m\u001b[1;32m    119\u001b[0m         \u001b[0;32melse\u001b[0m\u001b[0;34m:\u001b[0m\u001b[0;34m\u001b[0m\u001b[0;34m\u001b[0m\u001b[0m\n\u001b[1;32m    120\u001b[0m             \u001b[0mindex\u001b[0m \u001b[0;34m=\u001b[0m \u001b[0mensure_index\u001b[0m\u001b[0;34m(\u001b[0m\u001b[0mindex\u001b[0m\u001b[0;34m)\u001b[0m\u001b[0;34m\u001b[0m\u001b[0;34m\u001b[0m\u001b[0m\n",
      "\u001b[0;32m/usr/local/lib/python3.10/dist-packages/pandas/core/internals/construction.py\u001b[0m in \u001b[0;36m_extract_index\u001b[0;34m(data)\u001b[0m\n\u001b[1;32m    664\u001b[0m             \u001b[0mlengths\u001b[0m \u001b[0;34m=\u001b[0m \u001b[0mlist\u001b[0m\u001b[0;34m(\u001b[0m\u001b[0mset\u001b[0m\u001b[0;34m(\u001b[0m\u001b[0mraw_lengths\u001b[0m\u001b[0;34m)\u001b[0m\u001b[0;34m)\u001b[0m\u001b[0;34m\u001b[0m\u001b[0;34m\u001b[0m\u001b[0m\n\u001b[1;32m    665\u001b[0m             \u001b[0;32mif\u001b[0m \u001b[0mlen\u001b[0m\u001b[0;34m(\u001b[0m\u001b[0mlengths\u001b[0m\u001b[0;34m)\u001b[0m \u001b[0;34m>\u001b[0m \u001b[0;36m1\u001b[0m\u001b[0;34m:\u001b[0m\u001b[0;34m\u001b[0m\u001b[0;34m\u001b[0m\u001b[0m\n\u001b[0;32m--> 666\u001b[0;31m                 \u001b[0;32mraise\u001b[0m \u001b[0mValueError\u001b[0m\u001b[0;34m(\u001b[0m\u001b[0;34m\"All arrays must be of the same length\"\u001b[0m\u001b[0;34m)\u001b[0m\u001b[0;34m\u001b[0m\u001b[0;34m\u001b[0m\u001b[0m\n\u001b[0m\u001b[1;32m    667\u001b[0m \u001b[0;34m\u001b[0m\u001b[0m\n\u001b[1;32m    668\u001b[0m             \u001b[0;32mif\u001b[0m \u001b[0mhave_dicts\u001b[0m\u001b[0;34m:\u001b[0m\u001b[0;34m\u001b[0m\u001b[0;34m\u001b[0m\u001b[0m\n",
      "\u001b[0;31mValueError\u001b[0m: All arrays must be of the same length"
     ]
    }
   ],
   "source": [
    "# Step 8: Print true class and predicted class for each sample\n",
    "\n",
    "\n",
    "x_teams = np.repeat(teams, 2)\n",
    "years = np.resize([2021, 2022], 64)\n",
    "\n",
    "\n",
    "\n",
    "dict = {'Team' : x_teams,\n",
    "        'Year' : years,\n",
    "        'Projected' : probability_estimates\n",
    "        'Actual' : y_test_original}\n",
    "\n",
    "'''\n",
    "dict = {'Projected': y_pred_original,\n",
    "        'Actual': y_test_original}\n",
    "'''\n",
    "\n",
    "df_projections = pd.DataFrame(dict)\n",
    "\n",
    "print(df_projections.head())\n",
    "\n",
    "df_projections.to_csv('SuperBowlW.csv')\n",
    "!cp SuperBowlW.csv \"/content/drive/Shared drives/M148Project/Logistics/SuperBowlW.csv\""
   ]
  },
  {
   "cell_type": "code",
   "execution_count": 319,
   "metadata": {
    "colab": {
     "base_uri": "https://localhost:8080/",
     "height": 472
    },
    "executionInfo": {
     "elapsed": 1600,
     "status": "ok",
     "timestamp": 1701692510460,
     "user": {
      "displayName": "ERIC CHU",
      "userId": "03565077157150936057"
     },
     "user_tz": 480
    },
    "id": "yPgw2FqXQYRJ",
    "outputId": "17b97abb-1592-4c0e-b9f0-7d3593030c89"
   },
   "outputs": [
    {
     "data": {
      "image/png": "[encoded data removed]",
      "text/plain": [
       "<Figure size 640x480 with 2 Axes>"
      ]
     },
     "metadata": {},
     "output_type": "display_data"
    }
   ],
   "source": [
    "# Heat map\n",
    "\n",
    "qualified_labels = ['Lost', 'Win']\n",
    "\n",
    "sns.heatmap(conf_matrix, annot=True, fmt='d', cmap='Blues', xticklabels=qualified_labels, yticklabels=qualified_labels)\n",
    "plt.xlabel('Predicted')\n",
    "plt.ylabel('Actual')\n",
    "plt.title('Super Bowl')\n",
    "plt.show()\n",
    "\n"
   ]
  },
  {
   "cell_type": "code",
   "execution_count": null,
   "metadata": {
    "colab": {
     "base_uri": "https://localhost:8080/"
    },
    "executionInfo": {
     "elapsed": 192,
     "status": "ok",
     "timestamp": 1701655340326,
     "user": {
      "displayName": "ERIC CHU",
      "userId": "03565077157150936057"
     },
     "user_tz": 480
    },
    "id": "YJlIfcxfiwdz",
    "outputId": "8ceddc5b-e105-446b-cc53-5f7507e681ff"
   },
   "outputs": [
    {
     "name": "stdout",
     "output_type": "stream",
     "text": [
      "   Projected Finish Actual Finish\n",
      "0              None      WildCard\n",
      "1              None          None\n",
      "2              None          None\n",
      "3              None          None\n",
      "4          Division          None\n",
      "..              ...           ...\n",
      "59             None      WildCard\n",
      "60         Division      Division\n",
      "61             None          None\n",
      "62             None          None\n",
      "63             None          None\n",
      "\n",
      "[64 rows x 2 columns]\n"
     ]
    }
   ],
   "source": [
    "# Step 8: Print true class and predicted class for each sample\n",
    "\n",
    "pred_class = y_pred_original\n",
    "true_class = y_test_original\n",
    "\n",
    "dict = {'Projected Finish' : pred_class,\n",
    "        'Actual Finish': true_class}\n",
    "\n",
    "df_projection = pd.DataFrame(dict)\n",
    "\n",
    "print(df_projection)"
   ]
  },
  {
   "cell_type": "code",
   "execution_count": null,
   "metadata": {
    "colab": {
     "base_uri": "https://localhost:8080/"
    },
    "executionInfo": {
     "elapsed": 227,
     "status": "ok",
     "timestamp": 1701654478603,
     "user": {
      "displayName": "Christian Castro",
      "userId": "13233439995211940764"
     },
     "user_tz": 480
    },
    "id": "l1k_W8qFSgJm",
    "outputId": "c728f734-4df2-47db-e6b7-b6a261adec58"
   },
   "outputs": [
    {
     "name": "stdout",
     "output_type": "stream",
     "text": [
      "                Team  Year Total_Rest_Days  Total_Distance_Traveled  \\\n",
      "0  Arizona Cardinals  2015        122 days             11709.954940   \n",
      "1  Arizona Cardinals  2016        122 days             10602.459040   \n",
      "2  Arizona Cardinals  2017        122 days             10284.258790   \n",
      "3  Arizona Cardinals  2018        122 days              7852.459252   \n",
      "4  Arizona Cardinals  2019        122 days             10868.190350   \n",
      "\n",
      "   Total_Points_For  Total_Points_Allowed  Total_Yards  Rush_Yards  \\\n",
      "0               489                   313         6533        1917   \n",
      "1               418                   362         5868        1732   \n",
      "2               295                   361         5026        1386   \n",
      "3               225                   425         3865        1342   \n",
      "4               361                   442         5467        1990   \n",
      "\n",
      "   Pass_Yards  Total_Opp_Yards  ...  Pass_YDs_Per_game  Opp_Yds_Per_Game  \\\n",
      "0        4616             5147  ...           288.5000          321.6875   \n",
      "1        4136             4883  ...           258.5000          305.1875   \n",
      "2        3640             4973  ...           227.5000          310.8125   \n",
      "3        2523             5741  ...           157.6875          358.8125   \n",
      "4        3477             6432  ...           217.3125          402.0000   \n",
      "\n",
      "   Opp_Rush_Yds_Per_game  Opp_Pass_Yds_Per_game     PD  Yds_DIff  PD_Per_Game  \\\n",
      "0                91.2500               230.4375  176.0    1386.0      11.0000   \n",
      "1                94.8750               210.3125   56.0     985.0       3.5000   \n",
      "2                89.5000               221.3125  -66.0      53.0      -4.1250   \n",
      "3               154.9375               203.8750 -200.0   -1876.0     -12.5000   \n",
      "4               120.1250               281.8750  -81.0    -965.0      -5.0625   \n",
      "\n",
      "   Yds_Diff_Per_Game    Playoff   SOS  \n",
      "0            86.6250  ConfChamp  None  \n",
      "1            61.5625       None  None  \n",
      "2             3.3125       None  None  \n",
      "3          -117.2500       None  None  \n",
      "4           -60.3125       None  None  \n",
      "\n",
      "[5 rows x 27 columns]\n"
     ]
    }
   ],
   "source": [
    "## github dataset\n",
    "standings = pd.read_csv(\"http://www.habitatring.com/standings.csv\")\n",
    "standings.sort_values(by='season')\n",
    "standings = standings[(standings['season'] >= 2015) & (standings['season'] <= 2022)]\n",
    "sos_train = standings[(standings['season'] >= 2015) & (standings['season'] <= 2020)]\n",
    "sos_test = standings[(standings['season'] >= 2021) & (standings['season'] <= 2022)]\n",
    "print(X_train.head())\n"
   ]
  },
  {
   "cell_type": "code",
   "execution_count": null,
   "metadata": {
    "id": "CTViOSmFae85"
   },
   "outputs": [],
   "source": [
    "# List of team abbreviations\n",
    "team_abbreviations = [\n",
    "    'BUF', 'MIA', 'NE', 'NYJ', 'BAL', 'CIN', 'CLE', 'PIT',\n",
    "    'HOU', 'IND', 'JAX', 'TEN', 'DEN', 'KC', 'OAK', 'SD',\n",
    "    'DAL', 'NYG', 'PHI', 'WAS', 'CHI', 'DET', 'GB', 'MIN',\n",
    "    'ATL', 'CAR', 'NO', 'TB', 'ARI', 'SEA', 'SF', 'STL',\n",
    "    'LA', 'LAC', 'LV'\n",
    "]\n",
    "\n",
    "# List of full team names\n",
    "teams = [\n",
    "    'Buffalo Bills', 'Miami Dolphins', 'New England Patriots', 'New York Jets',\n",
    "    'Baltimore Ravens', 'Cincinnati Bengals', 'Cleveland Browns', 'Pittsburgh Steelers',\n",
    "    'Houston Texans', 'Indianapolis Colts', 'Jacksonville Jaguars', 'Tennessee Titans',\n",
    "    'Denver Broncos', 'Kansas City Chiefs', 'Las Vegas Raiders', 'Los Angeles Chargers',\n",
    "    'Dallas Cowboys', 'New York Giants', 'Philadelphia Eagles', 'Washington Commanders',\n",
    "    'Chicago Bears', 'Detroit Lions', 'Green Bay Packers', 'Minnesota Vikings',\n",
    "    'Atlanta Falcons', 'Carolina Panthers', 'New Orleans Saints', 'Tampa Bay Buccaneers',\n",
    "    'Arizona Cardinals', 'Seattle Seahawks', 'San Francisco 49ers', 'Los Angeles Rams',\n",
    "    'Los Angeles Rams', 'Los Angeles Chargers', 'Las Vegas Raiders'\n",
    "]\n",
    "\n",
    "# Create a dictionary with \"abbreviation\": \"full team name\" format\n",
    "team_mapping = dict(zip(team_abbreviations, teams))"
   ]
  },
  {
   "cell_type": "code",
   "execution_count": null,
   "metadata": {
    "id": "5p1CEGmzfZMp"
   },
   "outputs": [],
   "source": [
    "# Update \"Team\" column in X_train using the mapping\n",
    "sos_train[\"team\"] = sos_train[\"team\"].map(team_mapping)"
   ]
  },
  {
   "cell_type": "code",
   "execution_count": null,
   "metadata": {
    "id": "OHHDWRuogm50"
   },
   "outputs": [],
   "source": [
    "SOS ="
   ]
  },
  {
   "cell_type": "code",
   "execution_count": null,
   "metadata": {
    "colab": {
     "base_uri": "https://localhost:8080/",
     "height": 488
    },
    "executionInfo": {
     "elapsed": 263,
     "status": "error",
     "timestamp": 1701654450551,
     "user": {
      "displayName": "Christian Castro",
      "userId": "13233439995211940764"
     },
     "user_tz": 480
    },
    "id": "BZJikK1ccD1l",
    "outputId": "7c0ae071-eafc-4def-ff12-bfac02b04d7a"
   },
   "outputs": [
    {
     "name": "stdout",
     "output_type": "stream",
     "text": [
      "<pandas.core.indexing._iLocIndexer object at 0x7a4406f4e2f0>\n",
      "<pandas.core.indexing._iLocIndexer object at 0x7a4406f4e2f0>\n"
     ]
    },
    {
     "ename": "ValueError",
     "evalue": "ignored",
     "output_type": "error",
     "traceback": [
      "\u001b[0;31m---------------------------------------------------------------------------\u001b[0m",
      "\u001b[0;31mKeyError\u001b[0m                                  Traceback (most recent call last)",
      "\u001b[0;32m/usr/local/lib/python3.10/dist-packages/pandas/core/generic.py\u001b[0m in \u001b[0;36m_get_axis_number\u001b[0;34m(cls, axis)\u001b[0m\n\u001b[1;32m    553\u001b[0m         \u001b[0;32mtry\u001b[0m\u001b[0;34m:\u001b[0m\u001b[0;34m\u001b[0m\u001b[0;34m\u001b[0m\u001b[0m\n\u001b[0;32m--> 554\u001b[0;31m             \u001b[0;32mreturn\u001b[0m \u001b[0mcls\u001b[0m\u001b[0;34m.\u001b[0m\u001b[0m_AXIS_TO_AXIS_NUMBER\u001b[0m\u001b[0;34m[\u001b[0m\u001b[0maxis\u001b[0m\u001b[0;34m]\u001b[0m\u001b[0;34m\u001b[0m\u001b[0;34m\u001b[0m\u001b[0m\n\u001b[0m\u001b[1;32m    555\u001b[0m         \u001b[0;32mexcept\u001b[0m \u001b[0mKeyError\u001b[0m\u001b[0;34m:\u001b[0m\u001b[0;34m\u001b[0m\u001b[0;34m\u001b[0m\u001b[0m\n",
      "\u001b[0;31mKeyError\u001b[0m: 2",
      "\nDuring handling of the above exception, another exception occurred:\n",
      "\u001b[0;31mValueError\u001b[0m                                Traceback (most recent call last)",
      "\u001b[0;32m<ipython-input-70-901603090829>\u001b[0m in \u001b[0;36m<cell line: 3>\u001b[0;34m()\u001b[0m\n\u001b[1;32m      3\u001b[0m \u001b[0;32mfor\u001b[0m \u001b[0mi\u001b[0m \u001b[0;32min\u001b[0m \u001b[0mrange\u001b[0m\u001b[0;34m(\u001b[0m\u001b[0mX_train\u001b[0m\u001b[0;34m.\u001b[0m\u001b[0mshape\u001b[0m\u001b[0;34m[\u001b[0m\u001b[0;36m0\u001b[0m\u001b[0;34m]\u001b[0m\u001b[0;34m)\u001b[0m\u001b[0;34m:\u001b[0m\u001b[0;34m\u001b[0m\u001b[0;34m\u001b[0m\u001b[0m\n\u001b[1;32m      4\u001b[0m   \u001b[0;31m#X_train.iloc(i)[\"SOS\"] = sos_train[sos_train[\"team\"] == X_train.iloc(i)[\"Team\"] & sos_train[\"season\"] == X_train.iloc(i)[\"Year\"]][\"sos\"].values[0]\u001b[0m\u001b[0;34m\u001b[0m\u001b[0;34m\u001b[0m\u001b[0m\n\u001b[0;32m----> 5\u001b[0;31m   \u001b[0mprint\u001b[0m\u001b[0;34m(\u001b[0m\u001b[0mX_train\u001b[0m\u001b[0;34m.\u001b[0m\u001b[0miloc\u001b[0m\u001b[0;34m(\u001b[0m\u001b[0mi\u001b[0m\u001b[0;34m)\u001b[0m\u001b[0;34m)\u001b[0m\u001b[0;34m\u001b[0m\u001b[0;34m\u001b[0m\u001b[0m\n\u001b[0m",
      "\u001b[0;32m/usr/local/lib/python3.10/dist-packages/pandas/core/indexing.py\u001b[0m in \u001b[0;36m__call__\u001b[0;34m(self, axis)\u001b[0m\n\u001b[1;32m    666\u001b[0m \u001b[0;34m\u001b[0m\u001b[0m\n\u001b[1;32m    667\u001b[0m         \u001b[0;32mif\u001b[0m \u001b[0maxis\u001b[0m \u001b[0;32mis\u001b[0m \u001b[0;32mnot\u001b[0m \u001b[0;32mNone\u001b[0m\u001b[0;34m:\u001b[0m\u001b[0;34m\u001b[0m\u001b[0;34m\u001b[0m\u001b[0m\n\u001b[0;32m--> 668\u001b[0;31m             \u001b[0maxis\u001b[0m \u001b[0;34m=\u001b[0m \u001b[0mself\u001b[0m\u001b[0;34m.\u001b[0m\u001b[0mobj\u001b[0m\u001b[0;34m.\u001b[0m\u001b[0m_get_axis_number\u001b[0m\u001b[0;34m(\u001b[0m\u001b[0maxis\u001b[0m\u001b[0;34m)\u001b[0m\u001b[0;34m\u001b[0m\u001b[0;34m\u001b[0m\u001b[0m\n\u001b[0m\u001b[1;32m    669\u001b[0m         \u001b[0mnew_self\u001b[0m\u001b[0;34m.\u001b[0m\u001b[0maxis\u001b[0m \u001b[0;34m=\u001b[0m \u001b[0maxis\u001b[0m\u001b[0;34m\u001b[0m\u001b[0;34m\u001b[0m\u001b[0m\n\u001b[1;32m    670\u001b[0m         \u001b[0;32mreturn\u001b[0m \u001b[0mnew_self\u001b[0m\u001b[0;34m\u001b[0m\u001b[0;34m\u001b[0m\u001b[0m\n",
      "\u001b[0;32m/usr/local/lib/python3.10/dist-packages/pandas/core/generic.py\u001b[0m in \u001b[0;36m_get_axis_number\u001b[0;34m(cls, axis)\u001b[0m\n\u001b[1;32m    554\u001b[0m             \u001b[0;32mreturn\u001b[0m \u001b[0mcls\u001b[0m\u001b[0;34m.\u001b[0m\u001b[0m_AXIS_TO_AXIS_NUMBER\u001b[0m\u001b[0;34m[\u001b[0m\u001b[0maxis\u001b[0m\u001b[0;34m]\u001b[0m\u001b[0;34m\u001b[0m\u001b[0;34m\u001b[0m\u001b[0m\n\u001b[1;32m    555\u001b[0m         \u001b[0;32mexcept\u001b[0m \u001b[0mKeyError\u001b[0m\u001b[0;34m:\u001b[0m\u001b[0;34m\u001b[0m\u001b[0;34m\u001b[0m\u001b[0m\n\u001b[0;32m--> 556\u001b[0;31m             \u001b[0;32mraise\u001b[0m \u001b[0mValueError\u001b[0m\u001b[0;34m(\u001b[0m\u001b[0;34mf\"No axis named {axis} for object type {cls.__name__}\"\u001b[0m\u001b[0;34m)\u001b[0m\u001b[0;34m\u001b[0m\u001b[0;34m\u001b[0m\u001b[0m\n\u001b[0m\u001b[1;32m    557\u001b[0m \u001b[0;34m\u001b[0m\u001b[0m\n\u001b[1;32m    558\u001b[0m     \u001b[0;34m@\u001b[0m\u001b[0mfinal\u001b[0m\u001b[0;34m\u001b[0m\u001b[0;34m\u001b[0m\u001b[0m\n",
      "\u001b[0;31mValueError\u001b[0m: No axis named 2 for object type DataFrame"
     ]
    }
   ],
   "source": [
    "## Adding the sos variable\n",
    "X_train['SOS'] = None\n",
    "for i in range(X_train.shape[0]):\n",
    "  #X_train.iloc(i)[\"SOS\"] = sos_train[sos_train[\"team\"] == X_train.iloc(i)[\"Team\"] & sos_train[\"season\"] == X_train.iloc(i)[\"Year\"]][\"sos\"].values[0]\n",
    "  print(X_train.iloc(i))"
   ]
  },
  {
   "cell_type": "code",
   "execution_count": null,
   "metadata": {
    "id": "zj4ZT363rsz9"
   },
   "outputs": [],
   "source": [
    "# Predicting Wild Card Winners\n",
    "\n",
    "wildacrd_train = pd.DataFrame()\n",
    "X_train = pd.read_csv('/content/drive/Shared drives/M148Project/CSVs/new_train_data_with_avgs.csv')\n",
    "wildcard_train = X_train[X_train['Playoff'].isin(['WildCard', 'Division'])].copy()\n",
    "x_test = wildcard_train\n",
    "\n",
    "\n",
    "wildcard_test = pd.DataFrame()\n",
    "X_test = pd.read_csv('/content/drive/Shared drives/M148Project/CSVs/new_test_data_with_avgs.csv')\n",
    "wildcard_test = X_test[X_test['Playoff'].isin(['WildCard', 'Division'])].copy()\n",
    "y_test = wildcard_test"
   ]
  }
 ],
 "metadata": {
  "colab": {
   "provenance": []
  },
  "kernelspec": {
   "display_name": "Python 3 (ipykernel)",
   "language": "python",
   "name": "python3"
  },
  "language_info": {
   "codemirror_mode": {
    "name": "ipython",
    "version": 3
   },
   "file_extension": ".py",
   "mimetype": "text/x-python",
   "name": "python",
   "nbconvert_exporter": "python",
   "pygments_lexer": "ipython3",
   "version": "3.9.12"
  }
 },
 "nbformat": 4,
 "nbformat_minor": 1
}
