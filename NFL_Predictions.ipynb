{
 "cells": [
  {
   "cell_type": "markdown",
   "metadata": {
    "id": "rpvcGYc6Wvao"
   },
   "source": [
    "# **Goal:** find the number of wins per team in the regular season\n",
    "\n",
    "## Next steps:\n",
    "* Make a model for the data\n",
    "* Train the data\n",
    "* Validate the data\n",
    "* Test the data\n",
    "* Visualizations\n",
    "* Report"
   ]
  },
  {
   "cell_type": "markdown",
   "metadata": {
    "id": "IOjkKM-_W0xm"
   },
   "source": [
    "## Downloading the data\n",
    "api: https://pypi.org/project/pro-football-reference-web-scraper/"
   ]
  },
  {
   "cell_type": "code",
   "execution_count": 1,
   "metadata": {
    "colab": {
     "base_uri": "https://localhost:8080/"
    },
    "id": "vuMg3BD_WSHy",
    "outputId": "522c3df2-4d38-4eed-9ca4-b6d7c90cb3b7"
   },
   "outputs": [
    {
     "name": "stdout",
     "output_type": "stream",
     "text": [
      "Collecting pro-football-reference-web-scraper\n",
      "  Downloading pro-football_reference_web_scraper-0.2.1.tar.gz (36 kB)\n",
      "  Installing build dependencies ... \u001b[?25ldone\n",
      "\u001b[?25h  Getting requirements to build wheel ... \u001b[?25ldone\n",
      "\u001b[?25h    Preparing wheel metadata ... \u001b[?25ldone\n",
      "\u001b[?25hCollecting requests>=2.28.2\n",
      "  Downloading requests-2.31.0-py3-none-any.whl (62 kB)\n",
      "\u001b[K     |████████████████████████████████| 62 kB 2.9 MB/s  eta 0:00:01\n",
      "\u001b[?25hRequirement already satisfied: beautifulsoup4>=4.9.0 in /Users/jarrettsung/opt/anaconda3/lib/python3.9/site-packages (from pro-football-reference-web-scraper) (4.11.1)\n",
      "Collecting haversine>=2.4.0\n",
      "  Downloading haversine-2.8.0-py2.py3-none-any.whl (7.7 kB)\n",
      "Requirement already satisfied: pandas>=1.5.3 in /Users/jarrettsung/opt/anaconda3/lib/python3.9/site-packages (from pro-football-reference-web-scraper) (2.1.3)\n",
      "Requirement already satisfied: soupsieve>1.2 in /Users/jarrettsung/opt/anaconda3/lib/python3.9/site-packages (from beautifulsoup4>=4.9.0->pro-football-reference-web-scraper) (2.3.1)\n",
      "Requirement already satisfied: python-dateutil>=2.8.2 in /Users/jarrettsung/opt/anaconda3/lib/python3.9/site-packages (from pandas>=1.5.3->pro-football-reference-web-scraper) (2.8.2)\n",
      "Requirement already satisfied: numpy<2,>=1.22.4 in /Users/jarrettsung/opt/anaconda3/lib/python3.9/site-packages (from pandas>=1.5.3->pro-football-reference-web-scraper) (1.26.2)\n",
      "Requirement already satisfied: pytz>=2020.1 in /Users/jarrettsung/opt/anaconda3/lib/python3.9/site-packages (from pandas>=1.5.3->pro-football-reference-web-scraper) (2021.3)\n",
      "Requirement already satisfied: tzdata>=2022.1 in /Users/jarrettsung/opt/anaconda3/lib/python3.9/site-packages (from pandas>=1.5.3->pro-football-reference-web-scraper) (2023.3)\n",
      "Requirement already satisfied: six>=1.5 in /Users/jarrettsung/opt/anaconda3/lib/python3.9/site-packages (from python-dateutil>=2.8.2->pandas>=1.5.3->pro-football-reference-web-scraper) (1.16.0)\n",
      "Requirement already satisfied: charset-normalizer<4,>=2 in /Users/jarrettsung/opt/anaconda3/lib/python3.9/site-packages (from requests>=2.28.2->pro-football-reference-web-scraper) (2.0.4)\n",
      "Requirement already satisfied: idna<4,>=2.5 in /Users/jarrettsung/opt/anaconda3/lib/python3.9/site-packages (from requests>=2.28.2->pro-football-reference-web-scraper) (3.3)\n",
      "Requirement already satisfied: urllib3<3,>=1.21.1 in /Users/jarrettsung/opt/anaconda3/lib/python3.9/site-packages (from requests>=2.28.2->pro-football-reference-web-scraper) (1.26.9)\n",
      "Requirement already satisfied: certifi>=2017.4.17 in /Users/jarrettsung/opt/anaconda3/lib/python3.9/site-packages (from requests>=2.28.2->pro-football-reference-web-scraper) (2023.11.17)\n",
      "Building wheels for collected packages: pro-football-reference-web-scraper\n",
      "  Building wheel for pro-football-reference-web-scraper (PEP 517) ... \u001b[?25ldone\n",
      "\u001b[?25h  Created wheel for pro-football-reference-web-scraper: filename=pro_football_reference_web_scraper-0.2.1-py3-none-any.whl size=19389 sha256=4e5d5b38d4ebeebc556db4a4534cd6bf3c018d405dada2c96d90fc7fa6685324\n",
      "  Stored in directory: /Users/jarrettsung/Library/Caches/pip/wheels/97/89/05/e48704065cbb182711a1b669bf96dfa81f45dd790f0feb1a9c\n",
      "Successfully built pro-football-reference-web-scraper\n",
      "Installing collected packages: requests, haversine, pro-football-reference-web-scraper\n",
      "  Attempting uninstall: requests\n",
      "    Found existing installation: requests 2.27.1\n",
      "    Uninstalling requests-2.27.1:\n",
      "      Successfully uninstalled requests-2.27.1\n",
      "\u001b[31mERROR: pip's dependency resolver does not currently take into account all the packages that are installed. This behaviour is the source of the following dependency conflicts.\n",
      "conda-repo-cli 1.0.4 requires pathlib, which is not installed.\n",
      "anaconda-project 0.10.2 requires ruamel-yaml, which is not installed.\u001b[0m\n",
      "Successfully installed haversine-2.8.0 pro-football-reference-web-scraper-0.2.1 requests-2.31.0\n"
     ]
    }
   ],
   "source": [
    "!pip install pro-football-reference-web-scraper"
   ]
  },
  {
   "cell_type": "markdown",
   "metadata": {
    "id": "i7VA3XuPawOO"
   },
   "source": [
    "Pandas html scraper: https://stmorse.github.io/journal/pfr-scrape-python.html"
   ]
  },
  {
   "cell_type": "code",
   "execution_count": 2,
   "metadata": {
    "colab": {
     "base_uri": "https://localhost:8080/",
     "height": 457
    },
    "id": "pAuE_KcEazL1",
    "outputId": "661784fd-651d-4a29-b0f8-8d79886c1d38"
   },
   "outputs": [
    {
     "data": {
      "text/html": [
       "<div>\n",
       "<style scoped>\n",
       "    .dataframe tbody tr th:only-of-type {\n",
       "        vertical-align: middle;\n",
       "    }\n",
       "\n",
       "    .dataframe tbody tr th {\n",
       "        vertical-align: top;\n",
       "    }\n",
       "\n",
       "    .dataframe thead tr th {\n",
       "        text-align: left;\n",
       "    }\n",
       "</style>\n",
       "<table border=\"1\" class=\"dataframe\">\n",
       "  <thead>\n",
       "    <tr>\n",
       "      <th></th>\n",
       "      <th>Unnamed: 0_level_0</th>\n",
       "      <th>Unnamed: 1_level_0</th>\n",
       "      <th>Unnamed: 2_level_0</th>\n",
       "      <th>Unnamed: 3_level_0</th>\n",
       "      <th>Unnamed: 4_level_0</th>\n",
       "      <th>Unnamed: 5_level_0</th>\n",
       "      <th>Unnamed: 6_level_0</th>\n",
       "      <th>Unnamed: 7_level_0</th>\n",
       "      <th colspan=\"2\" halign=\"left\">Inside 20</th>\n",
       "      <th>...</th>\n",
       "      <th>Inside 10</th>\n",
       "      <th colspan=\"6\" halign=\"left\">Snap Counts</th>\n",
       "      <th>Unnamed: 28_level_0</th>\n",
       "      <th>Unnamed: 29_level_0</th>\n",
       "      <th>Unnamed: 30_level_0</th>\n",
       "    </tr>\n",
       "    <tr>\n",
       "      <th></th>\n",
       "      <th>Unnamed: 0_level_1</th>\n",
       "      <th>Unnamed: 1_level_1</th>\n",
       "      <th>Unnamed: 2_level_1</th>\n",
       "      <th>Unnamed: 3_level_1</th>\n",
       "      <th>Unnamed: 4_level_1</th>\n",
       "      <th>Unnamed: 5_level_1</th>\n",
       "      <th>Unnamed: 6_level_1</th>\n",
       "      <th>Unnamed: 7_level_1</th>\n",
       "      <th colspan=\"2\" halign=\"left\">Passing</th>\n",
       "      <th>...</th>\n",
       "      <th>Rushing</th>\n",
       "      <th colspan=\"2\" halign=\"left\">Off.</th>\n",
       "      <th colspan=\"2\" halign=\"left\">Def.</th>\n",
       "      <th colspan=\"2\" halign=\"left\">ST</th>\n",
       "      <th>Fantasy</th>\n",
       "      <th>Fantasy</th>\n",
       "      <th>Fantasy</th>\n",
       "    </tr>\n",
       "    <tr>\n",
       "      <th></th>\n",
       "      <th>Rk</th>\n",
       "      <th>G#</th>\n",
       "      <th>Date</th>\n",
       "      <th>Tm</th>\n",
       "      <th>Unnamed: 4_level_2</th>\n",
       "      <th>Opp</th>\n",
       "      <th>Result</th>\n",
       "      <th>Pos</th>\n",
       "      <th>Cmp</th>\n",
       "      <th>Att</th>\n",
       "      <th>...</th>\n",
       "      <th>TD</th>\n",
       "      <th>Num</th>\n",
       "      <th>Pct</th>\n",
       "      <th>Num</th>\n",
       "      <th>Pct</th>\n",
       "      <th>Num</th>\n",
       "      <th>Pct</th>\n",
       "      <th>FantPt</th>\n",
       "      <th>DKPt</th>\n",
       "      <th>FDPt</th>\n",
       "    </tr>\n",
       "  </thead>\n",
       "  <tbody>\n",
       "    <tr>\n",
       "      <th>0</th>\n",
       "      <td>1.0</td>\n",
       "      <td>1.0</td>\n",
       "      <td>2018-09-09</td>\n",
       "      <td>SEA</td>\n",
       "      <td>@</td>\n",
       "      <td>DEN</td>\n",
       "      <td>L 24-27</td>\n",
       "      <td>QB</td>\n",
       "      <td>1</td>\n",
       "      <td>3</td>\n",
       "      <td>...</td>\n",
       "      <td>0</td>\n",
       "      <td>57</td>\n",
       "      <td>100.0%</td>\n",
       "      <td>0</td>\n",
       "      <td>0.0%</td>\n",
       "      <td>0</td>\n",
       "      <td>0.0%</td>\n",
       "      <td>20.42</td>\n",
       "      <td>22.4</td>\n",
       "      <td>22.4</td>\n",
       "    </tr>\n",
       "    <tr>\n",
       "      <th>1</th>\n",
       "      <td>2.0</td>\n",
       "      <td>2.0</td>\n",
       "      <td>2018-09-17</td>\n",
       "      <td>SEA</td>\n",
       "      <td>@</td>\n",
       "      <td>CHI</td>\n",
       "      <td>L 17-24</td>\n",
       "      <td>QB</td>\n",
       "      <td>3</td>\n",
       "      <td>4</td>\n",
       "      <td>...</td>\n",
       "      <td>0</td>\n",
       "      <td>66</td>\n",
       "      <td>100.0%</td>\n",
       "      <td>0</td>\n",
       "      <td>0.0%</td>\n",
       "      <td>0</td>\n",
       "      <td>0.0%</td>\n",
       "      <td>14.74</td>\n",
       "      <td>16.7</td>\n",
       "      <td>15.7</td>\n",
       "    </tr>\n",
       "    <tr>\n",
       "      <th>2</th>\n",
       "      <td>3.0</td>\n",
       "      <td>3.0</td>\n",
       "      <td>2018-09-23</td>\n",
       "      <td>SEA</td>\n",
       "      <td>NaN</td>\n",
       "      <td>DAL</td>\n",
       "      <td>W 24-13</td>\n",
       "      <td>QB</td>\n",
       "      <td>2</td>\n",
       "      <td>2</td>\n",
       "      <td>...</td>\n",
       "      <td>0</td>\n",
       "      <td>69</td>\n",
       "      <td>100.0%</td>\n",
       "      <td>0</td>\n",
       "      <td>0.0%</td>\n",
       "      <td>0</td>\n",
       "      <td>0.0%</td>\n",
       "      <td>15.58</td>\n",
       "      <td>15.6</td>\n",
       "      <td>15.6</td>\n",
       "    </tr>\n",
       "    <tr>\n",
       "      <th>3</th>\n",
       "      <td>4.0</td>\n",
       "      <td>4.0</td>\n",
       "      <td>2018-09-30</td>\n",
       "      <td>SEA</td>\n",
       "      <td>@</td>\n",
       "      <td>ARI</td>\n",
       "      <td>W 20-17</td>\n",
       "      <td>QB</td>\n",
       "      <td>0</td>\n",
       "      <td>1</td>\n",
       "      <td>...</td>\n",
       "      <td>0</td>\n",
       "      <td>66</td>\n",
       "      <td>100.0%</td>\n",
       "      <td>0</td>\n",
       "      <td>0.0%</td>\n",
       "      <td>0</td>\n",
       "      <td>0.0%</td>\n",
       "      <td>8.98</td>\n",
       "      <td>9.0</td>\n",
       "      <td>9.0</td>\n",
       "    </tr>\n",
       "    <tr>\n",
       "      <th>4</th>\n",
       "      <td>5.0</td>\n",
       "      <td>5.0</td>\n",
       "      <td>2018-10-07</td>\n",
       "      <td>SEA</td>\n",
       "      <td>NaN</td>\n",
       "      <td>LAR</td>\n",
       "      <td>L 31-33</td>\n",
       "      <td>QB</td>\n",
       "      <td>2</td>\n",
       "      <td>2</td>\n",
       "      <td>...</td>\n",
       "      <td>0</td>\n",
       "      <td>60</td>\n",
       "      <td>100.0%</td>\n",
       "      <td>0</td>\n",
       "      <td>0.0%</td>\n",
       "      <td>0</td>\n",
       "      <td>0.0%</td>\n",
       "      <td>19.92</td>\n",
       "      <td>19.9</td>\n",
       "      <td>19.9</td>\n",
       "    </tr>\n",
       "  </tbody>\n",
       "</table>\n",
       "<p>5 rows × 31 columns</p>\n",
       "</div>"
      ],
      "text/plain": [
       "  Unnamed: 0_level_0 Unnamed: 1_level_0 Unnamed: 2_level_0 Unnamed: 3_level_0  \\\n",
       "  Unnamed: 0_level_1 Unnamed: 1_level_1 Unnamed: 2_level_1 Unnamed: 3_level_1   \n",
       "                  Rk                 G#               Date                 Tm   \n",
       "0                1.0                1.0         2018-09-09                SEA   \n",
       "1                2.0                2.0         2018-09-17                SEA   \n",
       "2                3.0                3.0         2018-09-23                SEA   \n",
       "3                4.0                4.0         2018-09-30                SEA   \n",
       "4                5.0                5.0         2018-10-07                SEA   \n",
       "\n",
       "  Unnamed: 4_level_0 Unnamed: 5_level_0 Unnamed: 6_level_0 Unnamed: 7_level_0  \\\n",
       "  Unnamed: 4_level_1 Unnamed: 5_level_1 Unnamed: 6_level_1 Unnamed: 7_level_1   \n",
       "  Unnamed: 4_level_2                Opp             Result                Pos   \n",
       "0                  @                DEN            L 24-27                 QB   \n",
       "1                  @                CHI            L 17-24                 QB   \n",
       "2                NaN                DAL            W 24-13                 QB   \n",
       "3                  @                ARI            W 20-17                 QB   \n",
       "4                NaN                LAR            L 31-33                 QB   \n",
       "\n",
       "  Inside 20      ... Inside 10 Snap Counts                               \\\n",
       "    Passing      ...   Rushing        Off.         Def.        ST         \n",
       "        Cmp Att  ...        TD         Num     Pct  Num   Pct Num   Pct   \n",
       "0         1   3  ...         0          57  100.0%    0  0.0%   0  0.0%   \n",
       "1         3   4  ...         0          66  100.0%    0  0.0%   0  0.0%   \n",
       "2         2   2  ...         0          69  100.0%    0  0.0%   0  0.0%   \n",
       "3         0   1  ...         0          66  100.0%    0  0.0%   0  0.0%   \n",
       "4         2   2  ...         0          60  100.0%    0  0.0%   0  0.0%   \n",
       "\n",
       "  Unnamed: 28_level_0 Unnamed: 29_level_0 Unnamed: 30_level_0  \n",
       "              Fantasy             Fantasy             Fantasy  \n",
       "               FantPt                DKPt                FDPt  \n",
       "0               20.42                22.4                22.4  \n",
       "1               14.74                16.7                15.7  \n",
       "2               15.58                15.6                15.6  \n",
       "3                8.98                 9.0                 9.0  \n",
       "4               19.92                19.9                19.9  \n",
       "\n",
       "[5 rows x 31 columns]"
      ]
     },
     "execution_count": 2,
     "metadata": {},
     "output_type": "execute_result"
    }
   ],
   "source": [
    "import pandas as pd\n",
    "url = 'https://www.pro-football-reference.com/players/W/WilsRu00/fantasy/2018/'\n",
    "df = pd.read_html(url)[0]\n",
    "df.head()"
   ]
  },
  {
   "cell_type": "code",
   "execution_count": 3,
   "metadata": {
    "colab": {
     "base_uri": "https://localhost:8080/",
     "height": 342
    },
    "id": "3BzFb7d1bOdp",
    "outputId": "0800af15-9ed8-4790-ffc7-3e2cfca6cac8"
   },
   "outputs": [
    {
     "data": {
      "text/html": [
       "<div>\n",
       "<style scoped>\n",
       "    .dataframe tbody tr th:only-of-type {\n",
       "        vertical-align: middle;\n",
       "    }\n",
       "\n",
       "    .dataframe tbody tr th {\n",
       "        vertical-align: top;\n",
       "    }\n",
       "\n",
       "    .dataframe thead tr th {\n",
       "        text-align: left;\n",
       "    }\n",
       "</style>\n",
       "<table border=\"1\" class=\"dataframe\">\n",
       "  <thead>\n",
       "    <tr>\n",
       "      <th></th>\n",
       "      <th>Unnamed: 0_level_0</th>\n",
       "      <th>Unnamed: 1_level_0</th>\n",
       "      <th>Unnamed: 2_level_0</th>\n",
       "      <th colspan=\"3\" halign=\"left\">Tot Yds &amp; TO</th>\n",
       "      <th>Unnamed: 6_level_0</th>\n",
       "      <th>Unnamed: 7_level_0</th>\n",
       "      <th colspan=\"2\" halign=\"left\">Passing</th>\n",
       "      <th>...</th>\n",
       "      <th colspan=\"2\" halign=\"left\">Penalties</th>\n",
       "      <th>Unnamed: 23_level_0</th>\n",
       "      <th>Unnamed: 24_level_0</th>\n",
       "      <th>Unnamed: 25_level_0</th>\n",
       "      <th colspan=\"5\" halign=\"left\">Average Drive</th>\n",
       "    </tr>\n",
       "    <tr>\n",
       "      <th></th>\n",
       "      <th>Player</th>\n",
       "      <th>PF</th>\n",
       "      <th>Yds</th>\n",
       "      <th>Ply</th>\n",
       "      <th>Y/P</th>\n",
       "      <th>TO</th>\n",
       "      <th>FL</th>\n",
       "      <th>1stD</th>\n",
       "      <th>Cmp</th>\n",
       "      <th>Att</th>\n",
       "      <th>...</th>\n",
       "      <th>Yds</th>\n",
       "      <th>1stPy</th>\n",
       "      <th>#Dr</th>\n",
       "      <th>Sc%</th>\n",
       "      <th>TO%</th>\n",
       "      <th>Start</th>\n",
       "      <th>Time</th>\n",
       "      <th>Plays</th>\n",
       "      <th>Yds</th>\n",
       "      <th>Pts</th>\n",
       "    </tr>\n",
       "  </thead>\n",
       "  <tbody>\n",
       "    <tr>\n",
       "      <th>0</th>\n",
       "      <td>Team Stats</td>\n",
       "      <td>455</td>\n",
       "      <td>6361</td>\n",
       "      <td>1037.0</td>\n",
       "      <td>6.1</td>\n",
       "      <td>27</td>\n",
       "      <td>13</td>\n",
       "      <td>367</td>\n",
       "      <td>361.0</td>\n",
       "      <td>574</td>\n",
       "      <td>...</td>\n",
       "      <td>709.0</td>\n",
       "      <td>27.0</td>\n",
       "      <td>171.0</td>\n",
       "      <td>45.0</td>\n",
       "      <td>15.2</td>\n",
       "      <td>Own 30.0</td>\n",
       "      <td>2:47</td>\n",
       "      <td>6.25</td>\n",
       "      <td>37.1</td>\n",
       "      <td>2.52</td>\n",
       "    </tr>\n",
       "    <tr>\n",
       "      <th>1</th>\n",
       "      <td>Opp. Stats</td>\n",
       "      <td>286</td>\n",
       "      <td>5106</td>\n",
       "      <td>997.0</td>\n",
       "      <td>5.1</td>\n",
       "      <td>27</td>\n",
       "      <td>10</td>\n",
       "      <td>313</td>\n",
       "      <td>362.0</td>\n",
       "      <td>570</td>\n",
       "      <td>...</td>\n",
       "      <td>754.0</td>\n",
       "      <td>29.0</td>\n",
       "      <td>168.0</td>\n",
       "      <td>31.0</td>\n",
       "      <td>14.3</td>\n",
       "      <td>Own 27.9</td>\n",
       "      <td>2:55</td>\n",
       "      <td>6.10</td>\n",
       "      <td>30.3</td>\n",
       "      <td>1.67</td>\n",
       "    </tr>\n",
       "    <tr>\n",
       "      <th>2</th>\n",
       "      <td>Lg Rank Offense</td>\n",
       "      <td>2</td>\n",
       "      <td>2</td>\n",
       "      <td>NaN</td>\n",
       "      <td>NaN</td>\n",
       "      <td>31</td>\n",
       "      <td>31</td>\n",
       "      <td>2</td>\n",
       "      <td>NaN</td>\n",
       "      <td>8</td>\n",
       "      <td>...</td>\n",
       "      <td>NaN</td>\n",
       "      <td>NaN</td>\n",
       "      <td>NaN</td>\n",
       "      <td>2.0</td>\n",
       "      <td>2.0</td>\n",
       "      <td>5</td>\n",
       "      <td>17</td>\n",
       "      <td>9.00</td>\n",
       "      <td>2.0</td>\n",
       "      <td>2.00</td>\n",
       "    </tr>\n",
       "    <tr>\n",
       "      <th>3</th>\n",
       "      <td>Lg Rank Defense</td>\n",
       "      <td>2</td>\n",
       "      <td>6</td>\n",
       "      <td>NaN</td>\n",
       "      <td>NaN</td>\n",
       "      <td>4</td>\n",
       "      <td>10</td>\n",
       "      <td>17</td>\n",
       "      <td>NaN</td>\n",
       "      <td>28</td>\n",
       "      <td>...</td>\n",
       "      <td>NaN</td>\n",
       "      <td>NaN</td>\n",
       "      <td>NaN</td>\n",
       "      <td>30.0</td>\n",
       "      <td>5.0</td>\n",
       "      <td>9</td>\n",
       "      <td>29</td>\n",
       "      <td>24.00</td>\n",
       "      <td>13.0</td>\n",
       "      <td>5.00</td>\n",
       "    </tr>\n",
       "  </tbody>\n",
       "</table>\n",
       "<p>4 rows × 31 columns</p>\n",
       "</div>"
      ],
      "text/plain": [
       "  Unnamed: 0_level_0 Unnamed: 1_level_0 Unnamed: 2_level_0 Tot Yds & TO       \\\n",
       "              Player                 PF                Yds          Ply  Y/P   \n",
       "0         Team Stats                455               6361       1037.0  6.1   \n",
       "1         Opp. Stats                286               5106        997.0  5.1   \n",
       "2    Lg Rank Offense                  2                  2          NaN  NaN   \n",
       "3    Lg Rank Defense                  2                  6          NaN  NaN   \n",
       "\n",
       "      Unnamed: 6_level_0 Unnamed: 7_level_0 Passing       ... Penalties        \\\n",
       "   TO                 FL               1stD     Cmp  Att  ...       Yds 1stPy   \n",
       "0  27                 13                367   361.0  574  ...     709.0  27.0   \n",
       "1  27                 10                313   362.0  570  ...     754.0  29.0   \n",
       "2  31                 31                  2     NaN    8  ...       NaN   NaN   \n",
       "3   4                 10                 17     NaN   28  ...       NaN   NaN   \n",
       "\n",
       "  Unnamed: 23_level_0 Unnamed: 24_level_0 Unnamed: 25_level_0 Average Drive  \\\n",
       "                  #Dr                 Sc%                 TO%         Start   \n",
       "0               171.0                45.0                15.2      Own 30.0   \n",
       "1               168.0                31.0                14.3      Own 27.9   \n",
       "2                 NaN                 2.0                 2.0             5   \n",
       "3                 NaN                30.0                 5.0             9   \n",
       "\n",
       "                            \n",
       "   Time  Plays   Yds   Pts  \n",
       "0  2:47   6.25  37.1  2.52  \n",
       "1  2:55   6.10  30.3  1.67  \n",
       "2    17   9.00   2.0  2.00  \n",
       "3    29  24.00  13.0  5.00  \n",
       "\n",
       "[4 rows x 31 columns]"
      ]
     },
     "execution_count": 3,
     "metadata": {},
     "output_type": "execute_result"
    }
   ],
   "source": [
    "bills_df = pd.read_html(\"https://www.pro-football-reference.com/teams/buf/2022.htm\")[0]\n",
    "bills_df.head()"
   ]
  },
  {
   "cell_type": "code",
   "execution_count": 4,
   "metadata": {
    "id": "B1uoKyHddAR0"
   },
   "outputs": [],
   "source": [
    "teams = [\n",
    "    'Arizona Cardinals',\n",
    "    'Atlanta Falcons',\n",
    "    'Baltimore Ravens',\n",
    "    'Buffalo Bills',\n",
    "    'Carolina Panthers',\n",
    "    'Chicago Bears',\n",
    "    'Cincinnati Bengals',\n",
    "    'Cleveland Browns',\n",
    "    'Dallas Cowboys',\n",
    "    'Denver Broncos',\n",
    "    'Detroit Lions',\n",
    "    'Green Bay Packers',\n",
    "    'Houston Texans',\n",
    "    'Indianapolis Colts',\n",
    "    'Jacksonville Jaguars',\n",
    "    'Kansas City Chiefs',\n",
    "    'Las Vegas Raiders',\n",
    "    'Los Angeles Chargers',\n",
    "    'Los Angeles Rams',\n",
    "    'Miami Dolphins',\n",
    "    'Minnesota Vikings',\n",
    "    'New England Patriots',\n",
    "    'New Orleans Saints',\n",
    "    'New York Giants',\n",
    "    'New York Jets',\n",
    "    'Philadelphia Eagles',\n",
    "    'Pittsburgh Steelers',\n",
    "    'San Francisco 49ers',\n",
    "    'Seattle Seahawks',\n",
    "    'Tampa Bay Buccaneers',\n",
    "    'Tennessee Titans',\n",
    "    'Washington Commanders'\n",
    "]\n",
    "\n",
    "train_years = [2015, 2016, 2017, 2018, 2019, 2020]\n",
    "test_years = [2021, 2022]"
   ]
  },
  {
   "cell_type": "code",
   "execution_count": 5,
   "metadata": {
    "id": "YC4fOoQKfAeC"
   },
   "outputs": [
    {
     "ename": "SystemError",
     "evalue": "initialization of _internal failed without raising an exception",
     "output_type": "error",
     "traceback": [
      "\u001b[0;31m---------------------------------------------------------------------------\u001b[0m",
      "\u001b[0;31mSystemError\u001b[0m                               Traceback (most recent call last)",
      "Input \u001b[0;32mIn [5]\u001b[0m, in \u001b[0;36m<cell line: 1>\u001b[0;34m()\u001b[0m\n\u001b[0;32m----> 1\u001b[0m \u001b[38;5;28;01mfrom\u001b[39;00m \u001b[38;5;21;01mpro_football_reference_web_scraper\u001b[39;00m \u001b[38;5;28;01mimport\u001b[39;00m team_game_log \u001b[38;5;28;01mas\u001b[39;00m t\n\u001b[1;32m      2\u001b[0m \u001b[38;5;28;01mimport\u001b[39;00m \u001b[38;5;21;01mtime\u001b[39;00m\n\u001b[1;32m      4\u001b[0m \u001b[38;5;28;01mdef\u001b[39;00m \u001b[38;5;21mfetch_team_game_logs\u001b[39m(teams, train_years):\n\u001b[1;32m      5\u001b[0m     \u001b[38;5;66;03m# Initialize an empty DataFrame to store the combined data\u001b[39;00m\n",
      "File \u001b[0;32m~/opt/anaconda3/lib/python3.9/site-packages/pro_football_reference_web_scraper/__init__.py:3\u001b[0m, in \u001b[0;36m<module>\u001b[0;34m\u001b[0m\n\u001b[1;32m      1\u001b[0m \u001b[38;5;28;01mfrom\u001b[39;00m \u001b[38;5;21;01m.\u001b[39;00m\u001b[38;5;21;01m_version\u001b[39;00m \u001b[38;5;28;01mimport\u001b[39;00m __version__\n\u001b[1;32m      2\u001b[0m \u001b[38;5;28;01mfrom\u001b[39;00m \u001b[38;5;21;01m.\u001b[39;00m\u001b[38;5;21;01mplayer_game_log\u001b[39;00m \u001b[38;5;28;01mimport\u001b[39;00m get_player_game_log\n\u001b[0;32m----> 3\u001b[0m \u001b[38;5;28;01mfrom\u001b[39;00m \u001b[38;5;21;01m.\u001b[39;00m\u001b[38;5;21;01mteam_game_log\u001b[39;00m \u001b[38;5;28;01mimport\u001b[39;00m get_team_game_log\n\u001b[1;32m      4\u001b[0m \u001b[38;5;28;01mfrom\u001b[39;00m \u001b[38;5;21;01m.\u001b[39;00m\u001b[38;5;21;01mplayer_splits\u001b[39;00m \u001b[38;5;28;01mimport\u001b[39;00m home_road\n\u001b[1;32m      5\u001b[0m \u001b[38;5;28;01mfrom\u001b[39;00m \u001b[38;5;21;01m.\u001b[39;00m\u001b[38;5;21;01mplayer_splits\u001b[39;00m \u001b[38;5;28;01mimport\u001b[39;00m win_loss\n",
      "File \u001b[0;32m~/opt/anaconda3/lib/python3.9/site-packages/pro_football_reference_web_scraper/team_game_log.py:5\u001b[0m, in \u001b[0;36m<module>\u001b[0;34m\u001b[0m\n\u001b[1;32m      3\u001b[0m \u001b[38;5;28;01mimport\u001b[39;00m \u001b[38;5;21;01mpandas\u001b[39;00m \u001b[38;5;28;01mas\u001b[39;00m \u001b[38;5;21;01mpd\u001b[39;00m\n\u001b[1;32m      4\u001b[0m \u001b[38;5;28;01mfrom\u001b[39;00m \u001b[38;5;21;01mdatetime\u001b[39;00m \u001b[38;5;28;01mimport\u001b[39;00m date\n\u001b[0;32m----> 5\u001b[0m \u001b[38;5;28;01mfrom\u001b[39;00m \u001b[38;5;21;01mhaversine\u001b[39;00m \u001b[38;5;28;01mimport\u001b[39;00m haversine, Unit\n\u001b[1;32m      7\u001b[0m \u001b[38;5;66;03m# TODO: add older teams to this list\u001b[39;00m\n\u001b[1;32m      8\u001b[0m team_hrefs \u001b[38;5;241m=\u001b[39m {\n\u001b[1;32m      9\u001b[0m     \u001b[38;5;124m'\u001b[39m\u001b[38;5;124mArizona Cardinals\u001b[39m\u001b[38;5;124m'\u001b[39m: \u001b[38;5;124m'\u001b[39m\u001b[38;5;124mcrd\u001b[39m\u001b[38;5;124m'\u001b[39m,\n\u001b[1;32m     10\u001b[0m     \u001b[38;5;124m'\u001b[39m\u001b[38;5;124mBaltimore Colts\u001b[39m\u001b[38;5;124m'\u001b[39m: \u001b[38;5;124m'\u001b[39m\u001b[38;5;124mclt\u001b[39m\u001b[38;5;124m'\u001b[39m,\n\u001b[0;32m   (...)\u001b[0m\n\u001b[1;32m     53\u001b[0m     \u001b[38;5;124m'\u001b[39m\u001b[38;5;124mBoston Patriots\u001b[39m\u001b[38;5;124m'\u001b[39m: \u001b[38;5;124m'\u001b[39m\u001b[38;5;124mnwe\u001b[39m\u001b[38;5;124m'\u001b[39m,\n\u001b[1;32m     54\u001b[0m }\n",
      "File \u001b[0;32m~/opt/anaconda3/lib/python3.9/site-packages/haversine/__init__.py:1\u001b[0m, in \u001b[0;36m<module>\u001b[0;34m\u001b[0m\n\u001b[0;32m----> 1\u001b[0m \u001b[38;5;28;01mfrom\u001b[39;00m \u001b[38;5;21;01m.\u001b[39;00m\u001b[38;5;21;01mhaversine\u001b[39;00m \u001b[38;5;28;01mimport\u001b[39;00m Unit, haversine, haversine_vector, Direction, inverse_haversine, inverse_haversine_vector\n",
      "File \u001b[0;32m~/opt/anaconda3/lib/python3.9/site-packages/haversine/haversine.py:172\u001b[0m, in \u001b[0;36m<module>\u001b[0;34m\u001b[0m\n\u001b[1;32m    169\u001b[0m     has_numpy \u001b[38;5;241m=\u001b[39m \u001b[38;5;28;01mFalse\u001b[39;00m\n\u001b[1;32m    171\u001b[0m \u001b[38;5;28;01mtry\u001b[39;00m:\n\u001b[0;32m--> 172\u001b[0m     \u001b[38;5;28;01mimport\u001b[39;00m \u001b[38;5;21;01mnumba\u001b[39;00m \u001b[38;5;66;03m# type: ignore\u001b[39;00m\n\u001b[1;32m    173\u001b[0m     \u001b[38;5;28;01mif\u001b[39;00m has_numpy:\n\u001b[1;32m    174\u001b[0m         _haversine_kernel_vector \u001b[38;5;241m=\u001b[39m numba\u001b[38;5;241m.\u001b[39mvectorize(fastmath\u001b[38;5;241m=\u001b[39m\u001b[38;5;28;01mTrue\u001b[39;00m)(_haversine_kernel)\n",
      "File \u001b[0;32m~/opt/anaconda3/lib/python3.9/site-packages/numba/__init__.py:42\u001b[0m, in \u001b[0;36m<module>\u001b[0;34m\u001b[0m\n\u001b[1;32m     38\u001b[0m \u001b[38;5;28;01mfrom\u001b[39;00m \u001b[38;5;21;01mnumba\u001b[39;00m\u001b[38;5;21;01m.\u001b[39;00m\u001b[38;5;21;01mcore\u001b[39;00m\u001b[38;5;21;01m.\u001b[39;00m\u001b[38;5;21;01mdecorators\u001b[39;00m \u001b[38;5;28;01mimport\u001b[39;00m (cfunc, generated_jit, jit, njit, stencil,\n\u001b[1;32m     39\u001b[0m                                    jit_module)\n\u001b[1;32m     41\u001b[0m \u001b[38;5;66;03m# Re-export vectorize decorators and the thread layer querying function\u001b[39;00m\n\u001b[0;32m---> 42\u001b[0m \u001b[38;5;28;01mfrom\u001b[39;00m \u001b[38;5;21;01mnumba\u001b[39;00m\u001b[38;5;21;01m.\u001b[39;00m\u001b[38;5;21;01mnp\u001b[39;00m\u001b[38;5;21;01m.\u001b[39;00m\u001b[38;5;21;01mufunc\u001b[39;00m \u001b[38;5;28;01mimport\u001b[39;00m (vectorize, guvectorize, threading_layer,\n\u001b[1;32m     43\u001b[0m                             get_num_threads, set_num_threads)\n\u001b[1;32m     45\u001b[0m \u001b[38;5;66;03m# Re-export Numpy helpers\u001b[39;00m\n\u001b[1;32m     46\u001b[0m \u001b[38;5;28;01mfrom\u001b[39;00m \u001b[38;5;21;01mnumba\u001b[39;00m\u001b[38;5;21;01m.\u001b[39;00m\u001b[38;5;21;01mnp\u001b[39;00m\u001b[38;5;21;01m.\u001b[39;00m\u001b[38;5;21;01mnumpy_support\u001b[39;00m \u001b[38;5;28;01mimport\u001b[39;00m carray, farray, from_dtype\n",
      "File \u001b[0;32m~/opt/anaconda3/lib/python3.9/site-packages/numba/np/ufunc/__init__.py:3\u001b[0m, in \u001b[0;36m<module>\u001b[0;34m\u001b[0m\n\u001b[1;32m      1\u001b[0m \u001b[38;5;66;03m# -*- coding: utf-8 -*-\u001b[39;00m\n\u001b[0;32m----> 3\u001b[0m \u001b[38;5;28;01mfrom\u001b[39;00m \u001b[38;5;21;01mnumba\u001b[39;00m\u001b[38;5;21;01m.\u001b[39;00m\u001b[38;5;21;01mnp\u001b[39;00m\u001b[38;5;21;01m.\u001b[39;00m\u001b[38;5;21;01mufunc\u001b[39;00m\u001b[38;5;21;01m.\u001b[39;00m\u001b[38;5;21;01mdecorators\u001b[39;00m \u001b[38;5;28;01mimport\u001b[39;00m Vectorize, GUVectorize, vectorize, guvectorize\n\u001b[1;32m      4\u001b[0m \u001b[38;5;28;01mfrom\u001b[39;00m \u001b[38;5;21;01mnumba\u001b[39;00m\u001b[38;5;21;01m.\u001b[39;00m\u001b[38;5;21;01mnp\u001b[39;00m\u001b[38;5;21;01m.\u001b[39;00m\u001b[38;5;21;01mufunc\u001b[39;00m\u001b[38;5;21;01m.\u001b[39;00m\u001b[38;5;21;01m_internal\u001b[39;00m \u001b[38;5;28;01mimport\u001b[39;00m PyUFunc_None, PyUFunc_Zero, PyUFunc_One\n\u001b[1;32m      5\u001b[0m \u001b[38;5;28;01mfrom\u001b[39;00m \u001b[38;5;21;01mnumba\u001b[39;00m\u001b[38;5;21;01m.\u001b[39;00m\u001b[38;5;21;01mnp\u001b[39;00m\u001b[38;5;21;01m.\u001b[39;00m\u001b[38;5;21;01mufunc\u001b[39;00m \u001b[38;5;28;01mimport\u001b[39;00m _internal, array_exprs\n",
      "File \u001b[0;32m~/opt/anaconda3/lib/python3.9/site-packages/numba/np/ufunc/decorators.py:3\u001b[0m, in \u001b[0;36m<module>\u001b[0;34m\u001b[0m\n\u001b[1;32m      1\u001b[0m \u001b[38;5;28;01mimport\u001b[39;00m \u001b[38;5;21;01minspect\u001b[39;00m\n\u001b[0;32m----> 3\u001b[0m \u001b[38;5;28;01mfrom\u001b[39;00m \u001b[38;5;21;01mnumba\u001b[39;00m\u001b[38;5;21;01m.\u001b[39;00m\u001b[38;5;21;01mnp\u001b[39;00m\u001b[38;5;21;01m.\u001b[39;00m\u001b[38;5;21;01mufunc\u001b[39;00m \u001b[38;5;28;01mimport\u001b[39;00m _internal\n\u001b[1;32m      4\u001b[0m \u001b[38;5;28;01mfrom\u001b[39;00m \u001b[38;5;21;01mnumba\u001b[39;00m\u001b[38;5;21;01m.\u001b[39;00m\u001b[38;5;21;01mnp\u001b[39;00m\u001b[38;5;21;01m.\u001b[39;00m\u001b[38;5;21;01mufunc\u001b[39;00m\u001b[38;5;21;01m.\u001b[39;00m\u001b[38;5;21;01mparallel\u001b[39;00m \u001b[38;5;28;01mimport\u001b[39;00m ParallelUFuncBuilder, ParallelGUFuncBuilder\n\u001b[1;32m      6\u001b[0m \u001b[38;5;28;01mfrom\u001b[39;00m \u001b[38;5;21;01mnumba\u001b[39;00m\u001b[38;5;21;01m.\u001b[39;00m\u001b[38;5;21;01mcore\u001b[39;00m\u001b[38;5;21;01m.\u001b[39;00m\u001b[38;5;21;01mregistry\u001b[39;00m \u001b[38;5;28;01mimport\u001b[39;00m DelayedRegistry\n",
      "\u001b[0;31mSystemError\u001b[0m: initialization of _internal failed without raising an exception"
     ]
    }
   ],
   "source": [
    "from pro_football_reference_web_scraper import team_game_log as t\n",
    "import time\n",
    "\n",
    "def fetch_team_game_logs(teams, train_years):\n",
    "    # Initialize an empty DataFrame to store the combined data\n",
    "    combined_df = pd.DataFrame()\n",
    "\n",
    "    # Iterate through each team and training year\n",
    "    for team in teams:\n",
    "        for year in train_years:\n",
    "            time.sleep(4)\n",
    "            print(team, year)\n",
    "            # Fetch the game log for the current team and year\n",
    "            game_log = t.get_team_game_log(team=team, season=year)\n",
    "\n",
    "            team_df = pd.DataFrame(game_log)\n",
    "\n",
    "            # Add columns for team and year\n",
    "            team_df['team'] = team\n",
    "            team_df['year'] = year\n",
    "\n",
    "            # Append the team's game log to the combined DataFrame\n",
    "            combined_df = combined_df.append(team_df, ignore_index=True)\n",
    "\n",
    "    return combined_df"
   ]
  },
  {
   "cell_type": "code",
   "execution_count": null,
   "metadata": {
    "id": "6hl4KaDeiW4p"
   },
   "outputs": [],
   "source": [
    "#data = fetch_team_game_logs(teams, train_years)"
   ]
  },
  {
   "cell_type": "code",
   "execution_count": null,
   "metadata": {
    "id": "K86lPz1fi51p"
   },
   "outputs": [],
   "source": [
    "#game_log = tl.get_team_game_log(team = 'Las Vegas Raiders', season = 2015)\n",
    "#game_log.head()"
   ]
  },
  {
   "cell_type": "code",
   "execution_count": null,
   "metadata": {},
   "outputs": [],
   "source": []
  },
  {
   "cell_type": "code",
   "execution_count": 11,
   "metadata": {
    "colab": {
     "base_uri": "https://localhost:8080/"
    },
    "id": "cj3BM9gbs4Mo",
    "outputId": "403c63da-fcaf-43fd-90dc-94a72d645218"
   },
   "outputs": [],
   "source": [
    "import pandas as pd\n",
    "#from google.colab import drive\n",
    "#drive.mount('/content/drive')"
   ]
  },
  {
   "cell_type": "code",
   "execution_count": 14,
   "metadata": {
    "colab": {
     "base_uri": "https://localhost:8080/"
    },
    "id": "3rVNkooYnKjJ",
    "outputId": "8d165ab4-1727-4e82-854b-d9247ea290b5"
   },
   "outputs": [
    {
     "name": "stdout",
     "output_type": "stream",
     "text": [
      "Train\n",
      "                Team  Year Total_Rest_Days  Total_Distance_Traveled  \\\n",
      "0  Arizona Cardinals  2015        122 days             11709.954940   \n",
      "1  Arizona Cardinals  2016        122 days             10602.459040   \n",
      "2  Arizona Cardinals  2017        122 days             10284.258790   \n",
      "3  Arizona Cardinals  2018        122 days              7852.459252   \n",
      "4  Arizona Cardinals  2019        122 days             10868.190350   \n",
      "\n",
      "   Total_Points_For  Total_Points_Allowed  Total_Yards  Rush_Yards  \\\n",
      "0               489                   313         6533        1917   \n",
      "1               418                   362         5868        1732   \n",
      "2               295                   361         5026        1386   \n",
      "3               225                   425         3865        1342   \n",
      "4               361                   442         5467        1990   \n",
      "\n",
      "   Pass_Yards  Total_Opp_Yards  ...  Pass_YDs_Per_game  Opp_Yds_Per_Game  \\\n",
      "0        4616             5147  ...           288.5000          321.6875   \n",
      "1        4136             4883  ...           258.5000          305.1875   \n",
      "2        3640             4973  ...           227.5000          310.8125   \n",
      "3        2523             5741  ...           157.6875          358.8125   \n",
      "4        3477             6432  ...           217.3125          402.0000   \n",
      "\n",
      "   Opp_Rush_Yds_Per_game  Opp_Pass_Yds_Per_game     PD  Yds_DIff  PD_Per_Game  \\\n",
      "0                91.2500               230.4375  176.0    1386.0      11.0000   \n",
      "1                94.8750               210.3125   56.0     985.0       3.5000   \n",
      "2                89.5000               221.3125  -66.0      53.0      -4.1250   \n",
      "3               154.9375               203.8750 -200.0   -1876.0     -12.5000   \n",
      "4               120.1250               281.8750  -81.0    -965.0      -5.0625   \n",
      "\n",
      "   Yds_Diff_Per_Game    Playoff       SOS  \n",
      "0            86.6250  ConfChamp  0.472656  \n",
      "1            61.5625        NaN  0.457031  \n",
      "2             3.3125        NaN  0.488281  \n",
      "3          -117.2500        NaN  0.523438  \n",
      "4           -60.3125        NaN  0.527344  \n",
      "\n",
      "[5 rows x 27 columns]\n",
      "\n",
      "Test\n",
      "                Team  Year Total_Rest_Days  Total_Distance_Traveled  \\\n",
      "0  Arizona Cardinals  2015        122 days             11709.954940   \n",
      "1  Arizona Cardinals  2016        122 days             10602.459040   \n",
      "2  Arizona Cardinals  2017        122 days             10284.258790   \n",
      "3  Arizona Cardinals  2018        122 days              7852.459252   \n",
      "4  Arizona Cardinals  2019        122 days             10868.190350   \n",
      "\n",
      "   Total_Points_For  Total_Points_Allowed  Total_Yards  Rush_Yards  \\\n",
      "0               489                   313         6533        1917   \n",
      "1               418                   362         5868        1732   \n",
      "2               295                   361         5026        1386   \n",
      "3               225                   425         3865        1342   \n",
      "4               361                   442         5467        1990   \n",
      "\n",
      "   Pass_Yards  Total_Opp_Yards  ...  Pass_YDs_Per_game  Opp_Yds_Per_Game  \\\n",
      "0        4616             5147  ...           288.5000          321.6875   \n",
      "1        4136             4883  ...           258.5000          305.1875   \n",
      "2        3640             4973  ...           227.5000          310.8125   \n",
      "3        2523             5741  ...           157.6875          358.8125   \n",
      "4        3477             6432  ...           217.3125          402.0000   \n",
      "\n",
      "   Opp_Rush_Yds_Per_game  Opp_Pass_Yds_Per_game     PD  Yds_DIff  PD_Per_Game  \\\n",
      "0                91.2500               230.4375  176.0    1386.0      11.0000   \n",
      "1                94.8750               210.3125   56.0     985.0       3.5000   \n",
      "2                89.5000               221.3125  -66.0      53.0      -4.1250   \n",
      "3               154.9375               203.8750 -200.0   -1876.0     -12.5000   \n",
      "4               120.1250               281.8750  -81.0    -965.0      -5.0625   \n",
      "\n",
      "   Yds_Diff_Per_Game    Playoff       SOS  \n",
      "0            86.6250  ConfChamp  0.472656  \n",
      "1            61.5625        NaN  0.457031  \n",
      "2             3.3125        NaN  0.488281  \n",
      "3          -117.2500        NaN  0.523438  \n",
      "4           -60.3125        NaN  0.527344  \n",
      "\n",
      "[5 rows x 27 columns]\n"
     ]
    }
   ],
   "source": [
    "filepath_train = '/Users/jarrettsung/Documents/GitHub/NFL-Win-Prediction-Project/CSVs/new_train_data_with_avgs.csv'\n",
    "\n",
    "train_data = pd.read_csv(filepath_train)\n",
    "\n",
    "filepath_test = '/Users/jarrettsung/Documents/GitHub/NFL-Win-Prediction-Project/CSVs/new_test_data_with_avgs.csv'\n",
    "test_data = pd.read_csv(filepath_train)\n",
    "\n",
    "print(\"Train\")\n",
    "print(train_data.head())\n",
    "print(\"\\nTest\")\n",
    "print(test_data.head())"
   ]
  },
  {
   "cell_type": "markdown",
   "metadata": {
    "id": "WAFvroJjWLF1"
   },
   "source": [
    "## Training with SOS"
   ]
  },
  {
   "cell_type": "code",
   "execution_count": 15,
   "metadata": {
    "colab": {
     "base_uri": "https://localhost:8080/",
     "height": 256
    },
    "id": "0qqFFFPSWKPA",
    "outputId": "96e982d3-3d33-4bbb-bbd2-a2c4077dce25"
   },
   "outputs": [
    {
     "data": {
      "text/html": [
       "<div>\n",
       "<style scoped>\n",
       "    .dataframe tbody tr th:only-of-type {\n",
       "        vertical-align: middle;\n",
       "    }\n",
       "\n",
       "    .dataframe tbody tr th {\n",
       "        vertical-align: top;\n",
       "    }\n",
       "\n",
       "    .dataframe thead th {\n",
       "        text-align: right;\n",
       "    }\n",
       "</style>\n",
       "<table border=\"1\" class=\"dataframe\">\n",
       "  <thead>\n",
       "    <tr style=\"text-align: right;\">\n",
       "      <th></th>\n",
       "      <th>Total_Distance_Traveled</th>\n",
       "      <th>Total_Points_For</th>\n",
       "      <th>Total_Points_Allowed</th>\n",
       "      <th>Total_Yards</th>\n",
       "      <th>Rush_Yards</th>\n",
       "      <th>Pass_Yards</th>\n",
       "      <th>Total_Opp_Yards</th>\n",
       "      <th>Opp_Rush_Yards</th>\n",
       "      <th>Opp_Pass_Yards</th>\n",
       "      <th>PF_Per_Game</th>\n",
       "      <th>...</th>\n",
       "      <th>Rush_Yds_Per_Game</th>\n",
       "      <th>Pass_YDs_Per_game</th>\n",
       "      <th>Opp_Yds_Per_Game</th>\n",
       "      <th>Opp_Rush_Yds_Per_game</th>\n",
       "      <th>Opp_Pass_Yds_Per_game</th>\n",
       "      <th>PD</th>\n",
       "      <th>Yds_DIff</th>\n",
       "      <th>PD_Per_Game</th>\n",
       "      <th>Yds_Diff_Per_Game</th>\n",
       "      <th>SOS</th>\n",
       "    </tr>\n",
       "  </thead>\n",
       "  <tbody>\n",
       "    <tr>\n",
       "      <th>0</th>\n",
       "      <td>11029.604150</td>\n",
       "      <td>449</td>\n",
       "      <td>366</td>\n",
       "      <td>6352</td>\n",
       "      <td>2076</td>\n",
       "      <td>4276</td>\n",
       "      <td>5597</td>\n",
       "      <td>1952</td>\n",
       "      <td>3645</td>\n",
       "      <td>26.411765</td>\n",
       "      <td>...</td>\n",
       "      <td>122.117647</td>\n",
       "      <td>251.529412</td>\n",
       "      <td>329.235294</td>\n",
       "      <td>114.823529</td>\n",
       "      <td>214.411765</td>\n",
       "      <td>83</td>\n",
       "      <td>755</td>\n",
       "      <td>4.882353</td>\n",
       "      <td>44.411765</td>\n",
       "      <td>0.31</td>\n",
       "    </tr>\n",
       "    <tr>\n",
       "      <th>1</th>\n",
       "      <td>7582.250614</td>\n",
       "      <td>340</td>\n",
       "      <td>449</td>\n",
       "      <td>5499</td>\n",
       "      <td>1873</td>\n",
       "      <td>3626</td>\n",
       "      <td>5931</td>\n",
       "      <td>2016</td>\n",
       "      <td>3915</td>\n",
       "      <td>20.000000</td>\n",
       "      <td>...</td>\n",
       "      <td>110.176471</td>\n",
       "      <td>213.294118</td>\n",
       "      <td>348.882353</td>\n",
       "      <td>118.588235</td>\n",
       "      <td>230.294118</td>\n",
       "      <td>-109</td>\n",
       "      <td>-432</td>\n",
       "      <td>-6.411765</td>\n",
       "      <td>-25.411765</td>\n",
       "      <td>0.21</td>\n",
       "    </tr>\n",
       "    <tr>\n",
       "      <th>2</th>\n",
       "      <td>6208.864683</td>\n",
       "      <td>313</td>\n",
       "      <td>459</td>\n",
       "      <td>5164</td>\n",
       "      <td>1451</td>\n",
       "      <td>3713</td>\n",
       "      <td>6194</td>\n",
       "      <td>2242</td>\n",
       "      <td>3952</td>\n",
       "      <td>18.411765</td>\n",
       "      <td>...</td>\n",
       "      <td>85.352941</td>\n",
       "      <td>218.411765</td>\n",
       "      <td>364.352941</td>\n",
       "      <td>131.882353</td>\n",
       "      <td>232.470588</td>\n",
       "      <td>-146</td>\n",
       "      <td>-1030</td>\n",
       "      <td>-8.588235</td>\n",
       "      <td>-60.588235</td>\n",
       "      <td>0.10</td>\n",
       "    </tr>\n",
       "    <tr>\n",
       "      <th>3</th>\n",
       "      <td>6662.598089</td>\n",
       "      <td>365</td>\n",
       "      <td>386</td>\n",
       "      <td>5417</td>\n",
       "      <td>2718</td>\n",
       "      <td>2699</td>\n",
       "      <td>6156</td>\n",
       "      <td>2214</td>\n",
       "      <td>3942</td>\n",
       "      <td>21.470588</td>\n",
       "      <td>...</td>\n",
       "      <td>159.882353</td>\n",
       "      <td>158.764706</td>\n",
       "      <td>362.117647</td>\n",
       "      <td>130.235294</td>\n",
       "      <td>231.882353</td>\n",
       "      <td>-21</td>\n",
       "      <td>-739</td>\n",
       "      <td>-1.235294</td>\n",
       "      <td>-43.470588</td>\n",
       "      <td>-0.88</td>\n",
       "    </tr>\n",
       "    <tr>\n",
       "      <th>4</th>\n",
       "      <td>6496.672853</td>\n",
       "      <td>387</td>\n",
       "      <td>392</td>\n",
       "      <td>6440</td>\n",
       "      <td>2479</td>\n",
       "      <td>3961</td>\n",
       "      <td>6178</td>\n",
       "      <td>1436</td>\n",
       "      <td>4742</td>\n",
       "      <td>22.764706</td>\n",
       "      <td>...</td>\n",
       "      <td>145.823529</td>\n",
       "      <td>233.000000</td>\n",
       "      <td>363.411765</td>\n",
       "      <td>84.470588</td>\n",
       "      <td>278.941176</td>\n",
       "      <td>-5</td>\n",
       "      <td>262</td>\n",
       "      <td>-0.294118</td>\n",
       "      <td>15.411765</td>\n",
       "      <td>0.01</td>\n",
       "    </tr>\n",
       "  </tbody>\n",
       "</table>\n",
       "<p>5 rows × 22 columns</p>\n",
       "</div>"
      ],
      "text/plain": [
       "   Total_Distance_Traveled  Total_Points_For  Total_Points_Allowed  \\\n",
       "0             11029.604150               449                   366   \n",
       "1              7582.250614               340                   449   \n",
       "2              6208.864683               313                   459   \n",
       "3              6662.598089               365                   386   \n",
       "4              6496.672853               387                   392   \n",
       "\n",
       "   Total_Yards  Rush_Yards  Pass_Yards  Total_Opp_Yards  Opp_Rush_Yards  \\\n",
       "0         6352        2076        4276             5597            1952   \n",
       "1         5499        1873        3626             5931            2016   \n",
       "2         5164        1451        3713             6194            2242   \n",
       "3         5417        2718        2699             6156            2214   \n",
       "4         6440        2479        3961             6178            1436   \n",
       "\n",
       "   Opp_Pass_Yards  PF_Per_Game  ...  Rush_Yds_Per_Game  Pass_YDs_Per_game  \\\n",
       "0            3645    26.411765  ...         122.117647         251.529412   \n",
       "1            3915    20.000000  ...         110.176471         213.294118   \n",
       "2            3952    18.411765  ...          85.352941         218.411765   \n",
       "3            3942    21.470588  ...         159.882353         158.764706   \n",
       "4            4742    22.764706  ...         145.823529         233.000000   \n",
       "\n",
       "   Opp_Yds_Per_Game  Opp_Rush_Yds_Per_game  Opp_Pass_Yds_Per_game   PD  \\\n",
       "0        329.235294             114.823529             214.411765   83   \n",
       "1        348.882353             118.588235             230.294118 -109   \n",
       "2        364.352941             131.882353             232.470588 -146   \n",
       "3        362.117647             130.235294             231.882353  -21   \n",
       "4        363.411765              84.470588             278.941176   -5   \n",
       "\n",
       "   Yds_DIff  PD_Per_Game  Yds_Diff_Per_Game   SOS  \n",
       "0       755     4.882353          44.411765  0.31  \n",
       "1      -432    -6.411765         -25.411765  0.21  \n",
       "2     -1030    -8.588235         -60.588235  0.10  \n",
       "3      -739    -1.235294         -43.470588 -0.88  \n",
       "4       262    -0.294118          15.411765  0.01  \n",
       "\n",
       "[5 rows x 22 columns]"
      ]
     },
     "execution_count": 15,
     "metadata": {},
     "output_type": "execute_result"
    }
   ],
   "source": [
    "X_train = pd.read_csv(filepath_train)\n",
    "y_train = X_train[\"Win_Percentage\"]\n",
    "X_train = X_train.drop(['Team', 'Year', 'Win_Percentage', 'Total_Rest_Days', 'Playoff'], axis = 1)\n",
    "X_test = pd.read_csv(filepath_test)\n",
    "y_test = X_test[\"Win_Percentage\"]\n",
    "X_test = X_test.drop(['Team', 'Year', 'Win_Percentage', 'Total_Rest_Days', 'Playoff'], axis = 1)\n",
    "X_test.head()"
   ]
  },
  {
   "cell_type": "code",
   "execution_count": null,
   "metadata": {
    "colab": {
     "base_uri": "https://localhost:8080/"
    },
    "id": "nAoEmFBmwP0c",
    "outputId": "f0c43ebb-a05e-4041-ab57-8b1fc1faa148"
   },
   "outputs": [
    {
     "name": "stdout",
     "output_type": "stream",
     "text": [
      "   Total_Distance_Traveled  Total_Points_For  Total_Points_Allowed  \\\n",
      "0             11709.954942               489                   313   \n",
      "1             10602.459038               418                   362   \n",
      "2             10284.258794               295                   361   \n",
      "3              7852.459252               225                   425   \n",
      "4             10868.190349               361                   442   \n",
      "\n",
      "   Total_Yards  Rush_Yards  Pass_Yards  Total_Opp_Yards  Opp_Rush_Yards  \\\n",
      "0         6533        1917        4616             5147            1460   \n",
      "1         5868        1732        4136             4883            1518   \n",
      "2         5026        1386        3640             4973            1432   \n",
      "3         3865        1342        2523             5741            2479   \n",
      "4         5467        1990        3477             6432            1922   \n",
      "\n",
      "   Opp_Pass_Yards  \n",
      "0            3687  \n",
      "1            3365  \n",
      "2            3541  \n",
      "3            3262  \n",
      "4            4510  \n",
      "0    0.8125\n",
      "1    0.4375\n",
      "2    0.5000\n",
      "3    0.1875\n",
      "4    0.3125\n",
      "Name: Win_Percentage, dtype: float64\n",
      "<class 'pandas.core.frame.DataFrame'>\n",
      "RangeIndex: 62 entries, 0 to 61\n",
      "Data columns (total 13 columns):\n",
      " #   Column                   Non-Null Count  Dtype  \n",
      "---  ------                   --------------  -----  \n",
      " 0   Team                     62 non-null     object \n",
      " 1   Year                     62 non-null     int64  \n",
      " 2   Total_Rest_Days          62 non-null     object \n",
      " 3   Total_Distance_Traveled  62 non-null     float64\n",
      " 4   Total_Points_For         62 non-null     int64  \n",
      " 5   Total_Points_Allowed     62 non-null     int64  \n",
      " 6   Total_Yards              62 non-null     int64  \n",
      " 7   Rush_Yards               62 non-null     int64  \n",
      " 8   Pass_Yards               62 non-null     int64  \n",
      " 9   Total_Opp_Yards          62 non-null     int64  \n",
      " 10  Opp_Rush_Yards           62 non-null     int64  \n",
      " 11  Opp_Pass_Yards           62 non-null     int64  \n",
      " 12  Win_Percentage           62 non-null     float64\n",
      "dtypes: float64(2), int64(9), object(2)\n",
      "memory usage: 6.4+ KB\n",
      "None\n"
     ]
    }
   ],
   "source": [
    "x_train = train_data.drop(['Team', 'Year', 'Win_Percentage', 'Total_Rest_Days'], axis = 1)\n",
    "y_train = train_data['Win_Percentage']\n",
    "\n",
    "print(x_train.head())\n",
    "print(y_train.head())\n",
    "print(test_data.info())"
   ]
  },
  {
   "cell_type": "code",
   "execution_count": null,
   "metadata": {
    "colab": {
     "base_uri": "https://localhost:8080/"
    },
    "id": "lN7OoBq-zMnr",
    "outputId": "4d4f3dcc-9bde-4c8d-8290-167adfbdc0ec"
   },
   "outputs": [
    {
     "name": "stdout",
     "output_type": "stream",
     "text": [
      "   Total_Distance_Traveled  Total_Points_For  Total_Points_Allowed  \\\n",
      "0             11029.604154               449                   366   \n",
      "1              7582.250614               340                   449   \n",
      "2              6208.864683               313                   459   \n",
      "3              6662.598089               365                   386   \n",
      "4              6496.672853               387                   392   \n",
      "\n",
      "   Total_Yards  Rush_Yards  Pass_Yards  Total_Opp_Yards  Opp_Rush_Yards  \\\n",
      "0         6352        2076        4276             5597            1952   \n",
      "1         5499        1873        3626             5931            2016   \n",
      "2         5164        1451        3713             6194            2242   \n",
      "3         5417        2718        2699             6156            2214   \n",
      "4         6440        2479        3961             6178            1436   \n",
      "\n",
      "   Opp_Pass_Yards  \n",
      "0            3645  \n",
      "1            3915  \n",
      "2            3952  \n",
      "3            3942  \n",
      "4            4742  \n",
      "0    0.647059\n",
      "1    0.235294\n",
      "2    0.411765\n",
      "3    0.411765\n",
      "4    0.470588\n",
      "Name: Win_Percentage, dtype: float64\n"
     ]
    }
   ],
   "source": [
    "x_test = test_data.drop(['Team', 'Year', 'Win_Percentage', 'Total_Rest_Days'], axis = 1)\n",
    "y_test = test_data['Win_Percentage']\n",
    "\n",
    "print(x_test.head())\n",
    "print(y_test.head())"
   ]
  },
  {
   "cell_type": "code",
   "execution_count": 16,
   "metadata": {
    "colab": {
     "base_uri": "https://localhost:8080/"
    },
    "id": "gnwl3lMt0IWb",
    "outputId": "eccfa311-ce84-4e29-d866-34df6c44ef66"
   },
   "outputs": [
    {
     "name": "stdout",
     "output_type": "stream",
     "text": [
      "{'Pass_YDs_Per_game', 'Playoff', 'PD', 'Total_Points_For', 'Yds_DIff', 'Opp_Yds_Per_Game', 'Yds_Per_game', 'SOS', 'Opp_Rush_Yds_Per_game', 'PA_Per_Game', 'Total_Points_Allowed', 'Rush_Yds_Per_Game', 'Total_Distance_Traveled', 'Opp_Pass_Yards', 'Rush_Yards', 'PF_Per_Game', 'Opp_Pass_Yds_Per_game', 'PD_Per_Game', 'Opp_Rush_Yards', 'Total_Yards', 'Team', 'Total_Opp_Yards', 'Win_Percentage', 'Pass_Yards', 'Yds_Diff_Per_Game', 'Year', 'Total_Rest_Days'}\n",
      "Only in test\n",
      "set()\n",
      "\n",
      "Only in train\n",
      "set()\n"
     ]
    }
   ],
   "source": [
    "common_columns = set(test_data.columns) & set(train_data.columns)\n",
    "unique_to_test = set(test_data.columns) - set(train_data.columns)\n",
    "unique_to_train = set(train_data.columns) - set(test_data.columns)\n",
    "\n",
    "print(common_columns)\n",
    "print(\"Only in test\")\n",
    "print(unique_to_test)\n",
    "print(\"\\nOnly in train\")\n",
    "print(unique_to_train)\n",
    "\n",
    "# test_data = test_data.rename(columns={'Avg_Pass_Yards': 'Pass_YDs_Per_game', 'Avg_Opp_Yards': 'Opp_Yds_Per_Game',\n",
    "#                                       'Avg_Points_Allowed': 'PA_Per_Game', 'Avg_Rush_Yards': 'Rush_Yds_Per_Game',\n",
    "#                                       'Avg_Opp_Pass_Yards': 'Opp_Pass_Yds_Per_game', 'Avg_Points_For': 'PF_Per_Game',\n",
    "#                                       'Avg_Yards': 'Yds_Per_game', 'Avg_Opp_Rush_Yards': 'Opp_Rush_Yds_Per_game'})\n"
   ]
  },
  {
   "cell_type": "markdown",
   "metadata": {
    "id": "HEZlXQ0BnElY"
   },
   "source": [
    "## Making the Model"
   ]
  },
  {
   "cell_type": "code",
   "execution_count": 17,
   "metadata": {
    "colab": {
     "base_uri": "https://localhost:8080/"
    },
    "id": "ZD-fUDbUnEFM",
    "outputId": "d69bc6f6-18c7-46f3-d09d-cc090c6506a0"
   },
   "outputs": [
    {
     "name": "stderr",
     "output_type": "stream",
     "text": [
      "/Users/jarrettsung/opt/anaconda3/lib/python3.9/site-packages/scipy/__init__.py:146: UserWarning: A NumPy version >=1.16.5 and <1.23.0 is required for this version of SciPy (detected version 1.26.2\n",
      "  warnings.warn(f\"A NumPy version >={np_minversion} and <{np_maxversion}\"\n",
      "/Users/jarrettsung/opt/anaconda3/lib/python3.9/site-packages/sklearn/utils/validation.py:623: FutureWarning: is_sparse is deprecated and will be removed in a future version. Check `isinstance(dtype, pd.SparseDtype)` instead.\n",
      "  if not hasattr(array, \"sparse\") and array.dtypes.apply(is_sparse).any():\n"
     ]
    },
    {
     "name": "stdout",
     "output_type": "stream",
     "text": [
      "[10.79190146  4.9808828   4.01144711  8.66244903  8.22857443  9.50407452\n",
      " 14.39707089 13.47212193  5.14860119  8.36173816  5.25566773  4.18454986\n",
      " 11.71405032 11.32312885  7.52921792  7.26833178 13.75829681 12.79544521\n",
      "  9.31553698  6.21031634  3.9996391   9.05792149 10.82544801  8.24448684\n",
      "  3.6084002   5.08352611 11.78133614  4.10748909  1.82593011 10.67609441\n",
      " 11.85281761 12.07419437  5.68450472  8.11898434  8.4079319   8.67253523\n",
      " 11.21780191  6.57482759  8.04004737  7.61711483  8.46760254  8.48098551\n",
      " 13.80215285  9.08523438  9.87982027  7.79629901  3.59485447  8.57358289\n",
      "  2.43659172  7.21197605 10.61026514 12.41719915  6.73945245  6.93424121\n",
      "  9.98120948 14.61057037 10.27721346  8.91704038 13.19706782  6.37890581\n",
      " 10.99186051  7.37120647  4.90457084  7.23921469]\n",
      "\n",
      "\n",
      "2.8054032849878334\n"
     ]
    },
    {
     "name": "stderr",
     "output_type": "stream",
     "text": [
      "/Users/jarrettsung/opt/anaconda3/lib/python3.9/site-packages/sklearn/utils/validation.py:623: FutureWarning: is_sparse is deprecated and will be removed in a future version. Check `isinstance(dtype, pd.SparseDtype)` instead.\n",
      "  if not hasattr(array, \"sparse\") and array.dtypes.apply(is_sparse).any():\n"
     ]
    }
   ],
   "source": [
    "import numpy as np\n",
    "import matplotlib.pyplot as plt\n",
    "from sklearn.linear_model import LinearRegression\n",
    "from sklearn.model_selection import train_test_split\n",
    "from sklearn.metrics import mean_squared_error\n",
    "\n",
    "model = LinearRegression()\n",
    "model.fit(X_train, y_train)\n",
    "\n",
    "# 4. Make predictions\n",
    "y_pred = model.predict(X_test)\n",
    "y_pred_actual_wins = y_pred * 17\n",
    "print(y_pred_actual_wins)\n",
    "\n",
    "y_test_actual_wins = y_test * 17\n",
    "\n",
    "# 5. Compute the mean squared error of the model\n",
    "MSE = mean_squared_error(y_test_actual_wins, y_pred_actual_wins)\n",
    "\n",
    "print('\\n')\n",
    "print(MSE)"
   ]
  },
  {
   "cell_type": "code",
   "execution_count": 18,
   "metadata": {
    "colab": {
     "base_uri": "https://localhost:8080/"
    },
    "id": "waoqontvttuj",
    "outputId": "8165bf90-419e-43e0-e61e-96d01f448296"
   },
   "outputs": [
    {
     "name": "stdout",
     "output_type": "stream",
     "text": [
      "Actual: 10.9999999995, Predicted: 10.791901458274127, Difference: 0.20809854122587268\n",
      "Actual: 3.9999999992, Predicted: 4.980882797996054, Difference: 0.9808827987960544\n",
      "Actual: 7.0000000003, Predicted: 4.011447110901106, Difference: 2.9885528893988944\n",
      "Actual: 7.0000000003, Predicted: 8.6624490302196, Difference: 1.6624490299195998\n",
      "Actual: 8.0000000001, Predicted: 8.22857443480868, Difference: 0.22857443470867977\n",
      "Actual: 9.9999999997, Predicted: 9.504074517194574, Difference: 0.49592548250542556\n",
      "Actual: 10.9999999995, Predicted: 14.397070894663369, Difference: 3.3970708951633686\n",
      "Actual: 13.8125, Predicted: 13.472121934554814, Difference: 0.34037806544518645\n",
      "Actual: 5.0000000007, Predicted: 5.148601190263903, Difference: 0.14860118956390256\n",
      "Actual: 7.0000000003, Predicted: 8.361738155000602, Difference: 1.3617381547006016\n",
      "Actual: 6.0000000005, Predicted: 5.255667728245635, Difference: 0.7443322722543648\n",
      "Actual: 2.9999999994, Predicted: 4.184549858278153, Difference: 1.1845498588781531\n",
      "Actual: 9.9999999997, Predicted: 11.714050317788635, Difference: 1.7140503180886348\n",
      "Actual: 12.75, Predicted: 11.323128849089933, Difference: 1.4268711509100669\n",
      "Actual: 8.0000000001, Predicted: 7.529217917092724, Difference: 0.4707820830072764\n",
      "Actual: 7.0000000003, Predicted: 7.268331777537902, Difference: 0.26833177723790236\n",
      "Actual: 11.9999999993, Predicted: 13.758296810974045, Difference: 1.758296811674045\n",
      "Actual: 11.9999999993, Predicted: 12.79544520535271, Difference: 0.79544520605271\n",
      "Actual: 7.0000000003, Predicted: 9.315536984805806, Difference: 2.3155369845058065\n",
      "Actual: 5.0000000007, Predicted: 6.210316337544152, Difference: 1.2103163368441523\n",
      "Actual: 2.9999999994, Predicted: 3.999639096346307, Difference: 0.9996390969463071\n",
      "Actual: 8.9999999999, Predicted: 9.05792148704985, Difference: 0.05792148714984968\n",
      "Actual: 13.0000000008, Predicted: 10.825448007629882, Difference: 2.174551993170118\n",
      "Actual: 8.0000000001, Predicted: 8.244486835589132, Difference: 0.2444868354891323\n",
      "Actual: 3.9999999992, Predicted: 3.6084002049239627, Difference: 0.3915997942760372\n",
      "Actual: 2.9999999994, Predicted: 5.083526113937055, Difference: 2.0835261145370554\n",
      "Actual: 8.9999999999, Predicted: 11.781336140629561, Difference: 2.781336140729561\n",
      "Actual: 3.9999999992, Predicted: 4.10748908912257, Difference: 0.10748908992257\n",
      "Actual: 2.9999999994, Predicted: 1.8259301063218532, Difference: 1.1740698930781468\n",
      "Actual: 8.9999999999, Predicted: 10.676094413213354, Difference: 1.6760944133133542\n",
      "Actual: 11.9999999993, Predicted: 11.85281761395965, Difference: 0.14718238534035066\n",
      "Actual: 14.0000000006, Predicted: 12.074194368539851, Difference: 1.9258056320601487\n",
      "Actual: 9.9999999997, Predicted: 5.684504717645177, Difference: 4.315495282054823\n",
      "Actual: 6.0000000005, Predicted: 8.11898433552457, Difference: 2.118984335024569\n",
      "Actual: 8.9999999999, Predicted: 8.40793189508469, Difference: 0.5920681048153096\n",
      "Actual: 9.9999999997, Predicted: 8.672535231240659, Difference: 1.3274647684593415\n",
      "Actual: 11.9999999993, Predicted: 11.217801905783853, Difference: 0.782198093516147\n",
      "Actual: 5.0000000007, Predicted: 6.57482759248823, Difference: 1.57482759178823\n",
      "Actual: 8.9999999999, Predicted: 8.040047371465645, Difference: 0.9599526284343547\n",
      "Actual: 8.9999999999, Predicted: 7.6171148252566345, Difference: 1.3828851746433655\n",
      "Actual: 8.0000000001, Predicted: 8.467602540169892, Difference: 0.4676025400698922\n",
      "Actual: 13.0000000008, Predicted: 8.480985513764443, Difference: 4.519014487035557\n",
      "Actual: 9.9999999997, Predicted: 13.80215285095092, Difference: 3.80215285125092\n",
      "Actual: 8.0000000001, Predicted: 9.085234379355779, Difference: 1.0852343792557786\n",
      "Actual: 8.9999999999, Predicted: 9.879820266161099, Difference: 0.879820266261099\n",
      "Actual: 7.0000000003, Predicted: 7.796299013122875, Difference: 0.7962990128228746\n",
      "Actual: 3.9999999992, Predicted: 3.594854471010722, Difference: 0.40514552818927774\n",
      "Actual: 8.9999999999, Predicted: 8.573582893506941, Difference: 0.42641710639305863\n",
      "Actual: 3.9999999992, Predicted: 2.4365917220992652, Difference: 1.5634082771007347\n",
      "Actual: 7.0000000003, Predicted: 7.211976052982742, Difference: 0.21197605268274167\n",
      "Actual: 8.9999999999, Predicted: 10.610265138961552, Difference: 1.6102651390615517\n",
      "Actual: 14.0000000006, Predicted: 12.417199148694007, Difference: 1.5828008519059935\n",
      "Actual: 8.9999999999, Predicted: 6.739452448208272, Difference: 2.2605475516917277\n",
      "Actual: 8.9999999999, Predicted: 6.934241207423375, Difference: 2.0657587924766254\n",
      "Actual: 9.9999999997, Predicted: 9.981209478267827, Difference: 0.01879052143217308\n",
      "Actual: 13.0000000008, Predicted: 14.610570371005503, Difference: 1.6105703702055028\n",
      "Actual: 7.0000000003, Predicted: 10.277213464448785, Difference: 3.277213464148785\n",
      "Actual: 8.9999999999, Predicted: 8.917040383877733, Difference: 0.08295961602226676\n",
      "Actual: 13.0000000008, Predicted: 13.197067818450579, Difference: 0.1970678176505789\n",
      "Actual: 8.0000000001, Predicted: 6.378905805233347, Difference: 1.6210941948666528\n",
      "Actual: 11.9999999993, Predicted: 10.991860513362102, Difference: 1.0081394859378978\n",
      "Actual: 7.0000000003, Predicted: 7.371206471206692, Difference: 0.37120647090669223\n",
      "Actual: 7.0000000003, Predicted: 4.9045708386244335, Difference: 2.0954291616755665\n",
      "Actual: 8.5, Predicted: 7.239214685621175, Difference: 1.2607853143788246\n",
      "<= 1 47 , Percentage: 0.734375\n",
      "> 1 17 , Percentage: 0.265625\n"
     ]
    }
   ],
   "source": [
    "# y_pred = model.predict(X_test)\n",
    "# y_pred_actual_wins = y_pred * 17\n",
    "\n",
    "less_than_one = 0\n",
    "over_one = 0\n",
    "# Assuming y_test_actual_wins and y_pred_actual_wins are NumPy arrays or lists\n",
    "for actual, predicted in zip(y_test_actual_wins, y_pred_actual_wins):\n",
    "    print(f\"Actual: {actual}, Predicted: {predicted}, Difference: {abs(actual - predicted)}\")\n",
    "    if actual - predicted <= 1:\n",
    "      less_than_one += 1\n",
    "    else:\n",
    "      over_one += 1\n",
    "\n",
    "print(\"<= 1\", str(less_than_one), \", Percentage:\", str(less_than_one / len(y_test_actual_wins)))\n",
    "print(\"> 1\", str(over_one), \", Percentage:\", str(over_one / len(y_test_actual_wins)))"
   ]
  },
  {
   "cell_type": "markdown",
   "metadata": {
    "id": "ykRxYg0PvWgQ"
   },
   "source": [
    "# R Squared Score"
   ]
  },
  {
   "cell_type": "code",
   "execution_count": 19,
   "metadata": {
    "colab": {
     "base_uri": "https://localhost:8080/"
    },
    "id": "BrJd2x_qvVnQ",
    "outputId": "3b4a9e03-2875-4236-a64d-939813e0147e"
   },
   "outputs": [
    {
     "name": "stdout",
     "output_type": "stream",
     "text": [
      "R-squared value: 0.6869168836587962\n"
     ]
    }
   ],
   "source": [
    "from sklearn.metrics import r2_score\n",
    "\n",
    "r_squared = r2_score(y_test_actual_wins, y_pred_actual_wins)\n",
    "\n",
    "print(f'R-squared value: {r_squared}')"
   ]
  },
  {
   "cell_type": "code",
   "execution_count": null,
   "metadata": {
    "id": "J35vKDT82NhI"
   },
   "outputs": [],
   "source": [
    "import matplotlib.pyplot as plt\n",
    "\n"
   ]
  },
  {
   "cell_type": "markdown",
   "metadata": {
    "id": "rfxWnJAWz6SS"
   },
   "source": [
    "Feature Selection:"
   ]
  },
  {
   "cell_type": "code",
   "execution_count": 21,
   "metadata": {
    "colab": {
     "base_uri": "https://localhost:8080/"
    },
    "id": "3w7pGlCqxs_6",
    "outputId": "5d739be7-07d3-4288-b68a-5730d9e39f7a"
   },
   "outputs": [
    {
     "name": "stdout",
     "output_type": "stream",
     "text": [
      "alpha = 100, val_score = -0.028020541422127378\n"
     ]
    },
    {
     "name": "stderr",
     "output_type": "stream",
     "text": [
      "/Users/jarrettsung/opt/anaconda3/lib/python3.9/site-packages/sklearn/utils/validation.py:623: FutureWarning: is_sparse is deprecated and will be removed in a future version. Check `isinstance(dtype, pd.SparseDtype)` instead.\n",
      "  if not hasattr(array, \"sparse\") and array.dtypes.apply(is_sparse).any():\n",
      "/Users/jarrettsung/opt/anaconda3/lib/python3.9/site-packages/sklearn/utils/validation.py:623: FutureWarning: is_sparse is deprecated and will be removed in a future version. Check `isinstance(dtype, pd.SparseDtype)` instead.\n",
      "  if not hasattr(array, \"sparse\") and array.dtypes.apply(is_sparse).any():\n",
      "/Users/jarrettsung/opt/anaconda3/lib/python3.9/site-packages/sklearn/utils/validation.py:623: FutureWarning: is_sparse is deprecated and will be removed in a future version. Check `isinstance(dtype, pd.SparseDtype)` instead.\n",
      "  if not hasattr(array, \"sparse\") and array.dtypes.apply(is_sparse).any():\n",
      "/Users/jarrettsung/opt/anaconda3/lib/python3.9/site-packages/sklearn/utils/validation.py:623: FutureWarning: is_sparse is deprecated and will be removed in a future version. Check `isinstance(dtype, pd.SparseDtype)` instead.\n",
      "  if not hasattr(array, \"sparse\") and array.dtypes.apply(is_sparse).any():\n",
      "/Users/jarrettsung/opt/anaconda3/lib/python3.9/site-packages/sklearn/utils/validation.py:623: FutureWarning: is_sparse is deprecated and will be removed in a future version. Check `isinstance(dtype, pd.SparseDtype)` instead.\n",
      "  if not hasattr(array, \"sparse\") and array.dtypes.apply(is_sparse).any():\n",
      "/Users/jarrettsung/opt/anaconda3/lib/python3.9/site-packages/sklearn/utils/validation.py:623: FutureWarning: is_sparse is deprecated and will be removed in a future version. Check `isinstance(dtype, pd.SparseDtype)` instead.\n",
      "  if not hasattr(array, \"sparse\") and array.dtypes.apply(is_sparse).any():\n",
      "/Users/jarrettsung/opt/anaconda3/lib/python3.9/site-packages/sklearn/utils/validation.py:623: FutureWarning: is_sparse is deprecated and will be removed in a future version. Check `isinstance(dtype, pd.SparseDtype)` instead.\n",
      "  if not hasattr(array, \"sparse\") and array.dtypes.apply(is_sparse).any():\n",
      "/Users/jarrettsung/opt/anaconda3/lib/python3.9/site-packages/sklearn/utils/validation.py:623: FutureWarning: is_sparse is deprecated and will be removed in a future version. Check `isinstance(dtype, pd.SparseDtype)` instead.\n",
      "  if not hasattr(array, \"sparse\") and array.dtypes.apply(is_sparse).any():\n",
      "/Users/jarrettsung/opt/anaconda3/lib/python3.9/site-packages/sklearn/utils/validation.py:623: FutureWarning: is_sparse is deprecated and will be removed in a future version. Check `isinstance(dtype, pd.SparseDtype)` instead.\n",
      "  if not hasattr(array, \"sparse\") and array.dtypes.apply(is_sparse).any():\n",
      "/Users/jarrettsung/opt/anaconda3/lib/python3.9/site-packages/sklearn/linear_model/_coordinate_descent.py:647: ConvergenceWarning: Objective did not converge. You might want to increase the number of iterations, check the scale of the features or consider increasing regularisation. Duality gap: 1.835e-02, tolerance: 6.162e-04\n",
      "  model = cd_fast.enet_coordinate_descent(\n",
      "/Users/jarrettsung/opt/anaconda3/lib/python3.9/site-packages/sklearn/utils/validation.py:623: FutureWarning: is_sparse is deprecated and will be removed in a future version. Check `isinstance(dtype, pd.SparseDtype)` instead.\n",
      "  if not hasattr(array, \"sparse\") and array.dtypes.apply(is_sparse).any():\n",
      "/Users/jarrettsung/opt/anaconda3/lib/python3.9/site-packages/sklearn/utils/validation.py:623: FutureWarning: is_sparse is deprecated and will be removed in a future version. Check `isinstance(dtype, pd.SparseDtype)` instead.\n",
      "  if not hasattr(array, \"sparse\") and array.dtypes.apply(is_sparse).any():\n",
      "/Users/jarrettsung/opt/anaconda3/lib/python3.9/site-packages/sklearn/utils/validation.py:623: FutureWarning: is_sparse is deprecated and will be removed in a future version. Check `isinstance(dtype, pd.SparseDtype)` instead.\n",
      "  if not hasattr(array, \"sparse\") and array.dtypes.apply(is_sparse).any():\n",
      "/Users/jarrettsung/opt/anaconda3/lib/python3.9/site-packages/sklearn/utils/validation.py:623: FutureWarning: is_sparse is deprecated and will be removed in a future version. Check `isinstance(dtype, pd.SparseDtype)` instead.\n",
      "  if not hasattr(array, \"sparse\") and array.dtypes.apply(is_sparse).any():\n",
      "/Users/jarrettsung/opt/anaconda3/lib/python3.9/site-packages/sklearn/utils/validation.py:623: FutureWarning: is_sparse is deprecated and will be removed in a future version. Check `isinstance(dtype, pd.SparseDtype)` instead.\n",
      "  if not hasattr(array, \"sparse\") and array.dtypes.apply(is_sparse).any():\n",
      "/Users/jarrettsung/opt/anaconda3/lib/python3.9/site-packages/sklearn/utils/validation.py:623: FutureWarning: is_sparse is deprecated and will be removed in a future version. Check `isinstance(dtype, pd.SparseDtype)` instead.\n",
      "  if not hasattr(array, \"sparse\") and array.dtypes.apply(is_sparse).any():\n",
      "/Users/jarrettsung/opt/anaconda3/lib/python3.9/site-packages/sklearn/utils/validation.py:623: FutureWarning: is_sparse is deprecated and will be removed in a future version. Check `isinstance(dtype, pd.SparseDtype)` instead.\n",
      "  if not hasattr(array, \"sparse\") and array.dtypes.apply(is_sparse).any():\n",
      "/Users/jarrettsung/opt/anaconda3/lib/python3.9/site-packages/sklearn/utils/validation.py:623: FutureWarning: is_sparse is deprecated and will be removed in a future version. Check `isinstance(dtype, pd.SparseDtype)` instead.\n",
      "  if not hasattr(array, \"sparse\") and array.dtypes.apply(is_sparse).any():\n",
      "/Users/jarrettsung/opt/anaconda3/lib/python3.9/site-packages/sklearn/utils/validation.py:623: FutureWarning: is_sparse is deprecated and will be removed in a future version. Check `isinstance(dtype, pd.SparseDtype)` instead.\n",
      "  if not hasattr(array, \"sparse\") and array.dtypes.apply(is_sparse).any():\n",
      "/Users/jarrettsung/opt/anaconda3/lib/python3.9/site-packages/sklearn/utils/validation.py:623: FutureWarning: is_sparse is deprecated and will be removed in a future version. Check `isinstance(dtype, pd.SparseDtype)` instead.\n",
      "  if not hasattr(array, \"sparse\") and array.dtypes.apply(is_sparse).any():\n",
      "/Users/jarrettsung/opt/anaconda3/lib/python3.9/site-packages/sklearn/utils/validation.py:623: FutureWarning: is_sparse is deprecated and will be removed in a future version. Check `isinstance(dtype, pd.SparseDtype)` instead.\n",
      "  if not hasattr(array, \"sparse\") and array.dtypes.apply(is_sparse).any():\n",
      "/Users/jarrettsung/opt/anaconda3/lib/python3.9/site-packages/sklearn/utils/validation.py:623: FutureWarning: is_sparse is deprecated and will be removed in a future version. Check `isinstance(dtype, pd.SparseDtype)` instead.\n",
      "  if not hasattr(array, \"sparse\") and array.dtypes.apply(is_sparse).any():\n",
      "/Users/jarrettsung/opt/anaconda3/lib/python3.9/site-packages/sklearn/utils/validation.py:623: FutureWarning: is_sparse is deprecated and will be removed in a future version. Check `isinstance(dtype, pd.SparseDtype)` instead.\n",
      "  if not hasattr(array, \"sparse\") and array.dtypes.apply(is_sparse).any():\n",
      "/Users/jarrettsung/opt/anaconda3/lib/python3.9/site-packages/sklearn/utils/validation.py:623: FutureWarning: is_sparse is deprecated and will be removed in a future version. Check `isinstance(dtype, pd.SparseDtype)` instead.\n",
      "  if not hasattr(array, \"sparse\") and array.dtypes.apply(is_sparse).any():\n",
      "/Users/jarrettsung/opt/anaconda3/lib/python3.9/site-packages/sklearn/utils/validation.py:623: FutureWarning: is_sparse is deprecated and will be removed in a future version. Check `isinstance(dtype, pd.SparseDtype)` instead.\n",
      "  if not hasattr(array, \"sparse\") and array.dtypes.apply(is_sparse).any():\n",
      "/Users/jarrettsung/opt/anaconda3/lib/python3.9/site-packages/sklearn/utils/validation.py:623: FutureWarning: is_sparse is deprecated and will be removed in a future version. Check `isinstance(dtype, pd.SparseDtype)` instead.\n",
      "  if not hasattr(array, \"sparse\") and array.dtypes.apply(is_sparse).any():\n",
      "/Users/jarrettsung/opt/anaconda3/lib/python3.9/site-packages/sklearn/utils/validation.py:623: FutureWarning: is_sparse is deprecated and will be removed in a future version. Check `isinstance(dtype, pd.SparseDtype)` instead.\n",
      "  if not hasattr(array, \"sparse\") and array.dtypes.apply(is_sparse).any():\n",
      "/Users/jarrettsung/opt/anaconda3/lib/python3.9/site-packages/sklearn/utils/validation.py:623: FutureWarning: is_sparse is deprecated and will be removed in a future version. Check `isinstance(dtype, pd.SparseDtype)` instead.\n",
      "  if not hasattr(array, \"sparse\") and array.dtypes.apply(is_sparse).any():\n",
      "/Users/jarrettsung/opt/anaconda3/lib/python3.9/site-packages/sklearn/utils/validation.py:623: FutureWarning: is_sparse is deprecated and will be removed in a future version. Check `isinstance(dtype, pd.SparseDtype)` instead.\n",
      "  if not hasattr(array, \"sparse\") and array.dtypes.apply(is_sparse).any():\n",
      "/Users/jarrettsung/opt/anaconda3/lib/python3.9/site-packages/sklearn/utils/validation.py:623: FutureWarning: is_sparse is deprecated and will be removed in a future version. Check `isinstance(dtype, pd.SparseDtype)` instead.\n",
      "  if not hasattr(array, \"sparse\") and array.dtypes.apply(is_sparse).any():\n",
      "/Users/jarrettsung/opt/anaconda3/lib/python3.9/site-packages/sklearn/utils/validation.py:623: FutureWarning: is_sparse is deprecated and will be removed in a future version. Check `isinstance(dtype, pd.SparseDtype)` instead.\n",
      "  if not hasattr(array, \"sparse\") and array.dtypes.apply(is_sparse).any():\n",
      "/Users/jarrettsung/opt/anaconda3/lib/python3.9/site-packages/sklearn/utils/validation.py:623: FutureWarning: is_sparse is deprecated and will be removed in a future version. Check `isinstance(dtype, pd.SparseDtype)` instead.\n",
      "  if not hasattr(array, \"sparse\") and array.dtypes.apply(is_sparse).any():\n",
      "/Users/jarrettsung/opt/anaconda3/lib/python3.9/site-packages/sklearn/utils/validation.py:623: FutureWarning: is_sparse is deprecated and will be removed in a future version. Check `isinstance(dtype, pd.SparseDtype)` instead.\n",
      "  if not hasattr(array, \"sparse\") and array.dtypes.apply(is_sparse).any():\n",
      "/Users/jarrettsung/opt/anaconda3/lib/python3.9/site-packages/sklearn/utils/validation.py:623: FutureWarning: is_sparse is deprecated and will be removed in a future version. Check `isinstance(dtype, pd.SparseDtype)` instead.\n",
      "  if not hasattr(array, \"sparse\") and array.dtypes.apply(is_sparse).any():\n",
      "/Users/jarrettsung/opt/anaconda3/lib/python3.9/site-packages/sklearn/utils/validation.py:623: FutureWarning: is_sparse is deprecated and will be removed in a future version. Check `isinstance(dtype, pd.SparseDtype)` instead.\n",
      "  if not hasattr(array, \"sparse\") and array.dtypes.apply(is_sparse).any():\n",
      "/Users/jarrettsung/opt/anaconda3/lib/python3.9/site-packages/sklearn/utils/validation.py:623: FutureWarning: is_sparse is deprecated and will be removed in a future version. Check `isinstance(dtype, pd.SparseDtype)` instead.\n",
      "  if not hasattr(array, \"sparse\") and array.dtypes.apply(is_sparse).any():\n",
      "/Users/jarrettsung/opt/anaconda3/lib/python3.9/site-packages/sklearn/utils/validation.py:623: FutureWarning: is_sparse is deprecated and will be removed in a future version. Check `isinstance(dtype, pd.SparseDtype)` instead.\n",
      "  if not hasattr(array, \"sparse\") and array.dtypes.apply(is_sparse).any():\n",
      "/Users/jarrettsung/opt/anaconda3/lib/python3.9/site-packages/sklearn/utils/validation.py:623: FutureWarning: is_sparse is deprecated and will be removed in a future version. Check `isinstance(dtype, pd.SparseDtype)` instead.\n",
      "  if not hasattr(array, \"sparse\") and array.dtypes.apply(is_sparse).any():\n",
      "/Users/jarrettsung/opt/anaconda3/lib/python3.9/site-packages/sklearn/utils/validation.py:623: FutureWarning: is_sparse is deprecated and will be removed in a future version. Check `isinstance(dtype, pd.SparseDtype)` instead.\n",
      "  if not hasattr(array, \"sparse\") and array.dtypes.apply(is_sparse).any():\n",
      "/Users/jarrettsung/opt/anaconda3/lib/python3.9/site-packages/sklearn/utils/validation.py:623: FutureWarning: is_sparse is deprecated and will be removed in a future version. Check `isinstance(dtype, pd.SparseDtype)` instead.\n",
      "  if not hasattr(array, \"sparse\") and array.dtypes.apply(is_sparse).any():\n",
      "/Users/jarrettsung/opt/anaconda3/lib/python3.9/site-packages/sklearn/utils/validation.py:623: FutureWarning: is_sparse is deprecated and will be removed in a future version. Check `isinstance(dtype, pd.SparseDtype)` instead.\n",
      "  if not hasattr(array, \"sparse\") and array.dtypes.apply(is_sparse).any():\n",
      "/Users/jarrettsung/opt/anaconda3/lib/python3.9/site-packages/sklearn/utils/validation.py:623: FutureWarning: is_sparse is deprecated and will be removed in a future version. Check `isinstance(dtype, pd.SparseDtype)` instead.\n",
      "  if not hasattr(array, \"sparse\") and array.dtypes.apply(is_sparse).any():\n",
      "/Users/jarrettsung/opt/anaconda3/lib/python3.9/site-packages/sklearn/utils/validation.py:623: FutureWarning: is_sparse is deprecated and will be removed in a future version. Check `isinstance(dtype, pd.SparseDtype)` instead.\n",
      "  if not hasattr(array, \"sparse\") and array.dtypes.apply(is_sparse).any():\n",
      "/Users/jarrettsung/opt/anaconda3/lib/python3.9/site-packages/sklearn/utils/validation.py:623: FutureWarning: is_sparse is deprecated and will be removed in a future version. Check `isinstance(dtype, pd.SparseDtype)` instead.\n",
      "  if not hasattr(array, \"sparse\") and array.dtypes.apply(is_sparse).any():\n",
      "/Users/jarrettsung/opt/anaconda3/lib/python3.9/site-packages/sklearn/utils/validation.py:623: FutureWarning: is_sparse is deprecated and will be removed in a future version. Check `isinstance(dtype, pd.SparseDtype)` instead.\n",
      "  if not hasattr(array, \"sparse\") and array.dtypes.apply(is_sparse).any():\n",
      "/Users/jarrettsung/opt/anaconda3/lib/python3.9/site-packages/sklearn/utils/validation.py:623: FutureWarning: is_sparse is deprecated and will be removed in a future version. Check `isinstance(dtype, pd.SparseDtype)` instead.\n",
      "  if not hasattr(array, \"sparse\") and array.dtypes.apply(is_sparse).any():\n",
      "/Users/jarrettsung/opt/anaconda3/lib/python3.9/site-packages/sklearn/utils/validation.py:623: FutureWarning: is_sparse is deprecated and will be removed in a future version. Check `isinstance(dtype, pd.SparseDtype)` instead.\n",
      "  if not hasattr(array, \"sparse\") and array.dtypes.apply(is_sparse).any():\n",
      "/Users/jarrettsung/opt/anaconda3/lib/python3.9/site-packages/sklearn/utils/validation.py:623: FutureWarning: is_sparse is deprecated and will be removed in a future version. Check `isinstance(dtype, pd.SparseDtype)` instead.\n",
      "  if not hasattr(array, \"sparse\") and array.dtypes.apply(is_sparse).any():\n",
      "/Users/jarrettsung/opt/anaconda3/lib/python3.9/site-packages/sklearn/utils/validation.py:623: FutureWarning: is_sparse is deprecated and will be removed in a future version. Check `isinstance(dtype, pd.SparseDtype)` instead.\n",
      "  if not hasattr(array, \"sparse\") and array.dtypes.apply(is_sparse).any():\n",
      "/Users/jarrettsung/opt/anaconda3/lib/python3.9/site-packages/sklearn/utils/validation.py:623: FutureWarning: is_sparse is deprecated and will be removed in a future version. Check `isinstance(dtype, pd.SparseDtype)` instead.\n",
      "  if not hasattr(array, \"sparse\") and array.dtypes.apply(is_sparse).any():\n",
      "/Users/jarrettsung/opt/anaconda3/lib/python3.9/site-packages/sklearn/utils/validation.py:623: FutureWarning: is_sparse is deprecated and will be removed in a future version. Check `isinstance(dtype, pd.SparseDtype)` instead.\n",
      "  if not hasattr(array, \"sparse\") and array.dtypes.apply(is_sparse).any():\n"
     ]
    }
   ],
   "source": [
    "from sklearn.model_selection import cross_val_score\n",
    "from sklearn.metrics import mean_squared_error\n",
    "from sklearn.linear_model import Ridge\n",
    "from sklearn.linear_model import Lasso\n",
    "\n",
    "alphas = [0.01, 0.1, 1.0, 10, 100]\n",
    "\n",
    "for alpha in alphas:\n",
    "  Lr = Lasso(alpha=alpha)\n",
    "  val_score = cross_val_score(Lr, X_train, y_train, cv=5).mean()\n",
    "\n",
    "print(f\"alpha = {alpha}, val_score = {val_score}\")\n",
    "\n",
    "\n"
   ]
  },
  {
   "cell_type": "code",
   "execution_count": 22,
   "metadata": {
    "colab": {
     "base_uri": "https://localhost:8080/"
    },
    "id": "mKmbM8Wfx42y",
    "outputId": "98bc0cd7-af4d-452a-8837-ebab6c47d6b5"
   },
   "outputs": [
    {
     "name": "stdout",
     "output_type": "stream",
     "text": [
      "alpha = 100, val_score = -0.028020541422127378\n",
      "100\n"
     ]
    },
    {
     "name": "stderr",
     "output_type": "stream",
     "text": [
      "/Users/jarrettsung/opt/anaconda3/lib/python3.9/site-packages/sklearn/utils/validation.py:623: FutureWarning: is_sparse is deprecated and will be removed in a future version. Check `isinstance(dtype, pd.SparseDtype)` instead.\n",
      "  if not hasattr(array, \"sparse\") and array.dtypes.apply(is_sparse).any():\n",
      "/Users/jarrettsung/opt/anaconda3/lib/python3.9/site-packages/sklearn/utils/validation.py:623: FutureWarning: is_sparse is deprecated and will be removed in a future version. Check `isinstance(dtype, pd.SparseDtype)` instead.\n",
      "  if not hasattr(array, \"sparse\") and array.dtypes.apply(is_sparse).any():\n",
      "/Users/jarrettsung/opt/anaconda3/lib/python3.9/site-packages/sklearn/utils/validation.py:623: FutureWarning: is_sparse is deprecated and will be removed in a future version. Check `isinstance(dtype, pd.SparseDtype)` instead.\n",
      "  if not hasattr(array, \"sparse\") and array.dtypes.apply(is_sparse).any():\n",
      "/Users/jarrettsung/opt/anaconda3/lib/python3.9/site-packages/sklearn/utils/validation.py:623: FutureWarning: is_sparse is deprecated and will be removed in a future version. Check `isinstance(dtype, pd.SparseDtype)` instead.\n",
      "  if not hasattr(array, \"sparse\") and array.dtypes.apply(is_sparse).any():\n",
      "/Users/jarrettsung/opt/anaconda3/lib/python3.9/site-packages/sklearn/utils/validation.py:623: FutureWarning: is_sparse is deprecated and will be removed in a future version. Check `isinstance(dtype, pd.SparseDtype)` instead.\n",
      "  if not hasattr(array, \"sparse\") and array.dtypes.apply(is_sparse).any():\n",
      "/Users/jarrettsung/opt/anaconda3/lib/python3.9/site-packages/sklearn/utils/validation.py:623: FutureWarning: is_sparse is deprecated and will be removed in a future version. Check `isinstance(dtype, pd.SparseDtype)` instead.\n",
      "  if not hasattr(array, \"sparse\") and array.dtypes.apply(is_sparse).any():\n",
      "/Users/jarrettsung/opt/anaconda3/lib/python3.9/site-packages/sklearn/utils/validation.py:623: FutureWarning: is_sparse is deprecated and will be removed in a future version. Check `isinstance(dtype, pd.SparseDtype)` instead.\n",
      "  if not hasattr(array, \"sparse\") and array.dtypes.apply(is_sparse).any():\n",
      "/Users/jarrettsung/opt/anaconda3/lib/python3.9/site-packages/sklearn/utils/validation.py:623: FutureWarning: is_sparse is deprecated and will be removed in a future version. Check `isinstance(dtype, pd.SparseDtype)` instead.\n",
      "  if not hasattr(array, \"sparse\") and array.dtypes.apply(is_sparse).any():\n",
      "/Users/jarrettsung/opt/anaconda3/lib/python3.9/site-packages/sklearn/utils/validation.py:623: FutureWarning: is_sparse is deprecated and will be removed in a future version. Check `isinstance(dtype, pd.SparseDtype)` instead.\n",
      "  if not hasattr(array, \"sparse\") and array.dtypes.apply(is_sparse).any():\n",
      "/Users/jarrettsung/opt/anaconda3/lib/python3.9/site-packages/sklearn/linear_model/_coordinate_descent.py:647: ConvergenceWarning: Objective did not converge. You might want to increase the number of iterations, check the scale of the features or consider increasing regularisation. Duality gap: 1.835e-02, tolerance: 6.162e-04\n",
      "  model = cd_fast.enet_coordinate_descent(\n",
      "/Users/jarrettsung/opt/anaconda3/lib/python3.9/site-packages/sklearn/utils/validation.py:623: FutureWarning: is_sparse is deprecated and will be removed in a future version. Check `isinstance(dtype, pd.SparseDtype)` instead.\n",
      "  if not hasattr(array, \"sparse\") and array.dtypes.apply(is_sparse).any():\n",
      "/Users/jarrettsung/opt/anaconda3/lib/python3.9/site-packages/sklearn/utils/validation.py:623: FutureWarning: is_sparse is deprecated and will be removed in a future version. Check `isinstance(dtype, pd.SparseDtype)` instead.\n",
      "  if not hasattr(array, \"sparse\") and array.dtypes.apply(is_sparse).any():\n",
      "/Users/jarrettsung/opt/anaconda3/lib/python3.9/site-packages/sklearn/utils/validation.py:623: FutureWarning: is_sparse is deprecated and will be removed in a future version. Check `isinstance(dtype, pd.SparseDtype)` instead.\n",
      "  if not hasattr(array, \"sparse\") and array.dtypes.apply(is_sparse).any():\n",
      "/Users/jarrettsung/opt/anaconda3/lib/python3.9/site-packages/sklearn/utils/validation.py:623: FutureWarning: is_sparse is deprecated and will be removed in a future version. Check `isinstance(dtype, pd.SparseDtype)` instead.\n",
      "  if not hasattr(array, \"sparse\") and array.dtypes.apply(is_sparse).any():\n",
      "/Users/jarrettsung/opt/anaconda3/lib/python3.9/site-packages/sklearn/utils/validation.py:623: FutureWarning: is_sparse is deprecated and will be removed in a future version. Check `isinstance(dtype, pd.SparseDtype)` instead.\n",
      "  if not hasattr(array, \"sparse\") and array.dtypes.apply(is_sparse).any():\n",
      "/Users/jarrettsung/opt/anaconda3/lib/python3.9/site-packages/sklearn/utils/validation.py:623: FutureWarning: is_sparse is deprecated and will be removed in a future version. Check `isinstance(dtype, pd.SparseDtype)` instead.\n",
      "  if not hasattr(array, \"sparse\") and array.dtypes.apply(is_sparse).any():\n",
      "/Users/jarrettsung/opt/anaconda3/lib/python3.9/site-packages/sklearn/utils/validation.py:623: FutureWarning: is_sparse is deprecated and will be removed in a future version. Check `isinstance(dtype, pd.SparseDtype)` instead.\n",
      "  if not hasattr(array, \"sparse\") and array.dtypes.apply(is_sparse).any():\n",
      "/Users/jarrettsung/opt/anaconda3/lib/python3.9/site-packages/sklearn/utils/validation.py:623: FutureWarning: is_sparse is deprecated and will be removed in a future version. Check `isinstance(dtype, pd.SparseDtype)` instead.\n",
      "  if not hasattr(array, \"sparse\") and array.dtypes.apply(is_sparse).any():\n",
      "/Users/jarrettsung/opt/anaconda3/lib/python3.9/site-packages/sklearn/utils/validation.py:623: FutureWarning: is_sparse is deprecated and will be removed in a future version. Check `isinstance(dtype, pd.SparseDtype)` instead.\n",
      "  if not hasattr(array, \"sparse\") and array.dtypes.apply(is_sparse).any():\n",
      "/Users/jarrettsung/opt/anaconda3/lib/python3.9/site-packages/sklearn/utils/validation.py:623: FutureWarning: is_sparse is deprecated and will be removed in a future version. Check `isinstance(dtype, pd.SparseDtype)` instead.\n",
      "  if not hasattr(array, \"sparse\") and array.dtypes.apply(is_sparse).any():\n",
      "/Users/jarrettsung/opt/anaconda3/lib/python3.9/site-packages/sklearn/utils/validation.py:623: FutureWarning: is_sparse is deprecated and will be removed in a future version. Check `isinstance(dtype, pd.SparseDtype)` instead.\n",
      "  if not hasattr(array, \"sparse\") and array.dtypes.apply(is_sparse).any():\n",
      "/Users/jarrettsung/opt/anaconda3/lib/python3.9/site-packages/sklearn/utils/validation.py:623: FutureWarning: is_sparse is deprecated and will be removed in a future version. Check `isinstance(dtype, pd.SparseDtype)` instead.\n",
      "  if not hasattr(array, \"sparse\") and array.dtypes.apply(is_sparse).any():\n",
      "/Users/jarrettsung/opt/anaconda3/lib/python3.9/site-packages/sklearn/utils/validation.py:623: FutureWarning: is_sparse is deprecated and will be removed in a future version. Check `isinstance(dtype, pd.SparseDtype)` instead.\n",
      "  if not hasattr(array, \"sparse\") and array.dtypes.apply(is_sparse).any():\n",
      "/Users/jarrettsung/opt/anaconda3/lib/python3.9/site-packages/sklearn/utils/validation.py:623: FutureWarning: is_sparse is deprecated and will be removed in a future version. Check `isinstance(dtype, pd.SparseDtype)` instead.\n",
      "  if not hasattr(array, \"sparse\") and array.dtypes.apply(is_sparse).any():\n",
      "/Users/jarrettsung/opt/anaconda3/lib/python3.9/site-packages/sklearn/utils/validation.py:623: FutureWarning: is_sparse is deprecated and will be removed in a future version. Check `isinstance(dtype, pd.SparseDtype)` instead.\n",
      "  if not hasattr(array, \"sparse\") and array.dtypes.apply(is_sparse).any():\n",
      "/Users/jarrettsung/opt/anaconda3/lib/python3.9/site-packages/sklearn/utils/validation.py:623: FutureWarning: is_sparse is deprecated and will be removed in a future version. Check `isinstance(dtype, pd.SparseDtype)` instead.\n",
      "  if not hasattr(array, \"sparse\") and array.dtypes.apply(is_sparse).any():\n",
      "/Users/jarrettsung/opt/anaconda3/lib/python3.9/site-packages/sklearn/utils/validation.py:623: FutureWarning: is_sparse is deprecated and will be removed in a future version. Check `isinstance(dtype, pd.SparseDtype)` instead.\n",
      "  if not hasattr(array, \"sparse\") and array.dtypes.apply(is_sparse).any():\n",
      "/Users/jarrettsung/opt/anaconda3/lib/python3.9/site-packages/sklearn/utils/validation.py:623: FutureWarning: is_sparse is deprecated and will be removed in a future version. Check `isinstance(dtype, pd.SparseDtype)` instead.\n",
      "  if not hasattr(array, \"sparse\") and array.dtypes.apply(is_sparse).any():\n",
      "/Users/jarrettsung/opt/anaconda3/lib/python3.9/site-packages/sklearn/utils/validation.py:623: FutureWarning: is_sparse is deprecated and will be removed in a future version. Check `isinstance(dtype, pd.SparseDtype)` instead.\n",
      "  if not hasattr(array, \"sparse\") and array.dtypes.apply(is_sparse).any():\n",
      "/Users/jarrettsung/opt/anaconda3/lib/python3.9/site-packages/sklearn/utils/validation.py:623: FutureWarning: is_sparse is deprecated and will be removed in a future version. Check `isinstance(dtype, pd.SparseDtype)` instead.\n",
      "  if not hasattr(array, \"sparse\") and array.dtypes.apply(is_sparse).any():\n",
      "/Users/jarrettsung/opt/anaconda3/lib/python3.9/site-packages/sklearn/utils/validation.py:623: FutureWarning: is_sparse is deprecated and will be removed in a future version. Check `isinstance(dtype, pd.SparseDtype)` instead.\n",
      "  if not hasattr(array, \"sparse\") and array.dtypes.apply(is_sparse).any():\n",
      "/Users/jarrettsung/opt/anaconda3/lib/python3.9/site-packages/sklearn/utils/validation.py:623: FutureWarning: is_sparse is deprecated and will be removed in a future version. Check `isinstance(dtype, pd.SparseDtype)` instead.\n",
      "  if not hasattr(array, \"sparse\") and array.dtypes.apply(is_sparse).any():\n",
      "/Users/jarrettsung/opt/anaconda3/lib/python3.9/site-packages/sklearn/utils/validation.py:623: FutureWarning: is_sparse is deprecated and will be removed in a future version. Check `isinstance(dtype, pd.SparseDtype)` instead.\n",
      "  if not hasattr(array, \"sparse\") and array.dtypes.apply(is_sparse).any():\n",
      "/Users/jarrettsung/opt/anaconda3/lib/python3.9/site-packages/sklearn/utils/validation.py:623: FutureWarning: is_sparse is deprecated and will be removed in a future version. Check `isinstance(dtype, pd.SparseDtype)` instead.\n",
      "  if not hasattr(array, \"sparse\") and array.dtypes.apply(is_sparse).any():\n",
      "/Users/jarrettsung/opt/anaconda3/lib/python3.9/site-packages/sklearn/utils/validation.py:623: FutureWarning: is_sparse is deprecated and will be removed in a future version. Check `isinstance(dtype, pd.SparseDtype)` instead.\n",
      "  if not hasattr(array, \"sparse\") and array.dtypes.apply(is_sparse).any():\n",
      "/Users/jarrettsung/opt/anaconda3/lib/python3.9/site-packages/sklearn/utils/validation.py:623: FutureWarning: is_sparse is deprecated and will be removed in a future version. Check `isinstance(dtype, pd.SparseDtype)` instead.\n",
      "  if not hasattr(array, \"sparse\") and array.dtypes.apply(is_sparse).any():\n",
      "/Users/jarrettsung/opt/anaconda3/lib/python3.9/site-packages/sklearn/utils/validation.py:623: FutureWarning: is_sparse is deprecated and will be removed in a future version. Check `isinstance(dtype, pd.SparseDtype)` instead.\n",
      "  if not hasattr(array, \"sparse\") and array.dtypes.apply(is_sparse).any():\n",
      "/Users/jarrettsung/opt/anaconda3/lib/python3.9/site-packages/sklearn/utils/validation.py:623: FutureWarning: is_sparse is deprecated and will be removed in a future version. Check `isinstance(dtype, pd.SparseDtype)` instead.\n",
      "  if not hasattr(array, \"sparse\") and array.dtypes.apply(is_sparse).any():\n",
      "/Users/jarrettsung/opt/anaconda3/lib/python3.9/site-packages/sklearn/utils/validation.py:623: FutureWarning: is_sparse is deprecated and will be removed in a future version. Check `isinstance(dtype, pd.SparseDtype)` instead.\n",
      "  if not hasattr(array, \"sparse\") and array.dtypes.apply(is_sparse).any():\n",
      "/Users/jarrettsung/opt/anaconda3/lib/python3.9/site-packages/sklearn/utils/validation.py:623: FutureWarning: is_sparse is deprecated and will be removed in a future version. Check `isinstance(dtype, pd.SparseDtype)` instead.\n",
      "  if not hasattr(array, \"sparse\") and array.dtypes.apply(is_sparse).any():\n",
      "/Users/jarrettsung/opt/anaconda3/lib/python3.9/site-packages/sklearn/utils/validation.py:623: FutureWarning: is_sparse is deprecated and will be removed in a future version. Check `isinstance(dtype, pd.SparseDtype)` instead.\n",
      "  if not hasattr(array, \"sparse\") and array.dtypes.apply(is_sparse).any():\n",
      "/Users/jarrettsung/opt/anaconda3/lib/python3.9/site-packages/sklearn/utils/validation.py:623: FutureWarning: is_sparse is deprecated and will be removed in a future version. Check `isinstance(dtype, pd.SparseDtype)` instead.\n",
      "  if not hasattr(array, \"sparse\") and array.dtypes.apply(is_sparse).any():\n",
      "/Users/jarrettsung/opt/anaconda3/lib/python3.9/site-packages/sklearn/utils/validation.py:623: FutureWarning: is_sparse is deprecated and will be removed in a future version. Check `isinstance(dtype, pd.SparseDtype)` instead.\n",
      "  if not hasattr(array, \"sparse\") and array.dtypes.apply(is_sparse).any():\n",
      "/Users/jarrettsung/opt/anaconda3/lib/python3.9/site-packages/sklearn/utils/validation.py:623: FutureWarning: is_sparse is deprecated and will be removed in a future version. Check `isinstance(dtype, pd.SparseDtype)` instead.\n",
      "  if not hasattr(array, \"sparse\") and array.dtypes.apply(is_sparse).any():\n",
      "/Users/jarrettsung/opt/anaconda3/lib/python3.9/site-packages/sklearn/utils/validation.py:623: FutureWarning: is_sparse is deprecated and will be removed in a future version. Check `isinstance(dtype, pd.SparseDtype)` instead.\n",
      "  if not hasattr(array, \"sparse\") and array.dtypes.apply(is_sparse).any():\n",
      "/Users/jarrettsung/opt/anaconda3/lib/python3.9/site-packages/sklearn/utils/validation.py:623: FutureWarning: is_sparse is deprecated and will be removed in a future version. Check `isinstance(dtype, pd.SparseDtype)` instead.\n",
      "  if not hasattr(array, \"sparse\") and array.dtypes.apply(is_sparse).any():\n",
      "/Users/jarrettsung/opt/anaconda3/lib/python3.9/site-packages/sklearn/utils/validation.py:623: FutureWarning: is_sparse is deprecated and will be removed in a future version. Check `isinstance(dtype, pd.SparseDtype)` instead.\n",
      "  if not hasattr(array, \"sparse\") and array.dtypes.apply(is_sparse).any():\n",
      "/Users/jarrettsung/opt/anaconda3/lib/python3.9/site-packages/sklearn/utils/validation.py:623: FutureWarning: is_sparse is deprecated and will be removed in a future version. Check `isinstance(dtype, pd.SparseDtype)` instead.\n",
      "  if not hasattr(array, \"sparse\") and array.dtypes.apply(is_sparse).any():\n",
      "/Users/jarrettsung/opt/anaconda3/lib/python3.9/site-packages/sklearn/utils/validation.py:623: FutureWarning: is_sparse is deprecated and will be removed in a future version. Check `isinstance(dtype, pd.SparseDtype)` instead.\n",
      "  if not hasattr(array, \"sparse\") and array.dtypes.apply(is_sparse).any():\n",
      "/Users/jarrettsung/opt/anaconda3/lib/python3.9/site-packages/sklearn/utils/validation.py:623: FutureWarning: is_sparse is deprecated and will be removed in a future version. Check `isinstance(dtype, pd.SparseDtype)` instead.\n",
      "  if not hasattr(array, \"sparse\") and array.dtypes.apply(is_sparse).any():\n",
      "/Users/jarrettsung/opt/anaconda3/lib/python3.9/site-packages/sklearn/utils/validation.py:623: FutureWarning: is_sparse is deprecated and will be removed in a future version. Check `isinstance(dtype, pd.SparseDtype)` instead.\n",
      "  if not hasattr(array, \"sparse\") and array.dtypes.apply(is_sparse).any():\n"
     ]
    }
   ],
   "source": [
    "best_model_config = None\n",
    "best_score = -np.inf\n",
    "\n",
    "for alpha in alphas:\n",
    "  Lr = Lasso(alpha=alpha)\n",
    "  val_score = cross_val_score(Lr, X_train, y_train, cv=5).mean()\n",
    "\n",
    "print(f\"alpha = {alpha}, val_score = {val_score}\")\n",
    "if val_score >= best_score:\n",
    "  # print(\"better\")\n",
    "  best_model_config = alpha\n",
    "  best_score = val_score\n",
    "\n",
    "print(best_model_config)"
   ]
  },
  {
   "cell_type": "code",
   "execution_count": 24,
   "metadata": {
    "colab": {
     "base_uri": "https://localhost:8080/"
    },
    "id": "ww8a4Q3TzHW0",
    "outputId": "cbf18d96-2cc8-4d81-e553-a4fa07655bbd"
   },
   "outputs": [
    {
     "name": "stdout",
     "output_type": "stream",
     "text": [
      "0.03100543378022785\n"
     ]
    },
    {
     "name": "stderr",
     "output_type": "stream",
     "text": [
      "/Users/jarrettsung/opt/anaconda3/lib/python3.9/site-packages/sklearn/utils/validation.py:623: FutureWarning: is_sparse is deprecated and will be removed in a future version. Check `isinstance(dtype, pd.SparseDtype)` instead.\n",
      "  if not hasattr(array, \"sparse\") and array.dtypes.apply(is_sparse).any():\n",
      "/Users/jarrettsung/opt/anaconda3/lib/python3.9/site-packages/sklearn/utils/validation.py:623: FutureWarning: is_sparse is deprecated and will be removed in a future version. Check `isinstance(dtype, pd.SparseDtype)` instead.\n",
      "  if not hasattr(array, \"sparse\") and array.dtypes.apply(is_sparse).any():\n"
     ]
    }
   ],
   "source": [
    "Lr = Lasso(alpha=100)\n",
    "Lr.fit(X_train, y_train)\n",
    "y_pred = Lr.predict(X_test)\n",
    "print(mean_squared_error(y_pred, y_test))\n"
   ]
  },
  {
   "cell_type": "code",
   "execution_count": 25,
   "metadata": {
    "colab": {
     "base_uri": "https://localhost:8080/"
    },
    "id": "7HdW4fLsz_KQ",
    "outputId": "7d057a78-2bab-47ee-96dd-a24c37c18840"
   },
   "outputs": [
    {
     "name": "stdout",
     "output_type": "stream",
     "text": [
      "Coefficients: [ 0.  0. -0.  0.  0.  0. -0. -0. -0.  0. -0.  0.  0.  0. -0. -0. -0.  0.\n",
      "  0.  0.  0. -0.]\n"
     ]
    }
   ],
   "source": [
    "coefficients = Lr.coef_\n",
    "\n",
    "# Print or analyze the coefficients\n",
    "print(\"Coefficients:\", coefficients)\n",
    "\n",
    "# Make predictions on the validation set\n",
    "#y_pred = Lr.predict(x_val)\n",
    "\n",
    "# Calculate the mean squared error on the validation set\n",
    "# validation_score = mean_squared_error(y_val, y_pred)\n",
    "# print(\"Validation Score:\", validation_score)"
   ]
  },
  {
   "cell_type": "markdown",
   "metadata": {
    "id": "mHB3sJUv6NQi"
   },
   "source": [
    "## Plotting Our Results"
   ]
  },
  {
   "cell_type": "markdown",
   "metadata": {
    "id": "w7YRhWHCZ2nH"
   },
   "source": [
    "### Downloading team logos"
   ]
  },
  {
   "cell_type": "code",
   "execution_count": null,
   "metadata": {
    "colab": {
     "base_uri": "https://localhost:8080/"
    },
    "id": "LTxKFaxnPji3",
    "outputId": "d1cbd8fb-88ef-4517-ab45-759de0a44f59"
   },
   "outputs": [
    {
     "name": "stdout",
     "output_type": "stream",
     "text": [
      "Collecting nfl_data_py\n",
      "  Downloading nfl_data_py-0.3.1.tar.gz (16 kB)\n",
      "  Preparing metadata (setup.py) ... \u001b[?25l\u001b[?25hdone\n",
      "Requirement already satisfied: pandas>1 in /usr/local/lib/python3.10/dist-packages (from nfl_data_py) (1.5.3)\n",
      "Requirement already satisfied: appdirs>1 in /usr/local/lib/python3.10/dist-packages (from nfl_data_py) (1.4.4)\n",
      "Collecting fastparquet>0.5 (from nfl_data_py)\n",
      "  Downloading fastparquet-2023.10.1-cp310-cp310-manylinux_2_17_x86_64.manylinux2014_x86_64.whl (1.7 MB)\n",
      "\u001b[2K     \u001b[90m━━━━━━━━━━━━━━━━━━━━━━━━━━━━━━━━━━━━━━━━\u001b[0m \u001b[32m1.7/1.7 MB\u001b[0m \u001b[31m23.8 MB/s\u001b[0m eta \u001b[36m0:00:00\u001b[0m\n",
      "\u001b[?25hCollecting python-snappy>0.5 (from nfl_data_py)\n",
      "  Downloading python_snappy-0.6.1-cp310-cp310-manylinux_2_12_x86_64.manylinux2010_x86_64.whl (55 kB)\n",
      "\u001b[2K     \u001b[90m━━━━━━━━━━━━━━━━━━━━━━━━━━━━━━━━━━━━━━━━\u001b[0m \u001b[32m55.9/55.9 kB\u001b[0m \u001b[31m7.5 MB/s\u001b[0m eta \u001b[36m0:00:00\u001b[0m\n",
      "\u001b[?25hRequirement already satisfied: numpy>=1.20.3 in /usr/local/lib/python3.10/dist-packages (from fastparquet>0.5->nfl_data_py) (1.23.5)\n",
      "Collecting cramjam>=2.3 (from fastparquet>0.5->nfl_data_py)\n",
      "  Downloading cramjam-2.7.0-cp310-cp310-manylinux_2_17_x86_64.manylinux2014_x86_64.whl (1.6 MB)\n",
      "\u001b[2K     \u001b[90m━━━━━━━━━━━━━━━━━━━━━━━━━━━━━━━━━━━━━━━━\u001b[0m \u001b[32m1.6/1.6 MB\u001b[0m \u001b[31m83.3 MB/s\u001b[0m eta \u001b[36m0:00:00\u001b[0m\n",
      "\u001b[?25hRequirement already satisfied: fsspec in /usr/local/lib/python3.10/dist-packages (from fastparquet>0.5->nfl_data_py) (2023.6.0)\n",
      "Requirement already satisfied: packaging in /usr/local/lib/python3.10/dist-packages (from fastparquet>0.5->nfl_data_py) (23.2)\n",
      "Requirement already satisfied: python-dateutil>=2.8.1 in /usr/local/lib/python3.10/dist-packages (from pandas>1->nfl_data_py) (2.8.2)\n",
      "Requirement already satisfied: pytz>=2020.1 in /usr/local/lib/python3.10/dist-packages (from pandas>1->nfl_data_py) (2023.3.post1)\n",
      "Requirement already satisfied: six>=1.5 in /usr/local/lib/python3.10/dist-packages (from python-dateutil>=2.8.1->pandas>1->nfl_data_py) (1.16.0)\n",
      "Building wheels for collected packages: nfl_data_py\n",
      "  Building wheel for nfl_data_py (setup.py) ... \u001b[?25l\u001b[?25hdone\n",
      "  Created wheel for nfl_data_py: filename=nfl_data_py-0.3.1-py3-none-any.whl size=13187 sha256=4ca4f120f6efdecd4090bab51d45bee255af3a925a60d11d84ac82cb3181c0c8\n",
      "  Stored in directory: /root/.cache/pip/wheels/ca/2e/d2/4def312ac7c070e1c0002e91ecc6923481a86c3ebd5b2c5413\n",
      "Successfully built nfl_data_py\n",
      "Installing collected packages: python-snappy, cramjam, fastparquet, nfl_data_py\n",
      "Successfully installed cramjam-2.7.0 fastparquet-2023.10.1 nfl_data_py-0.3.1 python-snappy-0.6.1\n"
     ]
    }
   ],
   "source": [
    "pip install nfl_data_py"
   ]
  },
  {
   "cell_type": "code",
   "execution_count": 136,
   "metadata": {
    "colab": {
     "base_uri": "https://localhost:8080/",
     "height": 1000
    },
    "id": "hrQ5XApTO_Qh",
    "outputId": "0dcdb1d0-87e5-426f-9faa-7c88da3087d4"
   },
   "outputs": [
    {
     "name": "stdout",
     "output_type": "stream",
     "text": [
      "  team_abbr          team_name  team_id  team_nick team_conf team_division  \\\n",
      "0       ARI  Arizona Cardinals     3800  Cardinals       NFC      NFC West   \n",
      "1       ATL    Atlanta Falcons      200    Falcons       NFC     NFC South   \n",
      "2       BAL   Baltimore Ravens      325     Ravens       AFC     AFC North   \n",
      "3       BUF      Buffalo Bills      610      Bills       AFC      AFC East   \n",
      "4       CAR  Carolina Panthers      750   Panthers       NFC     NFC South   \n",
      "\n",
      "  team_color team_color2 team_color3 team_color4  \\\n",
      "0    #97233F     #000000     #ffb612     #a5acaf   \n",
      "1    #A71930     #000000     #a5acaf     #a30d2d   \n",
      "2    #241773     #9E7C0C     #9e7c0c     #c60c30   \n",
      "3    #00338D     #C60C30     #0c2e82     #d50a0a   \n",
      "4    #0085CA     #000000     #bfc0bf     #0085ca   \n",
      "\n",
      "                                 team_logo_wikipedia  \\\n",
      "0  https://upload.wikimedia.org/wikipedia/en/thum...   \n",
      "1  https://upload.wikimedia.org/wikipedia/en/thum...   \n",
      "2  https://upload.wikimedia.org/wikipedia/en/thum...   \n",
      "3  https://upload.wikimedia.org/wikipedia/en/thum...   \n",
      "4  https://upload.wikimedia.org/wikipedia/en/thum...   \n",
      "\n",
      "                                      team_logo_espn  \\\n",
      "0  https://a.espncdn.com/i/teamlogos/nfl/500/ari.png   \n",
      "1  https://a.espncdn.com/i/teamlogos/nfl/500/atl.png   \n",
      "2  https://a.espncdn.com/i/teamlogos/nfl/500/bal.png   \n",
      "3  https://a.espncdn.com/i/teamlogos/nfl/500/buf.png   \n",
      "4  https://a.espncdn.com/i/teamlogos/nfl/500-dark...   \n",
      "\n",
      "                                       team_wordmark  \\\n",
      "0  https://github.com/nflverse/nflverse-pbp/raw/m...   \n",
      "1  https://github.com/nflverse/nflverse-pbp/raw/m...   \n",
      "2  https://github.com/nflverse/nflverse-pbp/raw/m...   \n",
      "3  https://github.com/nflverse/nflverse-pbp/raw/m...   \n",
      "4  https://github.com/nflverse/nflverse-pbp/raw/m...   \n",
      "\n",
      "                                team_conference_logo  \\\n",
      "0  https://github.com/nflverse/nflverse-pbp/raw/m...   \n",
      "1  https://github.com/nflverse/nflverse-pbp/raw/m...   \n",
      "2  https://github.com/nflverse/nflverse-pbp/raw/m...   \n",
      "3  https://github.com/nflverse/nflverse-pbp/raw/m...   \n",
      "4  https://github.com/nflverse/nflverse-pbp/raw/m...   \n",
      "\n",
      "                                    team_league_logo  \\\n",
      "0  https://raw.githubusercontent.com/nflverse/nfl...   \n",
      "1  https://raw.githubusercontent.com/nflverse/nfl...   \n",
      "2  https://raw.githubusercontent.com/nflverse/nfl...   \n",
      "3  https://raw.githubusercontent.com/nflverse/nfl...   \n",
      "4  https://raw.githubusercontent.com/nflverse/nfl...   \n",
      "\n",
      "                                   team_logo_squared  \n",
      "0  https://github.com/nflverse/nflverse-pbp/raw/m...  \n",
      "1  https://github.com/nflverse/nflverse-pbp/raw/m...  \n",
      "2  https://github.com/nflverse/nflverse-pbp/raw/m...  \n",
      "3  https://github.com/nflverse/nflverse-pbp/raw/m...  \n",
      "4  https://github.com/nflverse/nflverse-pbp/raw/m...  \n",
      "                     Team Abbr    Color   Color2   Color3  \\\n",
      "31    San Francisco 49ers   SF  #AA0000  #B3995D  #000000   \n",
      "32         St. Louis Rams  STL  #003594  #FFD100  #001532   \n",
      "33   Tampa Bay Buccaneers   TB  #A71930  #322F2B  #000000   \n",
      "34       Tennessee Titans  TEN  #002244  #4B92DB  #c60c30   \n",
      "35  Washington Commanders  WAS  #5A1414  #FFB612  #000000   \n",
      "\n",
      "                                                 Logo  \n",
      "31   https://a.espncdn.com/i/teamlogos/nfl/500/sf.png  \n",
      "32  https://a.espncdn.com/i/teamlogos/nfl/500/lar.png  \n",
      "33   https://a.espncdn.com/i/teamlogos/nfl/500/tb.png  \n",
      "34  https://a.espncdn.com/i/teamlogos/nfl/500/ten.png  \n",
      "35  https://a.espncdn.com/i/teamlogos/nfl/500/wsh.png  \n",
      "https://raw.githubusercontent.com/nflverse/nflverse-pbp/master/NFL.png\n"
     ]
    },
    {
     "name": "stderr",
     "output_type": "stream",
     "text": [
      "/var/folders/57/_67sn0dn0cx_5gdz2k4q716w0000gn/T/ipykernel_5965/3962899810.py:6: SettingWithCopyWarning: \n",
      "A value is trying to be set on a copy of a slice from a DataFrame\n",
      "\n",
      "See the caveats in the documentation: https://pandas.pydata.org/pandas-docs/stable/user_guide/indexing.html#returning-a-view-versus-a-copy\n",
      "  logos.rename(columns={'team_name':'Team', 'team_abbr': 'Abbr', 'team_color':'Color', 'team_color2': 'Color2',\n"
     ]
    }
   ],
   "source": [
    "import nfl_data_py as nfl\n",
    "temp = nfl.import_team_desc()\n",
    "print(temp.head())\n",
    "\n",
    "logos = temp[['team_name', 'team_abbr', 'team_color', 'team_color2', 'team_color3', 'team_logo_espn']]\n",
    "logos.rename(columns={'team_name':'Team', 'team_abbr': 'Abbr', 'team_color':'Color', 'team_color2': 'Color2',\n",
    "                     'team_color3': 'Color3', 'team_logo_espn': 'Logo'}, inplace=True)\n",
    "print(logos.tail())\n",
    "print(temp['team_league_logo'][0])"
   ]
  },
  {
   "cell_type": "code",
   "execution_count": 36,
   "metadata": {
    "colab": {
     "base_uri": "https://localhost:8080/"
    },
    "id": "rysoL56ZTKIm",
    "outputId": "68cc64fa-6854-452c-b7ff-d6bbeb607b7d"
   },
   "outputs": [
    {
     "name": "stdout",
     "output_type": "stream",
     "text": [
      "0     /Users/jarrettsung/Documents/GitHub/NFL-Win-Pr...\n",
      "1     /Users/jarrettsung/Documents/GitHub/NFL-Win-Pr...\n",
      "2     /Users/jarrettsung/Documents/GitHub/NFL-Win-Pr...\n",
      "3     /Users/jarrettsung/Documents/GitHub/NFL-Win-Pr...\n",
      "4     /Users/jarrettsung/Documents/GitHub/NFL-Win-Pr...\n",
      "5     /Users/jarrettsung/Documents/GitHub/NFL-Win-Pr...\n",
      "6     /Users/jarrettsung/Documents/GitHub/NFL-Win-Pr...\n",
      "7     /Users/jarrettsung/Documents/GitHub/NFL-Win-Pr...\n",
      "8     /Users/jarrettsung/Documents/GitHub/NFL-Win-Pr...\n",
      "9     /Users/jarrettsung/Documents/GitHub/NFL-Win-Pr...\n",
      "10    /Users/jarrettsung/Documents/GitHub/NFL-Win-Pr...\n",
      "11    /Users/jarrettsung/Documents/GitHub/NFL-Win-Pr...\n",
      "12    /Users/jarrettsung/Documents/GitHub/NFL-Win-Pr...\n",
      "13    /Users/jarrettsung/Documents/GitHub/NFL-Win-Pr...\n",
      "14    /Users/jarrettsung/Documents/GitHub/NFL-Win-Pr...\n",
      "15    /Users/jarrettsung/Documents/GitHub/NFL-Win-Pr...\n",
      "16    /Users/jarrettsung/Documents/GitHub/NFL-Win-Pr...\n",
      "17    /Users/jarrettsung/Documents/GitHub/NFL-Win-Pr...\n",
      "18    /Users/jarrettsung/Documents/GitHub/NFL-Win-Pr...\n",
      "19    /Users/jarrettsung/Documents/GitHub/NFL-Win-Pr...\n",
      "20    /Users/jarrettsung/Documents/GitHub/NFL-Win-Pr...\n",
      "21    /Users/jarrettsung/Documents/GitHub/NFL-Win-Pr...\n",
      "22    /Users/jarrettsung/Documents/GitHub/NFL-Win-Pr...\n",
      "23    /Users/jarrettsung/Documents/GitHub/NFL-Win-Pr...\n",
      "24    /Users/jarrettsung/Documents/GitHub/NFL-Win-Pr...\n",
      "25    /Users/jarrettsung/Documents/GitHub/NFL-Win-Pr...\n",
      "26    /Users/jarrettsung/Documents/GitHub/NFL-Win-Pr...\n",
      "27    /Users/jarrettsung/Documents/GitHub/NFL-Win-Pr...\n",
      "28    /Users/jarrettsung/Documents/GitHub/NFL-Win-Pr...\n",
      "29    /Users/jarrettsung/Documents/GitHub/NFL-Win-Pr...\n",
      "30    /Users/jarrettsung/Documents/GitHub/NFL-Win-Pr...\n",
      "31    /Users/jarrettsung/Documents/GitHub/NFL-Win-Pr...\n",
      "Name: Logo Path, dtype: object\n"
     ]
    }
   ],
   "source": [
    "import urllib.request\n",
    "import pandas as pd\n",
    "import os\n",
    "# Initialize an empty list for the logo file paths\n",
    "logo_paths = []\n",
    "\n",
    "# Initialize an empty list for the team abbreviations\n",
    "team_abbr = []\n",
    "\n",
    "#Initialize an empty list for the team names\n",
    "teams = []\n",
    "\n",
    "# Create a folder for the image files if it doesn't exist\n",
    "\n",
    "# if not os.path.exists(\"logos\"):\n",
    "#     os.makedirs(\"logos\")\n",
    "\n",
    "\n",
    "filepath_logos = '/Users/jarrettsung/Documents/GitHub/NFL-Win-Prediction-Project/logos'\n",
    "\n",
    "\n",
    "\n",
    "# Pull the team logos from the URL and save them in the logos folder, save the file paths to\n",
    "for team in range(len(logos)):\n",
    "#     urllib.request.urlretrieve(logos['Logo'][team], f\"logos/{logos['Abbr'][team]}.tif\")\n",
    "    logo_paths.append(f\"{filepath_logos}/{logos['Abbr'][team]}.tif\")\n",
    "    team_abbr.append(logos['Abbr'][team])\n",
    "    teams.append(logos['Team'][team])\n",
    "# Create a dictionary to put logo_paths and team_abbr in\n",
    "data = {'Team': teams,'Abbr' : team_abbr, 'Logo Path' : logo_paths}\n",
    "\n",
    "# Create a DataFrame from the dictionary\n",
    "logo_df = pd.DataFrame(data)\n",
    "logo_df = logo_df.drop([16, 26, 29, 32])\n",
    "logo_df = logo_df.reset_index(drop=True)\n",
    "print(logo_df['Logo Path'])"
   ]
  },
  {
   "cell_type": "code",
   "execution_count": 137,
   "metadata": {},
   "outputs": [
    {
     "data": {
      "text/plain": [
       "('logos/WAS.tif', <http.client.HTTPMessage at 0x7f819fdabbe0>)"
      ]
     },
     "execution_count": 137,
     "metadata": {},
     "output_type": "execute_result"
    }
   ],
   "source": [
    "#urllib.request.urlretrieve('https://raw.githubusercontent.com/nflverse/nflverse-pbp/master/NFL.png', f\"logos/NFL.tif\")\n",
    "urllib.request.urlretrieve(logos['Logo'][35], f\"logos/WAS.tif\")\n"
   ]
  },
  {
   "cell_type": "code",
   "execution_count": 32,
   "metadata": {
    "id": "F4j6e2LDZBxd"
   },
   "outputs": [],
   "source": [
    "from matplotlib.offsetbox import OffsetImage, AnnotationBbox\n",
    "\n",
    "# Define a function for getting the image path and loading it into the visualization\n",
    "def getImage(path, zoom):\n",
    "    return OffsetImage(plt.imread(path, format=\"tif\"), zoom=zoom)\n"
   ]
  },
  {
   "cell_type": "markdown",
   "metadata": {
    "id": "naAiM0RY6Sth"
   },
   "source": [
    "### Plot Overall Season Results, Both Predicted and Actual Wins"
   ]
  },
  {
   "cell_type": "code",
   "execution_count": 163,
   "metadata": {
    "colab": {
     "base_uri": "https://localhost:8080/"
    },
    "id": "vUt7eU176M_7",
    "outputId": "9a194c6a-b0be-4c2c-dace-f556a932871d"
   },
   "outputs": [
    {
     "name": "stdout",
     "output_type": "stream",
     "text": [
      "   Unnamed: 0               Team  Year  Predicted Wins  Actual Wins\n",
      "0           0  Arizona Cardinals  2021       10.779816         11.0\n",
      "1           1  Arizona Cardinals  2022        4.938902          4.0\n",
      "2           2    Atlanta Falcons  2021        3.935770          7.0\n",
      "3           3    Atlanta Falcons  2022        8.332040          7.0\n",
      "4           4   Baltimore Ravens  2021        8.109393          8.0\n"
     ]
    },
    {
     "data": {
      "text/plain": [
       "array(['Arizona Cardinals', 'Atlanta Falcons', 'Baltimore Ravens',\n",
       "       'Buffalo Bills', 'Carolina Panthers', 'Chicago Bears',\n",
       "       'Cincinnati Bengals', 'Cleveland Browns', 'Dallas Cowboys',\n",
       "       'Denver Broncos', 'Detroit Lions', 'Green Bay Packers',\n",
       "       'Houston Texans', 'Indianapolis Colts', 'Jacksonville Jaguars',\n",
       "       'Kansas City Chiefs', 'Las Vegas Raiders', 'Los Angeles Chargers',\n",
       "       'Los Angeles Rams', 'Miami Dolphins', 'Minnesota Vikings',\n",
       "       'New England Patriots', 'New Orleans Saints', 'New York Giants',\n",
       "       'New York Jets', 'Philadelphia Eagles', 'Pittsburgh Steelers',\n",
       "       'San Francisco 49ers', 'Seattle Seahawks', 'Tampa Bay Buccaneers',\n",
       "       'Tennessee Titans', 'Washington Commanders'], dtype=object)"
      ]
     },
     "execution_count": 163,
     "metadata": {},
     "output_type": "execute_result"
    }
   ],
   "source": [
    "import matplotlib.pyplot as plt\n",
    "import pandas as pd\n",
    "import numpy as np\n",
    "\n",
    "filepath_predictions = '/Users/jarrettsung/Documents/GitHub/NFL-Win-Prediction-Project/CSVs/predictions.csv'\n",
    "plot_data = pd.read_csv(filepath_predictions)\n",
    "\n",
    "\n",
    "print(plot_data.head())\n",
    "\n",
    "\n",
    "# Get predicted and actual win totals for the given year\n",
    "year = 2021\n",
    "teams = plot_data.Team.unique()  \n",
    "predicted_wins_2021 = plot_data.loc[plot_data['Year'] == year, 'Predicted Wins'] # Predicted win totals\n",
    "actual_wins_2021 = plot_data.loc[plot_data['Year'] == year, 'Actual Wins'] # Actual win totals\n",
    "\n",
    "\n",
    "# Calculate differences for error bars\n",
    "differences = np.abs(np.array(predicted_wins_2021) - np.array(actual_wins_2021))\n",
    "\n",
    "teams"
   ]
  },
  {
   "cell_type": "markdown",
   "metadata": {
    "id": "JynlNrvg-9sR"
   },
   "source": [
    "### 1 bar method"
   ]
  },
  {
   "cell_type": "code",
   "execution_count": 157,
   "metadata": {
    "colab": {
     "base_uri": "https://localhost:8080/",
     "height": 245
    },
    "id": "XwuwOhvTcXnA",
    "outputId": "53d39e38-d871-4d74-faac-e01df4704488"
   },
   "outputs": [
    {
     "name": "stdout",
     "output_type": "stream",
     "text": [
      "4.26782075697597\n",
      "32\n",
      "32\n"
     ]
    }
   ],
   "source": [
    "# Combine the data and sort by predicted wins\n",
    "combined = list(zip(teams, actual_wins_2021, predicted_wins_2021, differences))\n",
    "combined.sort(key=lambda x: x[2], reverse=False)  # Sort by predicted wins\n",
    "\n",
    "# Unzip the sorted data\n",
    "teams_sorted, actual_wins_sorted, predicted_wins_sorted, errors_sorted = zip(*combined)\n",
    "print(np.max(errors_sorted))\n",
    "# Plotting\n",
    "x = np.arange(len(teams_sorted))  # the label locations\n",
    "\n",
    "temp_logo_df = logo_df\n",
    "print(len(temp_logo_df))\n",
    "print(len(teams_sorted))\n",
    "\n",
    "#Map sorted teams\n",
    "team_to_logos = dict(zip(temp_logo_df['Team'], temp_logo_df['Logo Path']))\n",
    "\n",
    "# Map the sorted list of teams to their logo paths\n",
    "logos_sorted = [team_to_logos[team] for team in teams_sorted if team in team_to_logos]\n",
    "\n",
    "#Map sorted teams\n",
    "team_to_abbreviation = dict(zip(temp_logo_df['Team'], temp_logo_df['Abbr']))\n",
    "\n",
    "# Map the sorted list of teams to their abbreviations\n",
    "abbr_sorted = [team_to_abbreviation[team] for team in teams_sorted if team in team_to_abbreviation]\n",
    "\n"
   ]
  },
  {
   "cell_type": "code",
   "execution_count": 158,
   "metadata": {},
   "outputs": [],
   "source": [
    "import matplotlib.pyplot as plt\n",
    "from matplotlib.offsetbox import OffsetImage, AnnotationBbox\n",
    "from matplotlib.legend_handler import HandlerBase\n",
    "\n",
    "class ImageHandler(HandlerBase):\n",
    "    def create_artists(self, legend, orig_handle, x0, y0, width, height, fontsize, trans):\n",
    "        # Ensure that the image path is correct and points to an image file\n",
    "        path = orig_handle.get_path()\n",
    "        img = plt.imread(path)\n",
    "        zoom = orig_handle.get_zoom()\n",
    "        \n",
    "        offset_img = OffsetImage(img, zoom=zoom)\n",
    "        ab = AnnotationBbox(offset_img, (x0 + width / 2., y0 + height / 2.),\n",
    "                            xycoords='axes fraction', frameon=False, box_alignment=(0.5, 0.5))\n",
    "        ab.set_transform(trans)\n",
    "        return [ab]\n",
    "    \n",
    "\n",
    "# Add custom legend with an image for 'Predicted Wins'\n",
    "image_path = '/Users/jarrettsung/Documents/GitHub/NFL-Win-Prediction-Project/logos/NFL.tif'\n",
    "image_legend = getImage(image_path, zoom=0.1)  # Set zoom level accordingly\n",
    "#image_legend.set_path(image_path)  # Store the path to be used in the custom handler\n"
   ]
  },
  {
   "cell_type": "code",
   "execution_count": 159,
   "metadata": {},
   "outputs": [
    {
     "ename": "ModuleNotFoundError",
     "evalue": "No module named 'matplotlib.png'",
     "output_type": "error",
     "traceback": [
      "\u001b[0;31m---------------------------------------------------------------------------\u001b[0m",
      "\u001b[0;31mModuleNotFoundError\u001b[0m                       Traceback (most recent call last)",
      "Input \u001b[0;32mIn [159]\u001b[0m, in \u001b[0;36m<cell line: 6>\u001b[0;34m()\u001b[0m\n\u001b[1;32m      4\u001b[0m \u001b[38;5;28;01mfrom\u001b[39;00m \u001b[38;5;21;01mmatplotlib\u001b[39;00m\u001b[38;5;21;01m.\u001b[39;00m\u001b[38;5;21;01mimage\u001b[39;00m \u001b[38;5;28;01mimport\u001b[39;00m BboxImage\n\u001b[1;32m      5\u001b[0m \u001b[38;5;28;01mfrom\u001b[39;00m \u001b[38;5;21;01mmatplotlib\u001b[39;00m\u001b[38;5;21;01m.\u001b[39;00m\u001b[38;5;21;01mlegend_handler\u001b[39;00m \u001b[38;5;28;01mimport\u001b[39;00m HandlerBase\n\u001b[0;32m----> 6\u001b[0m \u001b[38;5;28;01mfrom\u001b[39;00m \u001b[38;5;21;01mmatplotlib\u001b[39;00m\u001b[38;5;21;01m.\u001b[39;00m\u001b[38;5;21;01mpng\u001b[39;00m \u001b[38;5;28;01mimport\u001b[39;00m read_png\n\u001b[1;32m      8\u001b[0m \u001b[38;5;28;01mclass\u001b[39;00m \u001b[38;5;21;01mImageHandler\u001b[39;00m(HandlerBase):\n\u001b[1;32m      9\u001b[0m     \u001b[38;5;28;01mdef\u001b[39;00m \u001b[38;5;21mcreate_artists\u001b[39m(\u001b[38;5;28mself\u001b[39m, legend, orig_handle,\n\u001b[1;32m     10\u001b[0m                        xdescent, ydescent, width, height, fontsize,\n\u001b[1;32m     11\u001b[0m                        trans):\n\u001b[1;32m     12\u001b[0m \n\u001b[1;32m     13\u001b[0m         \u001b[38;5;66;03m# enlarge the image by these margins\u001b[39;00m\n",
      "\u001b[0;31mModuleNotFoundError\u001b[0m: No module named 'matplotlib.png'"
     ]
    }
   ],
   "source": [
    "import os\n",
    "\n",
    "from matplotlib.transforms import TransformedBbox\n",
    "from matplotlib.image import BboxImage\n",
    "from matplotlib.legend_handler import HandlerBase\n",
    "from matplotlib.png import read_png\n",
    "\n",
    "class ImageHandler(HandlerBase):\n",
    "    def create_artists(self, legend, orig_handle,\n",
    "                       xdescent, ydescent, width, height, fontsize,\n",
    "                       trans):\n",
    "\n",
    "        # enlarge the image by these margins\n",
    "        sx, sy = self.image_stretch \n",
    "\n",
    "        # create a bounding box to house the image\n",
    "        bb = Bbox.from_bounds(xdescent - sx,\n",
    "                              ydescent - sy,\n",
    "                              width + sx,\n",
    "                              height + sy)\n",
    "\n",
    "        tbb = TransformedBbox(bb, trans)\n",
    "        image = BboxImage(tbb)\n",
    "        image.set_data(self.image_data)\n",
    "\n",
    "        self.update_prop(image, orig_handle, legend)\n",
    "\n",
    "        return [image]\n",
    "\n",
    "    def set_image(self, image_path, image_stretch=(0, 0)):\n",
    "        if not os.path.exists(image_path):\n",
    "            sample = get_sample_data(\"grace_hopper.png\", asfileobj=False)\n",
    "            self.image_data = read_png(sample)\n",
    "        else:\n",
    "            self.image_data = read_png(image_path)\n",
    "\n",
    "        self.image_stretch = image_stretch\n",
    "        \n",
    "        \n",
    "# setup the handler instance for the scattered data\n",
    "custom_handler = ImageHandler()\n",
    "custom_handler.set_image('/Users/jarrettsung/Documents/GitHub/NFL-Win-Prediction-Project/logos/NFL.tif',\n",
    "                         image_stretch=(0, 20)) # this is for grace hopper\n",
    "\n"
   ]
  },
  {
   "cell_type": "code",
   "execution_count": 160,
   "metadata": {},
   "outputs": [
    {
     "data": {
      "image/png": "[encoded data removed]",
      "text/plain": [
       "<Figure size 1080x504 with 1 Axes>"
      ]
     },
     "metadata": {
      "needs_background": "light"
     },
     "output_type": "display_data"
    },
    {
     "name": "stdout",
     "output_type": "stream",
     "text": [
      "    Unnamed: 0             Team  Year  Predicted Wins  Actual Wins\n",
      "46          46  New York Giants  2021        3.731620          4.0\n",
      "47          47  New York Giants  2022        8.461972          9.0\n"
     ]
    }
   ],
   "source": [
    "from matplotlib.ticker import MaxNLocator\n",
    "from matplotlib.lines import Line2D\n",
    "\n",
    "# Plotting\n",
    "fig, ax = plt.subplots(figsize=(15, 7))  # 10 inches wide by 5 inches tall\n",
    "\n",
    "# Create each bar with the base color (blue)\n",
    "bars = ax.bar(teams_sorted, predicted_wins_sorted, color='white', label='Predicted Wins')\n",
    "\n",
    "# Add the color for the actual wins (green for actual > predicted, red for actual < predicted)\n",
    "for i in range(len(teams_sorted)):\n",
    "    if actual_wins_sorted[i] > predicted_wins_sorted[i]:\n",
    "        # If actual wins are greater, color the top part of the bar green\n",
    "        ax.bar(teams_sorted[i], actual_wins_sorted[i] - predicted_wins_sorted[i],\n",
    "               bottom=predicted_wins_sorted[i], color='green', label='Actual Wins (Higher)')\n",
    "    elif actual_wins_sorted[i] < predicted_wins_sorted[i]:\n",
    "        # If actual wins are lower, color the top part of the bar red\n",
    "        ax.bar(teams_sorted[i], predicted_wins_sorted[i] - actual_wins_sorted[i],\n",
    "               bottom=actual_wins_sorted[i], color='red', label='Actual Wins (Lower)')\n",
    "\n",
    "# Place images to indicate predicted wins\n",
    "for bar, img_path, actual, predicted in zip(bars, logos_sorted, actual_wins_sorted, predicted_wins_sorted):\n",
    "    ab = AnnotationBbox(getImage(img_path, 0.05),\n",
    "                        (bar.get_x() + bar.get_width() / 2, bar.get_height() - 0.4),\n",
    "                        frameon=False,\n",
    "                        box_alignment=(0.5, 0))\n",
    "    ax.add_artist(ab)\n",
    "\n",
    "# Add labels and title\n",
    "ax.set_ylabel('Wins')\n",
    "ax.set_title('NFL Team Wins: Actual vs Predicted')\n",
    "\n",
    "\n",
    "\n",
    "# Add some text for labels, title, and custom x-axis tick labels\n",
    "ax.set_ylabel('Wins')\n",
    "ax.set_title('NFL Team Wins: Predicted with Error')\n",
    "ax.set_xticks(x)\n",
    "ax.set_xticklabels(abbr_sorted, rotation=90, ha='center')\n",
    "ax.set_yticks(range(16))  # range(16) produces integers from 0 to 15 inclusive\n",
    "\n",
    "\n",
    "# Create legend handles manually\n",
    "handles = [\n",
    "    plt.Rectangle((0,0),1,1, color='green', label='Actual Wins > Predicted Wins)'),\n",
    "    plt.Rectangle((0,0),1,1, color='red', label='Actual Wins < Predicted Wins')\n",
    "]\n",
    "\n",
    "\n",
    "\n",
    "# Add the legend\n",
    "ax.legend(handles=handles, bbox_to_anchor=(0.5, 1))\n",
    "\n",
    "# Add a grid\n",
    "ax.grid(True)  # Turn the grid on\n",
    "ax.grid(which='both', linestyle='--', linewidth=0.5, color='gray', alpha=0.7)\n",
    "\n",
    "# Show the plot\n",
    "plt.show()\n",
    "print(plot_data[plot_data['Team'] == 'New York Giants'])"
   ]
  },
  {
   "cell_type": "markdown",
   "metadata": {
    "id": "i_jrfF58oWbj"
   },
   "source": [
    "### Plotting Difference Between Predicted and Actual Win Total"
   ]
  },
  {
   "cell_type": "code",
   "execution_count": 161,
   "metadata": {
    "colab": {
     "base_uri": "https://localhost:8080/"
    },
    "id": "86WY6NvFmqFK",
    "outputId": "47c10450-62af-448b-8a05-bbb2cf6c1d31"
   },
   "outputs": [
    {
     "name": "stdout",
     "output_type": "stream",
     "text": [
      "32\n"
     ]
    }
   ],
   "source": [
    "import numpy as np\n",
    "import matplotlib.pyplot as plt\n",
    "\n",
    "differences = -1 * (np.array(predicted_wins_2021) - np.array(actual_wins_2021))\n",
    "\n",
    "# Combine the data and sort by predicted wins\n",
    "combined = list(zip(teams, actual_wins_2021, predicted_wins_2021, differences))\n",
    "combined.sort(key=lambda x: x[3], reverse=False)  # Sort by differences\n",
    "# print(combined)\n",
    "\n",
    "# Unzip the sorted data\n",
    "teams_sorted, actual_wins_sorted, predicted_wins_sorted, errors_sorted = zip(*combined)\n",
    "\n",
    "# Plotting\n",
    "x = np.arange(len(teams_sorted))  # the label locations\n",
    "\n",
    "# Map the sorted list of teams to their abbreviations\n",
    "abbr_sorted = [team_to_abbreviation[team] for team in teams_sorted if team in team_to_abbreviation]\n",
    "print(len(abbr_sorted))\n",
    "\n",
    "# #Drops the Commanders due to not being in current data\n",
    "temp_logo_df = logo_df\n",
    "# print(len(temp_logo_df))\n",
    "# print(len(teams_sorted))\n",
    "\n",
    "#Map sorted teams\n",
    "team_to_logos = dict(zip(temp_logo_df['Team'], temp_logo_df['Logo Path']))\n",
    "\n",
    "# Map the sorted list of teams to their logo paths\n",
    "logos_sorted = [team_to_logos[team] for team in teams_sorted if team in team_to_logos]"
   ]
  },
  {
   "cell_type": "code",
   "execution_count": 165,
   "metadata": {
    "colab": {
     "base_uri": "https://localhost:8080/",
     "height": 470
    },
    "id": "uEuvUZQ1aq7G",
    "outputId": "c2784878-6665-4eac-8c06-84d216c70217"
   },
   "outputs": [
    {
     "data": {
      "image/png": "[encoded data removed]",
      "text/plain": [
       "<Figure size 1080x576 with 1 Axes>"
      ]
     },
     "metadata": {
      "needs_background": "light"
     },
     "output_type": "display_data"
    }
   ],
   "source": [
    "from matplotlib.offsetbox import OffsetImage, AnnotationBbox\n",
    "import matplotlib.pyplot as plt\n",
    "import matplotlib.image as mpimg\n",
    "\n",
    "# Plotting\n",
    "fig, ax = plt.subplots(figsize=(15, 8))  # 10 inches wide by 5 inches tall\n",
    "bars = ax.bar(abbr_sorted, errors_sorted, color=['green' if x > 0 else 'red' for x in errors_sorted])\n",
    "\n",
    "\n",
    "# Place images on top of the bars\n",
    "for bar, img_path in zip(bars, logos_sorted):\n",
    "    if bar.get_height() > 0:\n",
    "        ab = AnnotationBbox(getImage(img_path, 0.05),\n",
    "                        (bar.get_x() + bar.get_width() / 2, bar.get_height()),\n",
    "                        frameon=False,\n",
    "                        box_alignment=(0.5, 0))\n",
    "        ax.add_artist(ab)\n",
    "    else:\n",
    "        ab = AnnotationBbox(getImage(img_path, 0.05),\n",
    "                        (bar.get_x() + bar.get_width() / 2, bar.get_height() - 0.4),\n",
    "                        frameon=False,\n",
    "                        box_alignment=(0.5, 0))\n",
    "        ax.add_artist(ab)\n",
    "\n",
    "# Add labels and title\n",
    "ax.set_ylabel('Predicted Wins - Actual Wins')\n",
    "ax.set_title('NFL Team Wins: Model Accuracy')\n",
    "\n",
    "# Customize x-axis tick labels\n",
    "ax.set_xticks(x)\n",
    "ax.set_xticklabels(abbr_sorted, rotation=90, ha='center')\n",
    "\n",
    "# Increase the y-axis size to handle the logos at the top/bottom of bars\n",
    "y_min = min(differences) - 1\n",
    "y_max = max(differences) + 1\n",
    "ax.set_ylim(y_min, y_max)\n",
    "\n",
    "# Create legend handles manually\n",
    "handles = [\n",
    "    plt.Rectangle((0, 0), 1, 1, color='green', label='Team Outperformed Model (Actual > Predicted)'),\n",
    "    plt.Rectangle((0, 0), 1, 1, color='red', label='Team Underperformed Model (Actual < Predicted)')\n",
    "]\n",
    "\n",
    "# Add the legend\n",
    "ax.legend(handles=handles, bbox_to_anchor=(0.5, 1))\n",
    "\n",
    "# Add a grid\n",
    "ax.grid(True)  # Turn the grid on\n",
    "ax.grid(which='both', linestyle='--', linewidth=0.5, color='gray', alpha=0.7)\n",
    "\n",
    "plt.savefig(f'model_error_{year}.png')\n",
    "# Show the plot\n",
    "plt.show()\n"
   ]
  }
 ],
 "metadata": {
  "colab": {
   "provenance": []
  },
  "kernelspec": {
   "display_name": "Python 3 (ipykernel)",
   "language": "python",
   "name": "python3"
  },
  "language_info": {
   "codemirror_mode": {
    "name": "ipython",
    "version": 3
   },
   "file_extension": ".py",
   "mimetype": "text/x-python",
   "name": "python",
   "nbconvert_exporter": "python",
   "pygments_lexer": "ipython3",
   "version": "3.9.12"
  }
 },
 "nbformat": 4,
 "nbformat_minor": 1
}
